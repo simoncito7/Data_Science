{
  "nbformat": 4,
  "nbformat_minor": 0,
  "metadata": {
    "colab": {
      "name": "Ejercicios_Adicionales.ipynb",
      "provenance": [],
      "collapsed_sections": [],
      "include_colab_link": true
    },
    "kernelspec": {
      "name": "python3",
      "display_name": "Python 3"
    }
  },
  "cells": [
    {
      "cell_type": "markdown",
      "metadata": {
        "id": "view-in-github",
        "colab_type": "text"
      },
      "source": [
        "<a href=\"https://colab.research.google.com/github/al34n1x/datascience/blob/master/ejercicios_adicionales/Ejercicios_Adicionales_Resolucion.ipynb\" target=\"_parent\"><img src=\"https://colab.research.google.com/assets/colab-badge.svg\" alt=\"Open In Colab\"/></a>"
      ]
    },
    {
      "cell_type": "markdown",
      "metadata": {
        "id": "yxAz7t_pcMwJ",
        "colab_type": "toc"
      },
      "source": [
        ">[EJERCICIOS ADICIONALES [RESOLUCIÓN - CODE SNIPPETS]](#scrollTo=fUVK2_K_FPKN)\n",
        "\n",
        ">>[Ejercicio 1.1: Calendario](#scrollTo=8CDnCCsiEv0g)\n",
        "\n",
        ">>[Ejercicio 1.2: Cadenas](#scrollTo=n-BEZTJ2G_0_)\n",
        "\n",
        ">>[Ejercicio 1.3: Lista ordernamiento](#scrollTo=fA8qpK5uHvmQ)\n",
        "\n",
        ">>[Ejercicio 1.4: Cálculos básicos con listas y números](#scrollTo=MilrfQ6tIbK_)\n",
        "\n",
        ">>[Ejercicio 1.5: Plegado de un texto.](#scrollTo=2jIaIZSrI0FM)\n",
        "\n",
        ">>[Ejercicio 1.6: Lista, busqueda y posición](#scrollTo=1nMIojg8Yywn)\n",
        "\n",
        ">>[Ejercicio 1.7:  Lista de valores, máximo y su posición](#scrollTo=i2FFJ_wvZLYT)\n",
        "\n",
        ">>[Ejercicio 1.8: Agenda](#scrollTo=2LtXCMc2Zc0S)\n",
        "\n",
        ">>[Ejercicio 1.9: Diccionario, Clave - Palabra](#scrollTo=oVImUMZGZyKh)\n",
        "\n",
        ">>[Ejercicio 1.10:  Diccionario - Contar](#scrollTo=LYaziRfPaEnF)\n",
        "\n",
        ">>[Ejercicio 1.11: Agenda - Continuación](#scrollTo=gK-JAsicaluk)\n",
        "\n",
        ">>[Ejercicio 1.12: Numpy, Pandas y Archivos](#scrollTo=N3UO8THSbEug)\n",
        "\n"
      ]
    },
    {
      "cell_type": "markdown",
      "metadata": {
        "id": "fUVK2_K_FPKN",
        "colab_type": "text"
      },
      "source": [
        "#EJERCICIOS ADICIONALES [RESOLUCIÓN - CODE SNIPPETS]"
      ]
    },
    {
      "cell_type": "markdown",
      "metadata": {
        "id": "8CDnCCsiEv0g",
        "colab_type": "text"
      },
      "source": [
        "## Ejercicio 1.1: Calendario\n",
        "\n",
        "* Dado un año indicar si es bisiesto. Nota: un año es bisiesto si es un número divisible por 4, pero no si es divisible por 100, excepto que también sea divisible por 400. \n",
        "* Dado un mes, devolver la cantidad de días correspondientes. \n",
        "* Dada una fecha (día, mes, año), indicar si es válida o no.\n",
        "\n",
        "\n",
        "\n"
      ]
    },
    {
      "cell_type": "code",
      "metadata": {
        "id": "Z_TYTr0RD72E",
        "colab_type": "code",
        "colab": {}
      },
      "source": [
        "from datetime import datetime, date, time, timedelta \n",
        "import calendar\n",
        "def bisiesto(diferencia):\n",
        "    if diferencia.days == 366:\n",
        "        print(\"Es año bisiesto\")\n",
        "    else:\n",
        "        print(\"No es año bisiesto\")\n",
        "\n",
        "y = int(input(\"Ingrese un año: \"))\n",
        "fecha_inicial = datetime(y,1,1)\n",
        "fecha_final = datetime(y+1,1,1)\n",
        "diferencia = fecha_final - fecha_inicial\n",
        "bisiesto(diferencia)\n",
        "m = int(input(\"Ingrese un mes: \"))\n",
        "print(calendar.month(y,m))\n",
        "\n",
        "# function that indicates if a date is valid or not\n",
        "while True:\n",
        "  try:\n",
        "      fecha_str = input('\\n Ingrese fecha ==> ejemplo \"18/01/1952\"...: ')\n",
        "      fecha = datetime.strptime(fecha_str, '%d/%m/%Y')\n",
        "      break\n",
        "  except:\n",
        "        print(\"\\n No ha ingresado una fecha correcta...\")\n",
        "        break\n",
        "print(\"\\n \", fecha)"
      ],
      "execution_count": 0,
      "outputs": []
    },
    {
      "cell_type": "markdown",
      "metadata": {
        "id": "n-BEZTJ2G_0_",
        "colab_type": "text"
      },
      "source": [
        "## Ejercicio 1.2: Cadenas\n",
        "Escribir funciones que dada una cadena y un caracter: \n",
        "* Inserte el caracter entre cada letra de la cadena. Ej: ’separar’ y ’,’ deberíadevolver ’s,e,p,a,r,a,r’ \n",
        "* Reemplace todos los espacios por el caracter. Ej: ’mi archivo de texto.txt’ y ’_’ debería devolver ’mi_archivo_de_texto.txt’ \n",
        "* Reemplace todos los dígitos en la cadena por el caracter. Ej: ’su clave es: 1540’ y ’X’ debería devolver ’su clave es: XXXX’ \n",
        "* Inserte el caracter cada 3 dígitos en la cadena. Ej. ’2552552550’ y ’.’ debería devolver ’255.255.255.0’ "
      ]
    },
    {
      "cell_type": "code",
      "metadata": {
        "id": "J1iwp5_dHIi6",
        "colab_type": "code",
        "colab": {}
      },
      "source": [
        "cadena = \"separar\"\n",
        "# a)\n",
        "cadena=cadena.replace(\"\",',')\n",
        "print(cadena)\n",
        "# b)\n",
        "cadena2 = \"mi archivo de texto.txt\"\n",
        "cadena2 = cadena2.replace(\" \",\"_\")\n",
        "print(cadena2)\n",
        "\n",
        "# c) \n",
        "cadena3=\"su clave es: 1540\"\n",
        "cadena3=cadena3.replace('1540','XXXX')\n",
        "print(cadena3)\n",
        "\n",
        "# d)\n",
        "cadena4='2552552550'\n",
        "print('.'.join([str(cadena4)[i:i+3] for i in range(0, len(str(cadena4)), 3)]))"
      ],
      "execution_count": 0,
      "outputs": []
    },
    {
      "cell_type": "markdown",
      "metadata": {
        "id": "fA8qpK5uHvmQ",
        "colab_type": "text"
      },
      "source": [
        "## Ejercicio 1.3: Lista ordernamiento\n",
        "Escribir una función que reciba una tupla de elementos e indique si se encuentran ordenados de menor a mayor o no.\n"
      ]
    },
    {
      "cell_type": "code",
      "metadata": {
        "id": "9frNhlkYHwMU",
        "colab_type": "code",
        "colab": {}
      },
      "source": [
        "def orden(t,band):\n",
        "\n",
        "    for i in range(0,len(t)-1):\n",
        "        if (t[i]>t[i+1]):\n",
        "            band=1\n",
        "\n",
        "    return band\n",
        "\n",
        "t=(1,2,3,1,5,9)\n",
        "band=0\n",
        "a=orden(t,band)\n",
        "\n",
        "if(a==1):\n",
        "  print(\"No está ordenada\")\n",
        "else: \n",
        "  print(\"Está ordenada\")"
      ],
      "execution_count": 0,
      "outputs": []
    },
    {
      "cell_type": "markdown",
      "metadata": {
        "id": "MilrfQ6tIbK_",
        "colab_type": "text"
      },
      "source": [
        "## Ejercicio 1.4: Cálculos básicos con listas y números\n",
        "Dada una lista de números enteros, escribir una función que: \n",
        "* Devuelva una lista con todos los que sean primos. \n",
        "* Devuelva la sumatoria y el promedio de los valores. \n",
        "* Devuelva una lista con el factorial de cada uno de esos números. "
      ]
    },
    {
      "cell_type": "code",
      "metadata": {
        "id": "1RjOpBjKIbit",
        "colab_type": "code",
        "colab": {}
      },
      "source": [
        "from math import factorial\n",
        "\n",
        "def prime_number(v):\n",
        "    z=[]\n",
        "    for j in range(len(v)):\n",
        "        n=v[j]\n",
        "        band=0\n",
        "        if n > 1:\n",
        "            # Iterate from 2 to n / 2  \n",
        "            for i in range(2, n//2): \t\t\t#n//2 is for int division\n",
        "                    \n",
        "                # If num is divisible by any number between  \n",
        "                # 2 and n / 2, it is not prime  \n",
        "                if (n % i) == 0: \n",
        "                    band=1\n",
        "                    \n",
        "            if band==0:\n",
        "                z.append(n)\n",
        "            else:\n",
        "                pass\n",
        "    return z      \n",
        "\n",
        "def sum_avg(v):\n",
        "    acu=0\n",
        "    avg=0\n",
        "\n",
        "    for i in range(len(v)):\n",
        "        acu = acu + v[i]\n",
        "    \n",
        "    avg=acu/len(v)\n",
        "    print(\"La sumatoria es \", acu, \" y el promedio es \",avg)\n",
        "\n",
        "def facto(v2):\n",
        "    z=[]\n",
        "    for i in range(len(v2)):\n",
        "        z.append(factorial(v2[i]))\n",
        "    \n",
        "    return z\n",
        "\n",
        "v=[1,2,3,8,9,11,15,18,22,23,35,47,51,55,56]\n",
        "v2=[2,3,4]\n",
        "\n",
        "print(prime_number(v))\n",
        "sum_avg(v2)\n",
        "print(facto(v2))"
      ],
      "execution_count": 0,
      "outputs": []
    },
    {
      "cell_type": "markdown",
      "metadata": {
        "id": "2jIaIZSrI0FM",
        "colab_type": "text"
      },
      "source": [
        "## Ejercicio 1.5: Plegado de un texto. \n",
        "Escribir una función que reciba un texto y una longitud y devuelva una lista de cadenas de como máximo esa longitud.\n",
        "Las líneas deben ser cortadas correctamente en los espacios (sin cortar las palabras)."
      ]
    },
    {
      "cell_type": "code",
      "metadata": {
        "id": "FQeKDwthI02V",
        "colab_type": "code",
        "colab": {}
      },
      "source": [
        "def plegado(t,p):\n",
        "\n",
        "    t1=t.split(\" \")\n",
        "    t1=t1[:p]\n",
        "    return t1\n",
        "\n",
        "t=\"Hola como estas que estabas por hacer con ese trabajo que nos habian dado hace unas semanas que estaba inconcluso\"\n",
        "p=11\n",
        "t1=plegado(t,p)\n",
        "print(t1)"
      ],
      "execution_count": 0,
      "outputs": []
    },
    {
      "cell_type": "markdown",
      "metadata": {
        "id": "1nMIojg8Yywn",
        "colab_type": "text"
      },
      "source": [
        "## Ejercicio 1.6: Lista, busqueda y posición\n",
        "Escribir una función que reciba una lista desordenada y un elemento, que: \n",
        "* Busque todos los elementos coincidan con el pasado por parámetro y devuelva la cantidad de coincidencias encontradas. \n",
        "* Busque la primera coincidencia del elemento en la lista y devuelva su posición. \n",
        "* Utilizando la función anterior busque todos los elementos coincidan con el pasado por parámetro y devuelva una lista \n",
        "con las posiciones. "
      ]
    },
    {
      "cell_type": "code",
      "metadata": {
        "id": "Pp6fgPvgYzvU",
        "colab_type": "code",
        "colab": {}
      },
      "source": [
        "def busca1(lista,a):\n",
        "    count=0\n",
        "    for i in range(len(lista)):\n",
        "        b=str(lista[i])\n",
        "        if a==b:\n",
        "            count=count+1\n",
        "    \n",
        "    if count==0:\n",
        "        print(\"Ese elemento no se encuentra en la lista\")\n",
        "    else:\n",
        "        print(\"Ese elemento se encontró \",count, \" veces en la lista\")\n",
        "\n",
        "def busca2(lista,a):\n",
        "    band=0\n",
        "    for i in range(len(lista)):\n",
        "        b=str(lista[i])\n",
        "        if a==b:\n",
        "            return(i)           \n",
        "    \n",
        "    if band==0:\n",
        "        print(\"No se encuentra ese elemento en la lista\")\n",
        "    \n",
        "def busca3(lista,a):\n",
        "    band=0\n",
        "    z=[]\n",
        "    for i in range(len(lista)):\n",
        "        b=str(lista[i])\n",
        "        if a==b:\n",
        "            band=1\n",
        "            z.append(i)           \n",
        "    \n",
        "    if band==0:\n",
        "        print(\"No se encuentra ese elemento en la lista\")\n",
        "    else:\n",
        "        return z\n",
        "\n",
        "lista=[1,5,8,6,8,7,5,3,'snb','hola','hello','willkomen',8,8,8]\n",
        "a=str(input(\"Ingrese un elemento cualquiera para buscar en la lista: \"))\n",
        "\n",
        "busca1(lista,a)\n",
        "indice=busca2(lista,a)\n",
        "if indice != None:\n",
        "    print(\"El indice es: \", indice)\n",
        "print(\"El elemento ingresado se encuentra en las posiciones \",busca3(lista,a))\n"
      ],
      "execution_count": 0,
      "outputs": []
    },
    {
      "cell_type": "markdown",
      "metadata": {
        "id": "i2FFJ_wvZLYT",
        "colab_type": "text"
      },
      "source": [
        "## Ejercicio 1.7:  Lista de valores, máximo y su posición\n",
        "Escribir una función que reciba una lista de números no ordenada, que: \n",
        "* Devuelva el valor máximo. \n",
        "* Devuelva una tupla que incluya el valor máximo y su posición. \n"
      ]
    },
    {
      "cell_type": "code",
      "metadata": {
        "id": "AcmhOPOiZK_t",
        "colab_type": "code",
        "colab": {}
      },
      "source": [
        "def valorMax(lista):\n",
        "\n",
        "    for i in range(len(lista)):\n",
        "        if i==0:\n",
        "            max=lista[i]\n",
        "        elif i>0:\n",
        "            if(lista[i]>max):\n",
        "                max=lista[i]\n",
        "    \n",
        "    return max\n",
        "\n",
        "def valorMax2(lista):\n",
        "\n",
        "    for i in range(len(lista)):\n",
        "        if i==0:\n",
        "            max=lista[i]\n",
        "            imax=i\n",
        "        elif i>0:\n",
        "            if(lista[i]>max):\n",
        "                max=lista[i]\n",
        "                imax=i\n",
        "    \n",
        "    return (max,imax)\n",
        "        \n",
        "lista=[1,2,7,8,9,5566,2,55558,888888888888888888888888,1148,65,6688888888,42,0,-58,78,-7777777777744444]\n",
        "\n",
        "maximo = valorMax(lista)\n",
        "print(\"Valor máximo encontrado: \", maximo)\n",
        "maximo2 = valorMax2(lista)\n",
        "print(\"Valor máximo encontrado y su posición: \", maximo2)"
      ],
      "execution_count": 0,
      "outputs": []
    },
    {
      "cell_type": "markdown",
      "metadata": {
        "id": "2LtXCMc2Zc0S",
        "colab_type": "text"
      },
      "source": [
        "## Ejercicio 1.8: Agenda \n",
        "Agenda simpliﬁcada Escribir una función que reciba una cadena a buscar y una lista de tuplas ***(nombre_completo, telefono)***, y busque dentro de la lista, todas las entradas que contengan en el nombre completo la cadena recibida (puede ser el nombre, el apellido o sólo una parte de cualquiera de ellos). \n",
        "Debe devolver una lista con todas las tuplas encontradas. "
      ]
    },
    {
      "cell_type": "code",
      "metadata": {
        "id": "21qKjuc-ZdQE",
        "colab_type": "code",
        "colab": {}
      },
      "source": [
        "def busca(agenda,cadena):\n",
        "    z1=\"\"\n",
        "    z2=\"\"\n",
        "    for i in agenda:\n",
        "        z1=i[0]\n",
        "        z11=z1.split(\" \")\n",
        "        \n",
        "        z2=i[1]\n",
        "        z22=z2.split(\" \")\n",
        "        \n",
        "        if (cadena in z11) or (cadena in z22):\n",
        "            return i\n",
        "            \n",
        "cadena1='mariel'\n",
        "agenda=[('mariel monserrat','123456'),('simon valenzuela','123789'),('alfonzo valenzuela','456456'),('kiara monserrat','528456')]\n",
        "\n",
        "print(busca(agenda,cadena1))"
      ],
      "execution_count": 0,
      "outputs": []
    },
    {
      "cell_type": "markdown",
      "metadata": {
        "id": "oVImUMZGZyKh",
        "colab_type": "text"
      },
      "source": [
        "## Ejercicio 1.9: Diccionario, Clave - Palabra\n",
        "Escribir una función que reciba una lista de tuplas, y que devuelva un diccionario en donde las claves sean los primeros elementos de las tuplas y los valores sean los segundos."
      ]
    },
    {
      "cell_type": "code",
      "metadata": {
        "id": "5S2VXZxcZyfy",
        "colab_type": "code",
        "colab": {}
      },
      "source": [
        "def dicc(listaT):\n",
        "    d={}\n",
        "    for i in listaT:\n",
        "        d[i[0]]=i[1]\n",
        "\n",
        "    return d\n",
        "\n",
        "lista=[('simon','30'),('mariel','30'),('alfonzo','70'),('susana','56')]\n",
        "d=dicc(lista)   \n",
        "print(\"El diccionario creado es \\n\", d)\n"
      ],
      "execution_count": 0,
      "outputs": []
    },
    {
      "cell_type": "markdown",
      "metadata": {
        "id": "LYaziRfPaEnF",
        "colab_type": "text"
      },
      "source": [
        "## Ejercicio 1.10:  Diccionario - Contar\n",
        "Diccionarios usados para contar. \n",
        "* Escribir una función que reciba una cadena y devuelva un diccionario con la cantidad de apariciones de cada palabra en la cadena. Por ejemplo, si recibe \"Qué lindo día que hace hoy\" debe devolver: ’que’: 2, ’lindo’: 1, ’día’: 1, ’hace’: 1, ’hoy’: 1 \n",
        "* Escribir una función que cuente la cantidad de apariciones de cada caracter en una cadena de texto, y los devuelva en un diccionario. "
      ]
    },
    {
      "cell_type": "code",
      "metadata": {
        "id": "gUz_DJI-aE2N",
        "colab_type": "code",
        "colab": {}
      },
      "source": [
        "#Here we define the function\n",
        "def cuenta(cadena):\n",
        "    L2=[]       # empty list\n",
        "    L3=[]       # empty list\n",
        "\n",
        "    # Here we replace the blank spaces by commas\n",
        "    L1=cadena.split(\" \")\n",
        "    # In the following loop we go through L1 for make another list (L2) so that L2 only contains elements without repeating\n",
        "    for N in L1:\n",
        "        if N not in L2:\n",
        "            L2.append(N)\n",
        "    count=0\n",
        "    # in this loop we take each element of L2 and count the number of times this element appears in L1.\n",
        "    # then we make another list (L3) to store a tuple with the element and the number of times it appears\n",
        "    for element in L2:\n",
        "        for x in L1:\n",
        "            if element==x:\n",
        "                count=count+1\n",
        "        L3.append((element,str(count)))\n",
        "        count=0\n",
        "    # finally, we define an empty dictionary for store the elements of list L3\n",
        "    d={}\n",
        "    for element in L3:\n",
        "        d[element[0]]=element[1]\n",
        "\n",
        "    # print(L3)\n",
        "    # print(d)\n",
        "    return d\n",
        "\n",
        "# definition of the function\n",
        "def cuenta2(cadena):\n",
        "    # first, we define three empty lists\n",
        "    L2=[]\n",
        "    L3=[]\n",
        "    L1=[]\n",
        "    # here, we make a list with each element of \"cadena\"\n",
        "    for i in cadena:\n",
        "        L1.append(i)\n",
        "    print(L1)\n",
        "    # here we make another list (L2) with all the elements that are differents in L1\n",
        "    for N in L1:\n",
        "        if N not in L2:\n",
        "            L2.append(N)\n",
        "    count=0\n",
        "    # in this cycle we count the number of times each element appears in \"cadena\". Then, we store the element\n",
        "    # and the number of times they appear respectively.\n",
        "    for element in L2:\n",
        "        for x in L1:\n",
        "            if element==x:\n",
        "                count=count+1\n",
        "        L3.append((element,str(count)))\n",
        "        count=0\n",
        "\n",
        "    # finally, we store in an empty dictionary all the elements of L3\n",
        "    d={}\n",
        "    for element in L3:\n",
        "        d[element[0]]=element[1]\n",
        "\n",
        "    return d\n",
        "\n",
        "# strings declaration\n",
        "cadena=\"hola como estas como como estas estas hola rerendjg dnforgner hola hola holaaaa alalala lalala lalala\"\n",
        "cadena1=\"sdgsdfw\"\n",
        "# here we print the values returned by the respective functions\n",
        "print(cuenta(cadena))\n",
        "print(cuenta2(cadena1))"
      ],
      "execution_count": 0,
      "outputs": []
    },
    {
      "cell_type": "markdown",
      "metadata": {
        "id": "gK-JAsicaluk",
        "colab_type": "text"
      },
      "source": [
        "## Ejercicio 1.11: Agenda - Continuación\n",
        "Continuación de la agenda. Escribir un programa que vaya solicitando al usuario que ingrese nombres.\n",
        "* Si el nombre se encuentra en la agenda (implementada con un diccionario), debe mostrar el teléfono y, opcionalmente, \n",
        "permitir modiﬁcarlo si no es correcto. \n",
        "* Si el nombre no se encuentra, debe permitir ingresar el teléfono correspondiente. El usuario puede utilizar la \n",
        "cadena \"*\", para salir del programa. "
      ]
    },
    {
      "cell_type": "code",
      "metadata": {
        "id": "QTvLhksramGz",
        "colab_type": "code",
        "colab": {}
      },
      "source": [
        "def agenda():\n",
        "    d={}\n",
        "    while True:\n",
        "    \n",
        "        opc=input(\"Desea ingresar un nombre? Y/N:  \")\n",
        "        if (opc == 'Y') or (opc == 'y'):\n",
        "\n",
        "            nombre=input(\"Ingrese un nombre: \")\n",
        "            if nombre in d.keys():\n",
        "                print(\"Ese nombre ya existe\")\n",
        "                opc2=input(\"Desea modificarlo? Y/N  \")\n",
        "                if (opc2 == 'Y') or (opc2 == 'y'):\n",
        "                    numero = int(input(\"Ingrese el numero de contacto: \"))\n",
        "                    d[nombre]=numero\n",
        "                elif (opc2 == 'N') or (opc2 == 'n'):\n",
        "                    print(d.get(nombre))\n",
        "                else:\n",
        "                    print(\"opcion no valida\")\n",
        "            else:\n",
        "                numero = int(input(\"Ingrese el numero de contacto: \"))\n",
        "                d[nombre]=numero\n",
        "            print(d)\n",
        "\n",
        "            \n",
        "            \n",
        "        elif (opc == 'N') or (opc == 'n'):        \n",
        "            print(\"Ha elegido salir\")\n",
        "            break\n",
        "\n",
        "        else:\n",
        "            print(\"Opción incorrecta\")\n",
        "    return d\n",
        "\n",
        "d=agenda()\n",
        "if d!=\"\":\n",
        "    print(d)"
      ],
      "execution_count": 0,
      "outputs": []
    },
    {
      "cell_type": "markdown",
      "metadata": {
        "id": "N3UO8THSbEug",
        "colab_type": "text"
      },
      "source": [
        "## Ejercicio 1.12: Numpy, Pandas y Archivos\n",
        "Escribir un programa, llamado head que reciba un archivo y un número N e imprima las primeras N líneas del archivo."
      ]
    },
    {
      "cell_type": "code",
      "metadata": {
        "id": "wMDD-ozybFAP",
        "colab_type": "code",
        "colab": {}
      },
      "source": [
        "#using the libraries Numpy and Pandas\n",
        "import numpy as np\n",
        "import pandas as pd\n",
        "# a data frame is a table-like data structure\n",
        "# here we create a data frame using pandas\n",
        "df = pd.DataFrame({'animal':['snake', 'bat', 'tiger', 'lion','fox', 'eagle', 'shark', 'dog', 'deer']})\n",
        "# finally, we show the complete data frame and two \"heads\", one with five elements (default) and another with three.\n",
        "print(df)\n",
        "print(\"\\n\\n\")\n",
        "print(df.head())\n",
        "print(\"\\n\\n\")\n",
        "print(df.head(3))\n",
        "print(\"\\n\\n\")\n",
        "\n",
        "#-------------------------------------\n",
        "#Facing the problem by another way...\n",
        "#-------------------------------------\n",
        "#this function printes N rows of the passed file\n",
        "\n",
        "def imprime(f,N):\n",
        "    #setting count in 0\n",
        "    count=0\n",
        "    # with the loop we can go through each row, so that we can print each row in a easy way\n",
        "    for row in f:\n",
        "        print(row)\n",
        "        count=count+1\n",
        "        if count>=N:\n",
        "            break    \n",
        "\n",
        "# Here we open \"inputFile.txt\" and configure it for reading. f is an object of type open()\n",
        "f = open('inputFile.txt','r')\n",
        "N = 5\n",
        "# call to the function\n",
        "imprime(f,N)\n",
        "#closing the file\n",
        "f.close()"
      ],
      "execution_count": 0,
      "outputs": []
    }
  ]
}