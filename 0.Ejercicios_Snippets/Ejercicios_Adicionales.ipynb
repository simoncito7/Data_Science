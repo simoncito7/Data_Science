{
  "nbformat": 4,
  "nbformat_minor": 0,
  "metadata": {
    "colab": {
      "name": "Ejercicios_Adicionales.ipynb",
      "provenance": [],
      "collapsed_sections": [],
      "include_colab_link": true
    },
    "kernelspec": {
      "name": "python3",
      "display_name": "Python 3"
    }
  },
  "cells": [
    {
      "cell_type": "markdown",
      "metadata": {
        "id": "view-in-github",
        "colab_type": "text"
      },
      "source": [
        "<a href=\"https://colab.research.google.com/github/al34n1x/datascience/blob/master/ejercicios_adicionales/Ejercicios_Adicionales.ipynb\" target=\"_parent\"><img src=\"https://colab.research.google.com/assets/colab-badge.svg\" alt=\"Open In Colab\"/></a>"
      ]
    },
    {
      "cell_type": "markdown",
      "metadata": {
        "id": "yxAz7t_pcMwJ",
        "colab_type": "toc"
      },
      "source": [
        ">[EJERCICIOS ADICIONALES](#scrollTo=fUVK2_K_FPKN)\n",
        "\n",
        ">>[Ejercicio 1.1: Calendario](#scrollTo=8CDnCCsiEv0g)\n",
        "\n",
        ">>[Ejercicio 1.2: Cadenas](#scrollTo=n-BEZTJ2G_0_)\n",
        "\n",
        ">>[Ejercicio 1.3: Lista ordernamiento](#scrollTo=fA8qpK5uHvmQ)\n",
        "\n",
        ">>[Ejercicio 1.4: Cálculos básicos con listas y números](#scrollTo=MilrfQ6tIbK_)\n",
        "\n",
        ">>[Ejercicio 1.5: Plegado de un texto.](#scrollTo=2jIaIZSrI0FM)\n",
        "\n",
        ">>[Ejercicio 1.6: Lista, busqueda y posición](#scrollTo=1nMIojg8Yywn)\n",
        "\n",
        ">>[Ejercicio 1.7:  Lista de valores, máximo y su posición](#scrollTo=i2FFJ_wvZLYT)\n",
        "\n",
        ">>[Ejercicio 1.8: Agenda](#scrollTo=2LtXCMc2Zc0S)\n",
        "\n",
        ">>[Ejercicio 1.9: Diccionario, Clave - Palabra](#scrollTo=oVImUMZGZyKh)\n",
        "\n",
        ">>[Ejercicio 1.10:  Diccionario - Contar](#scrollTo=LYaziRfPaEnF)\n",
        "\n",
        ">>[Ejercicio 1.11: Agenda - Continuación](#scrollTo=gK-JAsicaluk)\n",
        "\n",
        ">>[Ejercicio 1.12: Numpy, Pandas y Archivos](#scrollTo=N3UO8THSbEug)\n",
        "\n"
      ]
    },
    {
      "cell_type": "markdown",
      "metadata": {
        "id": "fUVK2_K_FPKN",
        "colab_type": "text"
      },
      "source": [
        "#EJERCICIOS ADICIONALES "
      ]
    },
    {
      "cell_type": "markdown",
      "metadata": {
        "id": "8CDnCCsiEv0g",
        "colab_type": "text"
      },
      "source": [
        "## Ejercicio 1.1: Calendario\n",
        "\n",
        "* Dado un año indicar si es bisiesto. Nota: un año es bisiesto si es un número divisible por 4, pero no si es divisible por 100, excepto que también sea divisible por 400. \n",
        "* Dado un mes, devolver la cantidad de días correspondientes. \n",
        "* Dada una fecha (día, mes, año), indicar si es válida o no.\n",
        "\n",
        "\n",
        "\n"
      ]
    },
    {
      "cell_type": "code",
      "metadata": {
        "id": "Z_TYTr0RD72E",
        "colab_type": "code",
        "colab": {}
      },
      "source": [
        "from datetime import datetime, date, time, timedelta \n",
        "import calendar\n",
        "def bisiesto(diferencia):\n",
        "    if diferencia.days == 366:\n",
        "        print(\"Es año bisiesto\")\n",
        "    else:\n",
        "        print(\"No es año bisiesto\")\n",
        "\n",
        "#IMPLEMENTACIÓN"
      ],
      "execution_count": 0,
      "outputs": []
    },
    {
      "cell_type": "markdown",
      "metadata": {
        "id": "n-BEZTJ2G_0_",
        "colab_type": "text"
      },
      "source": [
        "## Ejercicio 1.2: Cadenas\n",
        "Escribir funciones que dada una cadena y un caracter: \n",
        "* Inserte el caracter entre cada letra de la cadena. Ej: ’separar’ y ’,’ deberíadevolver ’s,e,p,a,r,a,r’ \n",
        "* Reemplace todos los espacios por el caracter. Ej: ’mi archivo de texto.txt’ y ’_’ debería devolver ’mi_archivo_de_texto.txt’ \n",
        "* Reemplace todos los dígitos en la cadena por el caracter. Ej: ’su clave es: 1540’ y ’X’ debería devolver ’su clave es: XXXX’ \n",
        "* Inserte el caracter cada 3 dígitos en la cadena. Ej. ’2552552550’ y ’.’ debería devolver ’255.255.255.0’ "
      ]
    },
    {
      "cell_type": "code",
      "metadata": {
        "id": "J1iwp5_dHIi6",
        "colab_type": "code",
        "colab": {}
      },
      "source": [
        "#IMPLEMENTACIÓN"
      ],
      "execution_count": 0,
      "outputs": []
    },
    {
      "cell_type": "markdown",
      "metadata": {
        "id": "fA8qpK5uHvmQ",
        "colab_type": "text"
      },
      "source": [
        "## Ejercicio 1.3: Lista ordernamiento\n",
        "Escribir una función que reciba una tupla de elementos e indique si se encuentran ordenados de menor a mayor o no.\n"
      ]
    },
    {
      "cell_type": "code",
      "metadata": {
        "id": "9frNhlkYHwMU",
        "colab_type": "code",
        "colab": {}
      },
      "source": [
        "def orden(t,band):\n",
        "  \n",
        "  #IMPLEMENTACIÓN\n",
        "  return band\n",
        "\n",
        "t=(1,2,3,1,5,9)\n",
        "band=0\n",
        "a=orden(t,band)\n",
        "\n",
        "if(a==1):\n",
        "  print(\"No está ordenada\")\n",
        "else: \n",
        "  print(\"Está ordenada\")"
      ],
      "execution_count": 0,
      "outputs": []
    },
    {
      "cell_type": "markdown",
      "metadata": {
        "id": "MilrfQ6tIbK_",
        "colab_type": "text"
      },
      "source": [
        "## Ejercicio 1.4: Cálculos básicos con listas y números\n",
        "Dada una lista de números enteros, escribir una función que: \n",
        "* Devuelva una lista con todos los que sean primos. \n",
        "* Devuelva la sumatoria y el promedio de los valores. \n",
        "* Devuelva una lista con el factorial de cada uno de esos números. "
      ]
    },
    {
      "cell_type": "code",
      "metadata": {
        "id": "1RjOpBjKIbit",
        "colab_type": "code",
        "colab": {}
      },
      "source": [
        "from math import factorial\n",
        "\n",
        "def prime_number(v):\n",
        "    #IMPLEMENTACIÓN\n",
        "    return z      \n",
        "\n",
        "def sum_avg(v):\n",
        "    #IMPLEMENTACIÓN\n",
        "\n",
        "def facto(v2):\n",
        "    #IMPLEMENTACIÓN\n",
        "\n",
        "print(prime_number(v))\n",
        "sum_avg(v2)\n",
        "print(facto(v2))"
      ],
      "execution_count": 0,
      "outputs": []
    },
    {
      "cell_type": "markdown",
      "metadata": {
        "id": "2jIaIZSrI0FM",
        "colab_type": "text"
      },
      "source": [
        "## Ejercicio 1.5: Plegado de un texto. \n",
        "Escribir una función que reciba un texto y una longitud y devuelva una lista de cadenas de como máximo esa longitud.\n",
        "Las líneas deben ser cortadas correctamente en los espacios (sin cortar las palabras)."
      ]
    },
    {
      "cell_type": "code",
      "metadata": {
        "id": "FQeKDwthI02V",
        "colab_type": "code",
        "colab": {}
      },
      "source": [
        "def plegado(t,p):\n",
        "\n",
        "    #IMPLEMENTACIÓN\n",
        "\n",
        "t=\"INSERTAR CADENA\"\n",
        "p=11\n",
        "t1=plegado(t,p)\n",
        "print(t1)"
      ],
      "execution_count": 0,
      "outputs": []
    },
    {
      "cell_type": "markdown",
      "metadata": {
        "id": "1nMIojg8Yywn",
        "colab_type": "text"
      },
      "source": [
        "## Ejercicio 1.6: Lista, busqueda y posición\n",
        "Escribir una función que reciba una lista desordenada y un elemento, que: \n",
        "* Busque todos los elementos coincidan con el pasado por parámetro y devuelva la cantidad de coincidencias encontradas. \n",
        "* Busque la primera coincidencia del elemento en la lista y devuelva su posición. \n",
        "* Utilizando la función anterior busque todos los elementos coincidan con el pasado por parámetro y devuelva una lista \n",
        "con las posiciones. "
      ]
    },
    {
      "cell_type": "code",
      "metadata": {
        "id": "Pp6fgPvgYzvU",
        "colab_type": "code",
        "colab": {}
      },
      "source": [
        "def busca1(lista,a):\n",
        "    #IMPLEMENTACIÓN\n",
        "\n",
        "def busca2(lista,a):\n",
        "    #IMPLEMENTACIÓN\n",
        "    \n",
        "def busca3(lista,a):\n",
        "    #IMPLEMENTACIÓN\n",
        "\n",
        "lista=[1,5,8,6,8,7,5,3,'snb','hola','hello','willkomen',8,8,8]\n",
        "a=str(input(\"Ingrese un elemento cualquiera para buscar en la lista: \"))\n",
        "\n",
        "busca1(lista,a)\n",
        "indice=busca2(lista,a)\n",
        "if indice != None:\n",
        "    print(\"El indice es: \", indice)\n",
        "print(\"El elemento ingresado se encuentra en las posiciones \",busca3(lista,a))\n"
      ],
      "execution_count": 0,
      "outputs": []
    },
    {
      "cell_type": "markdown",
      "metadata": {
        "id": "i2FFJ_wvZLYT",
        "colab_type": "text"
      },
      "source": [
        "## Ejercicio 1.7:  Lista de valores, máximo y su posición\n",
        "Escribir una función que reciba una lista de números no ordenada, que: \n",
        "* Devuelva el valor máximo. \n",
        "* Devuelva una tupla que incluya el valor máximo y su posición. \n"
      ]
    },
    {
      "cell_type": "code",
      "metadata": {
        "id": "AcmhOPOiZK_t",
        "colab_type": "code",
        "colab": {}
      },
      "source": [
        "def valorMax(lista):\n",
        "    #IMPLEMENTACIÓN\n",
        "    return max\n",
        "\n",
        "def valorMax2(lista):\n",
        "    #IMPLEMENTACIÓN\n",
        "    return (max,imax)\n",
        "        \n",
        "lista=[1,2,7,8,9,5566,2,55558,888888888888888888888888,1148,65,6688888888,42,0,-58,78,-7777777777744444]\n",
        "\n",
        "maximo = valorMax(lista)\n",
        "print(\"Valor máximo encontrado: \", maximo)\n",
        "maximo2 = valorMax2(lista)\n",
        "print(\"Valor máximo encontrado y su posición: \", maximo2)"
      ],
      "execution_count": 0,
      "outputs": []
    },
    {
      "cell_type": "markdown",
      "metadata": {
        "id": "2LtXCMc2Zc0S",
        "colab_type": "text"
      },
      "source": [
        "## Ejercicio 1.8: Agenda \n",
        "Agenda simpliﬁcada Escribir una función que reciba una cadena a buscar y una lista de tuplas ***(nombre_completo, telefono)***, y busque dentro de la lista, todas las entradas que contengan en el nombre completo la cadena recibida (puede ser el nombre, el apellido o sólo una parte de cualquiera de ellos). \n",
        "Debe devolver una lista con todas las tuplas encontradas. "
      ]
    },
    {
      "cell_type": "code",
      "metadata": {
        "id": "21qKjuc-ZdQE",
        "colab_type": "code",
        "colab": {}
      },
      "source": [
        "def busca(agenda,cadena):\n",
        "    z1=\"\"\n",
        "    z2=\"\"\n",
        "    for i in agenda:\n",
        "        #IMPLEMENTACIÓN\n",
        "\n",
        "cadena1='mariel'\n",
        "agenda=[('mariel monserrat','123456'),('simon valenzuela','123789'),('alfonzo valenzuela','456456'),('kiara monserrat','528456')]\n",
        "\n",
        "print(busca(agenda,cadena1))"
      ],
      "execution_count": 0,
      "outputs": []
    },
    {
      "cell_type": "markdown",
      "metadata": {
        "id": "oVImUMZGZyKh",
        "colab_type": "text"
      },
      "source": [
        "## Ejercicio 1.9: Diccionario, Clave - Palabra\n",
        "Escribir una función que reciba una lista de tuplas, y que devuelva un diccionario en donde las claves sean los primeros elementos de las tuplas y los valores sean los segundos."
      ]
    },
    {
      "cell_type": "code",
      "metadata": {
        "id": "5S2VXZxcZyfy",
        "colab_type": "code",
        "colab": {}
      },
      "source": [
        "def dicc(listaT):\n",
        "    #IMPLEMENTACIÓN\n",
        "    return d\n",
        "\n",
        "lista=[('simon','30'),('mariel','30'),('alfonzo','70'),('susana','56')]\n",
        "d=dicc(lista)   \n",
        "print(\"El diccionario creado es \\n\", d)\n"
      ],
      "execution_count": 0,
      "outputs": []
    },
    {
      "cell_type": "markdown",
      "metadata": {
        "id": "LYaziRfPaEnF",
        "colab_type": "text"
      },
      "source": [
        "## Ejercicio 1.10:  Diccionario - Contar\n",
        "Diccionarios usados para contar. \n",
        "* Escribir una función que reciba una cadena y devuelva un diccionario con la cantidad de apariciones de cada palabra en la cadena. Por ejemplo, si recibe \"Qué lindo día que hace hoy\" debe devolver: ’que’: 2, ’lindo’: 1, ’día’: 1, ’hace’: 1, ’hoy’: 1 \n",
        "* Escribir una función que cuente la cantidad de apariciones de cada caracter en una cadena de texto, y los devuelva en un diccionario. "
      ]
    },
    {
      "cell_type": "code",
      "metadata": {
        "id": "gUz_DJI-aE2N",
        "colab_type": "code",
        "colab": {}
      },
      "source": [
        "def cuenta(cadena):\n",
        "    #IMPLEMENTACIÓN\n",
        "    return \n",
        "\n",
        "\n",
        "def cuenta2(cadena):\n",
        "    #IMPLEMENTACIÓN\n",
        "    return\n",
        "\n",
        "\n",
        "cadena=\"hola soy una cadena compleja que ha decido pasar por tu vida solo para demostrar lo maravillo de usar Python\"\n",
        "cadena1=\"sdgsdfw\"\n",
        "\n",
        "print(cuenta(cadena))\n",
        "print(cuenta2(cadena1))"
      ],
      "execution_count": 0,
      "outputs": []
    },
    {
      "cell_type": "markdown",
      "metadata": {
        "id": "gK-JAsicaluk",
        "colab_type": "text"
      },
      "source": [
        "## Ejercicio 1.11: Agenda - Continuación\n",
        "Continuación de la agenda. Escribir un programa que vaya solicitando al usuario que ingrese nombres.\n",
        "* Si el nombre se encuentra en la agenda (implementada con un diccionario), debe mostrar el teléfono y, opcionalmente, \n",
        "permitir modiﬁcarlo si no es correcto. \n",
        "* Si el nombre no se encuentra, debe permitir ingresar el teléfono correspondiente. El usuario puede utilizar la \n",
        "cadena \"*\", para salir del programa. "
      ]
    },
    {
      "cell_type": "code",
      "metadata": {
        "id": "QTvLhksramGz",
        "colab_type": "code",
        "colab": {}
      },
      "source": [
        "def agenda():\n",
        "    #IMPLEMENTACIÓN\n",
        "    return \n"
      ],
      "execution_count": 0,
      "outputs": []
    },
    {
      "cell_type": "markdown",
      "metadata": {
        "id": "N3UO8THSbEug",
        "colab_type": "text"
      },
      "source": [
        "## Ejercicio 1.12: Numpy, Pandas y Archivos\n",
        "Escribir un programa, llamado head que reciba un archivo y un número N e imprima las primeras N líneas del archivo."
      ]
    },
    {
      "cell_type": "code",
      "metadata": {
        "id": "wMDD-ozybFAP",
        "colab_type": "code",
        "colab": {}
      },
      "source": [
        "#using the libraries Numpy and Pandas\n",
        "import numpy as np\n",
        "import pandas as pd\n",
        "\n",
        "df = pd.DataFrame({'animal':['snake', 'bat', 'tiger', 'lion','fox', 'eagle', 'shark', 'dog', 'deer']})\n",
        "#IMPLEMENTACIÓN\n",
        "\n",
        "def imprime(f,N):\n",
        "    #IMPLEMENTACIÓN\n",
        "\n",
        "\n",
        "f = open('inputFile.txt','r')\n",
        "N = 5\n",
        "imprime(f,N)\n",
        "f.close()"
      ],
      "execution_count": 0,
      "outputs": []
    }
  ]
}