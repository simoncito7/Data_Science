{
  "nbformat": 4,
  "nbformat_minor": 0,
  "metadata": {
    "colab": {
      "name": "Pandas_Intro.ipynb",
      "provenance": [],
      "collapsed_sections": [],
      "include_colab_link": true
    },
    "kernelspec": {
      "name": "python3",
      "display_name": "Python 3"
    }
  },
  "cells": [
    {
      "cell_type": "markdown",
      "metadata": {
        "id": "view-in-github",
        "colab_type": "text"
      },
      "source": [
        "<a href=\"https://colab.research.google.com/github/al34n1x/DataScience/blob/master/3.Pandas/Pandas_Intro.ipynb\" target=\"_parent\"><img src=\"https://colab.research.google.com/assets/colab-badge.svg\" alt=\"Open In Colab\"/></a>"
      ]
    },
    {
      "cell_type": "markdown",
      "metadata": {
        "id": "fIoAUiid427K",
        "colab_type": "toc"
      },
      "source": [
        ">[Pandas](#scrollTo=75YpFVg5xBXX)\n",
        "\n",
        ">>[Series](#scrollTo=Ew9sUZAZzHP4)\n",
        "\n",
        ">>[DataFrame](#scrollTo=YEQGk9px4hmx)\n",
        "\n",
        ">>[Index Objects](#scrollTo=Ra_OstUXzEiX)\n",
        "\n",
        ">>[Funciones Esenciales](#scrollTo=tR9M_vw90NXX)\n",
        "\n",
        ">>>[Reindexing](#scrollTo=UFQSAmC10i67)\n",
        "\n",
        ">>>[Eliminar entradas de un eje](#scrollTo=N7PAv1RF3pID)\n",
        "\n",
        ">>>[Indización, selección y filtrado](#scrollTo=K0kS9vX9NX-6)\n",
        "\n",
        ">>>[Selección con Loc e ILoc](#scrollTo=rgeVibG1PEZ2)\n",
        "\n",
        ">>>[Índices enteros](#scrollTo=S1-aECmuQC6u)\n",
        "\n",
        ">>>[Aritmética y alineación de datos](#scrollTo=6F9oujCWRQ6M)\n",
        "\n",
        ">>[Métodos Aritméticos con Valores de llenado](#scrollTo=dMEm_UPhS9UI)\n",
        "\n",
        ">>>[Aplicación de funciones y mapeo](#scrollTo=Vp2uNDZcT93w)\n",
        "\n",
        ">>>[Ordenamiento y clasificación](#scrollTo=zG1wRBBbVCdN)\n",
        "\n",
        ">>[Resumiendo y calculando estadísticas descriptivas](#scrollTo=epZ41KN4aGBv)\n",
        "\n",
        ">>[Carga de datos, almacenamiento y formatos de archivo](#scrollTo=VnS0BgULfeCf)\n",
        "\n",
        ">>[Ejemplo utilizando pandas_datareader](#scrollTo=K73jnvDWe5Qo)\n",
        "\n"
      ]
    },
    {
      "cell_type": "markdown",
      "metadata": {
        "id": "75YpFVg5xBXX",
        "colab_type": "text"
      },
      "source": [
        "#Pandas\n",
        "\n",
        "\n",
        "Pandas será una herramienta importante durante gran parte del resto de la cursada. Contiene estructuras y herramientas de manipulación de datos diseñadas para hacer que la limpieza y el análisis de datos sean rápidos y fáciles en Python. Pandas a menudo se usa en conjunto con herramientas de cómputo numérico como **NumPy** y **SciPy**, bibliotecas analíticas como **statsmodels** y **scikit-learn**, y bibliotecas de visualización de datos como **matplotlib**. Pandas adopta partes significativas de nomenclaturas utilizadas con NumPy, especialmente funciones basadas en arreglos y la facilidad de procesamiento de datos sin bucles.\n",
        "\n",
        "Mientras que Pandas adopta muchos modismos de codificación de NumPy, la mayor diferencia es que Panda está diseñado para trabajar con datos tabulares o heterogéneos. NumPy, por el contrario, es más adecuado para trabajar con datos de matriz numérica homogénea.\n",
        "\n",
        "![](https://i.pinimg.com/originals/4e/64/5f/4e645ff4125038aa70f156918323ecb1.jpg)\n",
        "\n"
      ]
    },
    {
      "cell_type": "markdown",
      "metadata": {
        "id": "DKaseIgiyhhS",
        "colab_type": "text"
      },
      "source": [
        "Para comenzar con Pandas, deberás sentirse cómodo con sus dos estructuras de datos más importantes: **Series** y **DataFrame**. Si bien no son una solución universal para cada problema, proporcionan una base sólida y fácil de usar para la mayoría de las aplicaciones que iremos trabajando.\n"
      ]
    },
    {
      "cell_type": "markdown",
      "metadata": {
        "id": "Ew9sUZAZzHP4",
        "colab_type": "text"
      },
      "source": [
        "## Series\n",
        "\n",
        "Una serie es un objeto matriz unidimensional que contiene una secuencia de valores *(de tipos similares a los tipos NumPy)* y una matriz asociada de etiquetas de datos, denominada **índice**. La serie más simple está formada solo por una matriz de datos:\n",
        "\n"
      ]
    },
    {
      "cell_type": "code",
      "metadata": {
        "id": "MZeLFSM3xAhi",
        "colab_type": "code",
        "colab": {}
      },
      "source": [
        "import pandas as pd\n",
        "from pandas import Series, DataFrame\n",
        "obj = pd.Series([4, 7, -5, 3])\n",
        "obj"
      ],
      "execution_count": 0,
      "outputs": []
    },
    {
      "cell_type": "markdown",
      "metadata": {
        "id": "RXyQ8Efiz42Y",
        "colab_type": "text"
      },
      "source": [
        "En algunas circunstancias es posible que desees crear tus propios labels para los índices, puedes hacerlo de la siguiente forma.\n"
      ]
    },
    {
      "cell_type": "code",
      "metadata": {
        "id": "i4vlZt5u0Jc_",
        "colab_type": "code",
        "colab": {}
      },
      "source": [
        "obj2 = pd.Series([4, 7, -5, 3], index=['d', 'b', 'a', 'c']) # Le agregamos los labels de los índices. El orden se mantiene 1:1\n",
        "obj2"
      ],
      "execution_count": 0,
      "outputs": []
    },
    {
      "cell_type": "markdown",
      "metadata": {
        "id": "76lDgKL30k8c",
        "colab_type": "text"
      },
      "source": [
        "Ahora bien, para que puedo utilizar ese índice? A diferencia de NumPy puedo utilizarlos para referenciar a un valor o un set de valores"
      ]
    },
    {
      "cell_type": "code",
      "metadata": {
        "id": "nH7gGYXQ0gfq",
        "colab_type": "code",
        "colab": {}
      },
      "source": [
        "obj2['a']"
      ],
      "execution_count": 0,
      "outputs": []
    },
    {
      "cell_type": "markdown",
      "metadata": {
        "id": "qWjEhqbN0yHr",
        "colab_type": "text"
      },
      "source": [
        "Usar funciones o operaciones aritméticas como filtrado, multiplicaciones de escalares o arreglos de booleans, perseverá el valor del índice\n"
      ]
    },
    {
      "cell_type": "code",
      "metadata": {
        "id": "GA6ovM2d1CU-",
        "colab_type": "code",
        "colab": {}
      },
      "source": [
        "obj2[obj2 > 0]"
      ],
      "execution_count": 0,
      "outputs": []
    },
    {
      "cell_type": "code",
      "metadata": {
        "id": "c1b_UiTU1DcW",
        "colab_type": "code",
        "colab": {}
      },
      "source": [
        "obj2 * 2"
      ],
      "execution_count": 0,
      "outputs": []
    },
    {
      "cell_type": "markdown",
      "metadata": {
        "id": "uedsokHj1SKC",
        "colab_type": "text"
      },
      "source": [
        "Otra forma de pensar en series podría ser un diccionario de longitud fija, que mapea índices con valores. Puede ser utilizado en muchos contextos.\n"
      ]
    },
    {
      "cell_type": "code",
      "metadata": {
        "id": "GpJ66Xua1gQ4",
        "colab_type": "code",
        "colab": {}
      },
      "source": [
        "sdata = {'Buenos Aires': 35000, 'Rosario': 71000, 'Mendoza': 16000, 'Córdoba': 5000}\n",
        "obj3 = pd.Series(sdata)\n",
        "obj3"
      ],
      "execution_count": 0,
      "outputs": []
    },
    {
      "cell_type": "code",
      "metadata": {
        "id": "16FbL3EU10qf",
        "colab_type": "code",
        "colab": {}
      },
      "source": [
        "provincias = ['Tucumán', 'Buenos Aires', 'Rosario', 'Mendoza']\n",
        "obj4 = pd.Series(sdata, index=provincias)\n",
        "obj4"
      ],
      "execution_count": 0,
      "outputs": []
    },
    {
      "cell_type": "markdown",
      "metadata": {
        "id": "-SIDOhB83I_n",
        "colab_type": "text"
      },
      "source": [
        "Como recuerdan en Python todo se comporta como objetos, y series no son las excepciones. Las series poseen un índice y atributos de nombre, los cuales pueden ser utilizados con otras herramientas de Panda.\n"
      ]
    },
    {
      "cell_type": "code",
      "metadata": {
        "id": "4F0uICA-4Vwy",
        "colab_type": "code",
        "colab": {}
      },
      "source": [
        "obj4.name = 'Población'\n",
        "obj4.index.name = 'Provincias Argentinas'\n",
        "obj4\n"
      ],
      "execution_count": 0,
      "outputs": []
    },
    {
      "cell_type": "markdown",
      "metadata": {
        "id": "YEQGk9px4hmx",
        "colab_type": "text"
      },
      "source": [
        "## DataFrame\n",
        "\n",
        "Un DataFrame representa una tabla rectangular de datos que contiene una colección ordenadas de columnas, cuales pueden ser de diferente tipo de valor (númerico, cadenas, booleanos, etc). El DataFrame tiene un índice para las filas y otro para las columnas. Destrás de escena, lo que sucede es que los datos son almacenados como uno o mas bloques de datos de dos dimensiones.\n"
      ]
    },
    {
      "cell_type": "code",
      "metadata": {
        "id": "S4Pv3ToSWBfc",
        "colab_type": "code",
        "colab": {}
      },
      "source": [
        "data = {'provincia': ['Buenos Aires', 'Buenos Aires', 'Buenos Aires', 'Córdoba', 'Córdoba', 'Córdoba'],\n",
        "        'año': [2000, 2001, 2002, 2001, 2002, 2003],\n",
        "        'pob': [1.5, 1.7, 3.6, 2.4, 2.9, 3.2]}\n",
        "frame = pd.DataFrame(data)"
      ],
      "execution_count": 0,
      "outputs": []
    },
    {
      "cell_type": "markdown",
      "metadata": {
        "id": "PTfM1XbbWpTH",
        "colab_type": "text"
      },
      "source": [
        "Si te encontras trabajando con grandes datasets, el método **head** selecciona las primeras 5 filas del mismo.\n"
      ]
    },
    {
      "cell_type": "code",
      "metadata": {
        "id": "N33_nvugWn0b",
        "colab_type": "code",
        "colab": {}
      },
      "source": [
        "frame.head()"
      ],
      "execution_count": 0,
      "outputs": []
    },
    {
      "cell_type": "markdown",
      "metadata": {
        "id": "zB5cW8wWXAJS",
        "colab_type": "text"
      },
      "source": [
        "Se puede especificar el orden de las columnas"
      ]
    },
    {
      "cell_type": "code",
      "metadata": {
        "id": "S5mJe2D9XDmZ",
        "colab_type": "code",
        "colab": {}
      },
      "source": [
        "pd.DataFrame(data, columns=['año', 'provincia', 'pob']) "
      ],
      "execution_count": 0,
      "outputs": []
    },
    {
      "cell_type": "markdown",
      "metadata": {
        "id": "4J4hVNX7XZ9I",
        "colab_type": "text"
      },
      "source": [
        "Que pasará si enviamos una columna que no posee datos en el DataSet?"
      ]
    },
    {
      "cell_type": "code",
      "metadata": {
        "id": "-w4keC7FXdou",
        "colab_type": "code",
        "colab": {}
      },
      "source": [
        "frame2 = pd.DataFrame(data, columns=['año', 'provincia', 'pob', 'deuda'], \n",
        "                      index=['uno', 'dos', 'tres', 'cuatro','cinco', 'seis'])\n",
        "frame2"
      ],
      "execution_count": 0,
      "outputs": []
    },
    {
      "cell_type": "markdown",
      "metadata": {
        "id": "SW-1guanX2in",
        "colab_type": "text"
      },
      "source": [
        "También podemos obtener información de un Dataset como una serie"
      ]
    },
    {
      "cell_type": "code",
      "metadata": {
        "id": "ptLBNnqWX-zO",
        "colab_type": "code",
        "colab": {}
      },
      "source": [
        "frame2['provincia'] # Le pasamos como parámetro la columna que deseamos visualizar"
      ],
      "execution_count": 0,
      "outputs": []
    },
    {
      "cell_type": "markdown",
      "metadata": {
        "id": "XfpDv5h4YPUe",
        "colab_type": "text"
      },
      "source": [
        "Filas también pueden ser obtenidas por posición mediante el atributo especial **loc**"
      ]
    },
    {
      "cell_type": "code",
      "metadata": {
        "id": "4YR07u1AYa21",
        "colab_type": "code",
        "colab": {}
      },
      "source": [
        "frame2.loc['tres'] # Como hacemos para obtener la tercera fila del dataframe?"
      ],
      "execution_count": 0,
      "outputs": []
    },
    {
      "cell_type": "markdown",
      "metadata": {
        "id": "SfP-OWRWaGfI",
        "colab_type": "text"
      },
      "source": [
        "Las columnas pueden ser modificadas por asignación. Por ejemplo, tomemos la columna vacía **Deuda**, podríamos asignar un escalar o un arreglo de valores:\n"
      ]
    },
    {
      "cell_type": "code",
      "metadata": {
        "id": "5HWLHjyKaUMr",
        "colab_type": "code",
        "colab": {}
      },
      "source": [
        "frame2['deuda'] = np.arange(6.) # Que hace está función? \n",
        "frame2"
      ],
      "execution_count": 0,
      "outputs": []
    },
    {
      "cell_type": "markdown",
      "metadata": {
        "id": "RWdz37e5vyTg",
        "colab_type": "text"
      },
      "source": [
        "Si asignas arreglos a columnas, la longitud del mismo debe ser igual que al del DataFrame. Los labels serán reasignados exactamente al índice del DF, insertando NaN en los valores faltantes.\n"
      ]
    },
    {
      "cell_type": "code",
      "metadata": {
        "id": "aj7o8Nr8wKNF",
        "colab_type": "code",
        "colab": {}
      },
      "source": [
        "val = pd.Series([-1.2, -1.5, -1.7], index=['dos', 'cuatro', 'cinco'])\n",
        "frame2['deuda'] = val\n",
        "frame2"
      ],
      "execution_count": 0,
      "outputs": []
    },
    {
      "cell_type": "markdown",
      "metadata": {
        "id": "ZqjzYwqFwnAF",
        "colab_type": "text"
      },
      "source": [
        "Al declarar columnas que no existen, estás se agregarán de acuerdo al ordenamiento establecido."
      ]
    },
    {
      "cell_type": "code",
      "metadata": {
        "id": "fSljFXHLwoXQ",
        "colab_type": "code",
        "colab": {}
      },
      "source": [
        "frame2['Región Cento'] = frame2.provincia == 'Córdoba'\n",
        "frame2"
      ],
      "execution_count": 0,
      "outputs": []
    },
    {
      "cell_type": "markdown",
      "metadata": {
        "id": "dssp3OW9xL9I",
        "colab_type": "text"
      },
      "source": [
        "Podemos borrar columnas usando el método **del**"
      ]
    },
    {
      "cell_type": "code",
      "metadata": {
        "id": "jN1felwyxbQz",
        "colab_type": "code",
        "colab": {}
      },
      "source": [
        "frame2.columns"
      ],
      "execution_count": 0,
      "outputs": []
    },
    {
      "cell_type": "code",
      "metadata": {
        "id": "pkbrRD5yxW73",
        "colab_type": "code",
        "colab": {}
      },
      "source": [
        "del frame2['Región Cento']"
      ],
      "execution_count": 0,
      "outputs": []
    },
    {
      "cell_type": "code",
      "metadata": {
        "id": "yUNlhj0zxj8y",
        "colab_type": "code",
        "colab": {}
      },
      "source": [
        "frame2.columns"
      ],
      "execution_count": 0,
      "outputs": []
    },
    {
      "cell_type": "markdown",
      "metadata": {
        "id": "qy2OCI6ox4-6",
        "colab_type": "text"
      },
      "source": [
        "Otro tipo común de declarar datos es mediante diccionarios anidados\n"
      ]
    },
    {
      "cell_type": "code",
      "metadata": {
        "id": "9AcLo_5ZyH1x",
        "colab_type": "code",
        "colab": {}
      },
      "source": [
        "pob = {'Rosario': {2001: 2.4, 2002: 2.9},\n",
        "        'Mendoza': {2000: 1.5, 2001: 1.7, 2002: 3.6}}\n",
        "frame3 = pd.DataFrame(pob)\n",
        "frame3"
      ],
      "execution_count": 0,
      "outputs": []
    },
    {
      "cell_type": "markdown",
      "metadata": {
        "id": "Q2XZa2Tlybof",
        "colab_type": "text"
      },
      "source": [
        "Puedes transponer el DataFrame (Intercambiar columnas y filas) con una sintaxis similar a NumPy:\n"
      ]
    },
    {
      "cell_type": "code",
      "metadata": {
        "id": "ihn6JGbYyiVN",
        "colab_type": "code",
        "colab": {}
      },
      "source": [
        "frame3.T"
      ],
      "execution_count": 0,
      "outputs": []
    },
    {
      "cell_type": "markdown",
      "metadata": {
        "id": "Ra_OstUXzEiX",
        "colab_type": "text"
      },
      "source": [
        "## Index Objects\n",
        "\n",
        "Los objetos índices son responsables de almacenar las etiquetas de los ejes y otros metadatos. Los arreglos o otra secuencia de etiquetas que utilizas cuando construyes una serie o un DataFrame es internamente convertido a un índice:\n"
      ]
    },
    {
      "cell_type": "code",
      "metadata": {
        "id": "D7UoVz3zzX3u",
        "colab_type": "code",
        "colab": {}
      },
      "source": [
        "obj = pd.Series(range(3), index=['a', 'b', 'c'])\n",
        "index = obj.index\n",
        "print (index)\n",
        "index[1:]"
      ],
      "execution_count": 0,
      "outputs": []
    },
    {
      "cell_type": "code",
      "metadata": {
        "id": "pVvjomVwzyrB",
        "colab_type": "code",
        "colab": {}
      },
      "source": [
        "index[1] = 'd' #Que sucede si ejecutamos la siguiente línea?"
      ],
      "execution_count": 0,
      "outputs": []
    },
    {
      "cell_type": "markdown",
      "metadata": {
        "id": "tR9M_vw90NXX",
        "colab_type": "text"
      },
      "source": [
        "## Funciones Esenciales\n",
        "\n",
        "La siguiente sección provee los fundamentos básicos para interactuar con datos contenidos en una serie o un DataFrame. "
      ]
    },
    {
      "cell_type": "markdown",
      "metadata": {
        "id": "UFQSAmC10i67",
        "colab_type": "text"
      },
      "source": [
        "### Reindexing\n",
        "\n",
        "Un importante método en Pandas es la reindexación. Esto crea un nuevo objeto que se encuentra conformado por un nuevo índice. Llamar al reindex en la serie re-arregla los datos de acuerdo al nuevo índice introduciendo NaN en aquellos valores que no se encuentran presentes.\n",
        "Por ejemplo:\n"
      ]
    },
    {
      "cell_type": "code",
      "metadata": {
        "id": "BprzO_q005B9",
        "colab_type": "code",
        "colab": {}
      },
      "source": [
        "obj = pd.Series([4.5, 7.2, -5.3, 3.6], index=['d', 'b', 'a', 'c'])\n",
        "obj"
      ],
      "execution_count": 0,
      "outputs": []
    },
    {
      "cell_type": "code",
      "metadata": {
        "id": "vcAD4_a61Sep",
        "colab_type": "code",
        "colab": {}
      },
      "source": [
        "obj2 = obj.reindex(['a', 'b', 'c', 'd', 'e'])\n",
        "obj2"
      ],
      "execution_count": 0,
      "outputs": []
    },
    {
      "cell_type": "markdown",
      "metadata": {
        "id": "lWFPpqCs1giw",
        "colab_type": "text"
      },
      "source": [
        "Para datos ordenados como series de tiempo, puede ser deseable hacer alguna interpolación o relleno de valores al reindexar. Podemos hacerlo usando el método como **ffill**, que reenvía los valores:"
      ]
    },
    {
      "cell_type": "code",
      "metadata": {
        "id": "-H5HCj2T1lPf",
        "colab_type": "code",
        "colab": {
          "base_uri": "https://localhost:8080/",
          "height": 86
        },
        "outputId": "1de210d9-5829-470e-b539-e375bf34f596"
      },
      "source": [
        "obj3 = pd.Series(['blue', 'purple', 'yellow'], index=[0, 2, 4])\n",
        "obj3"
      ],
      "execution_count": 33,
      "outputs": [
        {
          "output_type": "execute_result",
          "data": {
            "text/plain": [
              "0      blue\n",
              "2    purple\n",
              "4    yellow\n",
              "dtype: object"
            ]
          },
          "metadata": {
            "tags": []
          },
          "execution_count": 33
        }
      ]
    },
    {
      "cell_type": "code",
      "metadata": {
        "id": "-KmKJQOl1n_U",
        "colab_type": "code",
        "colab": {}
      },
      "source": [
        "obj3.reindex(range(6), method='ffill')"
      ],
      "execution_count": 0,
      "outputs": []
    },
    {
      "cell_type": "markdown",
      "metadata": {
        "id": "1kgSHaEL13WG",
        "colab_type": "text"
      },
      "source": [
        "Con DataFrame, reindex puede alterar el índice (fila), las columnas o ambos. Cuando se pasa solo una secuencia, reindexa las filas en el resultado:"
      ]
    },
    {
      "cell_type": "code",
      "metadata": {
        "id": "b_ARql_d12Z0",
        "colab_type": "code",
        "colab": {}
      },
      "source": [
        "import numpy as np\n",
        "frame = pd.DataFrame(np.arange(9).reshape((3, 3)),\n",
        "  index=['a', 'c', 'd'],\n",
        "  columns=['Buenos Aires', 'Córdoba', 'Rosario'])\n",
        "frame"
      ],
      "execution_count": 0,
      "outputs": []
    },
    {
      "cell_type": "code",
      "metadata": {
        "id": "ek7cv1Bd2HTY",
        "colab_type": "code",
        "colab": {}
      },
      "source": [
        "frame2 = frame.reindex(['a', 'b', 'c', 'd'])\n",
        "frame2"
      ],
      "execution_count": 0,
      "outputs": []
    },
    {
      "cell_type": "markdown",
      "metadata": {
        "id": "N7PAv1RF3pID",
        "colab_type": "text"
      },
      "source": [
        "### Eliminar entradas de un eje\n",
        "Eliminar una o más entradas de un eje es fácil si ya tiene una matriz de índice o una lista sin esas entradas. Como eso puede requerir un poco de **munging** y establecer la lógica, el método **drop** devolverá un nuevo objeto con el valor o valores indicados eliminados de un eje:"
      ]
    },
    {
      "cell_type": "code",
      "metadata": {
        "id": "4Nq2ILP236e8",
        "colab_type": "code",
        "colab": {}
      },
      "source": [
        "obj = pd.Series(np.arange(5.), index=['a', 'b', 'c', 'd', 'e'])\n",
        "obj"
      ],
      "execution_count": 0,
      "outputs": []
    },
    {
      "cell_type": "code",
      "metadata": {
        "id": "kUidhg3H395C",
        "colab_type": "code",
        "colab": {}
      },
      "source": [
        "new_obj = obj.drop('c')\n",
        "new_obj"
      ],
      "execution_count": 0,
      "outputs": []
    },
    {
      "cell_type": "markdown",
      "metadata": {
        "id": "NulQPXic4Kw5",
        "colab_type": "text"
      },
      "source": [
        "Con DataFrame, los valores de índice se pueden eliminar de cualquier eje. Para ilustrar esto, primero creemos un DataFrame de ejemplo:"
      ]
    },
    {
      "cell_type": "code",
      "metadata": {
        "id": "lOOd3pyu4OD2",
        "colab_type": "code",
        "colab": {}
      },
      "source": [
        "data = pd.DataFrame(np.arange(16).reshape((4, 4)),\n",
        "      index=['Deadpool', 'Spidy', 'Wolverine', 'Dopinder'],\n",
        "      columns=['uno', 'dos', 'tres', 'cuatro'])\n",
        "data"
      ],
      "execution_count": 0,
      "outputs": []
    },
    {
      "cell_type": "code",
      "metadata": {
        "id": "lvKNE9ne4p-M",
        "colab_type": "code",
        "colab": {}
      },
      "source": [
        "data.drop(['Spidy', 'Dopinder'])"
      ],
      "execution_count": 0,
      "outputs": []
    },
    {
      "cell_type": "markdown",
      "metadata": {
        "id": "K0kS9vX9NX-6",
        "colab_type": "text"
      },
      "source": [
        "### indexación, selección y filtrado\n",
        "La indexación en serie (obj [...]) funciona de manera análoga a la indexación de arreglos de NumPy, excepto que puede usar los valores de índice de la serie en lugar de solo enteros. Aquí hay algunos ejemplos de esto:"
      ]
    },
    {
      "cell_type": "code",
      "metadata": {
        "id": "bSkhat5yNi7K",
        "colab_type": "code",
        "colab": {}
      },
      "source": [
        "obj = pd.Series(np.arange(4.), index=['a', 'b', 'c', 'd'])\n",
        "obj"
      ],
      "execution_count": 0,
      "outputs": []
    },
    {
      "cell_type": "code",
      "metadata": {
        "id": "rV576Vp2NnCR",
        "colab_type": "code",
        "colab": {}
      },
      "source": [
        "obj['b']"
      ],
      "execution_count": 0,
      "outputs": []
    },
    {
      "cell_type": "code",
      "metadata": {
        "id": "fQpMldKXNonD",
        "colab_type": "code",
        "colab": {}
      },
      "source": [
        "obj[2:]"
      ],
      "execution_count": 0,
      "outputs": []
    },
    {
      "cell_type": "markdown",
      "metadata": {
        "id": "5eZdYIi3OYop",
        "colab_type": "text"
      },
      "source": [
        "El slicing con etiquetas se comporta de manera diferente al equivalente en Python en que el punto final es inclusivo"
      ]
    },
    {
      "cell_type": "code",
      "metadata": {
        "id": "hfQaMQmxOkI-",
        "colab_type": "code",
        "colab": {}
      },
      "source": [
        "obj['b':'c']"
      ],
      "execution_count": 0,
      "outputs": []
    },
    {
      "cell_type": "markdown",
      "metadata": {
        "id": "rgeVibG1PEZ2",
        "colab_type": "text"
      },
      "source": [
        "### Selección con Loc e ILoc\n",
        "\n",
        "Para la indexación de etiquetas de DataFrame en las filas, se presentan los operadores de indexación especiales **loc** e **iloc**. Estos operadores permiten seleccionar un subconjunto de las filas y columnas de un DataFrame con notación tipo NumPy usando etiquetas de eje (loc) o enteros (iloc)."
      ]
    },
    {
      "cell_type": "code",
      "metadata": {
        "id": "Reo-_NagPRdX",
        "colab_type": "code",
        "colab": {}
      },
      "source": [
        "data = pd.DataFrame(np.arange(16).reshape((4, 4)),\n",
        "      index=['Deadpool', 'Spidy', 'Wolverine', 'Dopinder'],\n",
        "      columns=['uno', 'dos', 'tres', 'cuatro'])\n",
        "\n",
        "data"
      ],
      "execution_count": 0,
      "outputs": []
    },
    {
      "cell_type": "code",
      "metadata": {
        "id": "F5AkgE51Lp9N",
        "colab_type": "code",
        "colab": {}
      },
      "source": [
        "data.loc['Spidy', ['uno', 'dos']]"
      ],
      "execution_count": 0,
      "outputs": []
    },
    {
      "cell_type": "markdown",
      "metadata": {
        "id": "1hZzKlYBPzfo",
        "colab_type": "text"
      },
      "source": [
        "Pdemos realizar algunas selecciones similares con enteros usando iloc:"
      ]
    },
    {
      "cell_type": "code",
      "metadata": {
        "id": "zVIZDHj9P3aB",
        "colab_type": "code",
        "colab": {}
      },
      "source": [
        "data.iloc[2, [3, 0, 1]]"
      ],
      "execution_count": 0,
      "outputs": []
    },
    {
      "cell_type": "markdown",
      "metadata": {
        "id": "S1-aECmuQC6u",
        "colab_type": "text"
      },
      "source": [
        "### Índices enteros\n",
        "Trabajar con objetos Pandas indexados por enteros es algo que a menudo confunde a nuevos usuarios debido a algunas diferencias con la semántica de indexación en estructuras de datos Python incorporadas como listas y tuplas. Por ejemplo, es posible que el siguiente código genere un error:"
      ]
    },
    {
      "cell_type": "code",
      "metadata": {
        "id": "TRfHoAKtP_TP",
        "colab_type": "code",
        "colab": {}
      },
      "source": [
        "ser = pd.Series(np.arange(3.))\n",
        "ser\n",
        "ser[-1]"
      ],
      "execution_count": 0,
      "outputs": []
    },
    {
      "cell_type": "code",
      "metadata": {
        "id": "8gNlRi4WQbU2",
        "colab_type": "code",
        "colab": {}
      },
      "source": [
        "ser"
      ],
      "execution_count": 0,
      "outputs": []
    },
    {
      "cell_type": "markdown",
      "metadata": {
        "id": "byEE6t50Qvzh",
        "colab_type": "text"
      },
      "source": [
        "Si usamos non-Integer Index, no hay problemas de ambigüedad"
      ]
    },
    {
      "cell_type": "code",
      "metadata": {
        "id": "3eBDD37kQopU",
        "colab_type": "code",
        "colab": {}
      },
      "source": [
        "ser2 = pd.Series(np.arange(3.), index=['a', 'b', 'c']) \n",
        "ser2[-1]"
      ],
      "execution_count": 0,
      "outputs": []
    },
    {
      "cell_type": "code",
      "metadata": {
        "id": "6Mtm_kNmMKnz",
        "colab_type": "code",
        "colab": {}
      },
      "source": [
        "ser2['c']"
      ],
      "execution_count": 0,
      "outputs": []
    },
    {
      "cell_type": "markdown",
      "metadata": {
        "id": "vF1e3vvURF1y",
        "colab_type": "text"
      },
      "source": [
        "Para mantener las cosas consistentes, si tiene un índice de eje que contiene enteros, la selección de datos siempre estará orientada a las etiquetas. Para un manejo más preciso, use **loc** (para etiquetas) o **iloc** (para enteros):"
      ]
    },
    {
      "cell_type": "markdown",
      "metadata": {
        "id": "6F9oujCWRQ6M",
        "colab_type": "text"
      },
      "source": [
        "### Aritmética y alineación de datos\n",
        "Una característica importante de Pandas para algunas aplicaciones es el comportamiento de la aritmética entre objetos con diferentes índices. Cuando agrega objetos juntos, si alguno de los pares de índice no es el mismo, el índice respectivo en el resultado será la unión de los pares de índice. \n",
        "La alineación interna de datos introduce valores faltantes en las ubicaciones de las etiquetas que no se superponen. Los valores faltantes se propagarán en cálculos aritméticos adicionales.\n",
        "Veamos un ejemplo:"
      ]
    },
    {
      "cell_type": "code",
      "metadata": {
        "id": "eq9uTSo0RdS3",
        "colab_type": "code",
        "colab": {}
      },
      "source": [
        "s1 = pd.Series([7.3, -2.5, 3.4, 1.5], index=['a', 'c', 'd', 'e'])\n",
        "s2 = pd.Series([-2.1, 3.6, -1.5, 4, 3.1], index=['a', 'c', 'e', 'f', 'g'])"
      ],
      "execution_count": 0,
      "outputs": []
    },
    {
      "cell_type": "code",
      "metadata": {
        "id": "UA3LUN94Ric8",
        "colab_type": "code",
        "colab": {}
      },
      "source": [
        "print (s1)\n",
        "print ('\\n')\n",
        "print (s2)"
      ],
      "execution_count": 0,
      "outputs": []
    },
    {
      "cell_type": "code",
      "metadata": {
        "id": "FTPnOkxQRw-a",
        "colab_type": "code",
        "colab": {}
      },
      "source": [
        "s1 + s2"
      ],
      "execution_count": 0,
      "outputs": []
    },
    {
      "cell_type": "markdown",
      "metadata": {
        "id": "U_nhIgTzSSG1",
        "colab_type": "text"
      },
      "source": [
        "En el caso de DataFrame, la alineación se realiza tanto en las filas como en las columnas:"
      ]
    },
    {
      "cell_type": "code",
      "metadata": {
        "id": "q1u1j3eZSUNs",
        "colab_type": "code",
        "colab": {}
      },
      "source": [
        "df1 = pd.DataFrame(np.arange(9.).reshape((3, 3)), columns=list('bcd'),\n",
        "          index=['Buenos Aires', 'Córdoba', 'Rosario'])\n",
        "\n",
        "df2 = pd.DataFrame(np.arange(12.).reshape((4, 3)), columns=list('bde'),\n",
        "          index=['Buenos Aires', 'Córdoba', 'Rosario', 'Mendoza'])"
      ],
      "execution_count": 0,
      "outputs": []
    },
    {
      "cell_type": "code",
      "metadata": {
        "id": "ms9rmBYWScDK",
        "colab_type": "code",
        "colab": {}
      },
      "source": [
        "print (df1)\n",
        "print ('\\n')\n",
        "print (df2)"
      ],
      "execution_count": 0,
      "outputs": []
    },
    {
      "cell_type": "code",
      "metadata": {
        "id": "znjoS7upStit",
        "colab_type": "code",
        "colab": {}
      },
      "source": [
        "df1 + df2"
      ],
      "execution_count": 0,
      "outputs": []
    },
    {
      "cell_type": "markdown",
      "metadata": {
        "id": "dMEm_UPhS9UI",
        "colab_type": "text"
      },
      "source": [
        "## Métodos Aritméticos con Valores de llenado \n",
        "En operaciones aritméticas entre objetos indexados de manera diferente, es posible que desees rellenar con un valor especial, como 0, para evitar valores nulos:"
      ]
    },
    {
      "cell_type": "code",
      "metadata": {
        "id": "SHglb1MMTLGV",
        "colab_type": "code",
        "colab": {}
      },
      "source": [
        "df1 = pd.DataFrame(np.arange(12.).reshape((3, 4)),\n",
        "          columns=list('abcd'))\n",
        "df2 = pd.DataFrame(np.arange(20.).reshape((4, 5)),\n",
        "          columns=list('abcde'))\n"
      ],
      "execution_count": 0,
      "outputs": []
    },
    {
      "cell_type": "code",
      "metadata": {
        "id": "wb1dlZknTS2h",
        "colab_type": "code",
        "colab": {}
      },
      "source": [
        "df2.loc[1, 'b'] = np.nan"
      ],
      "execution_count": 0,
      "outputs": []
    },
    {
      "cell_type": "code",
      "metadata": {
        "id": "6EGD7BuzTVQs",
        "colab_type": "code",
        "colab": {}
      },
      "source": [
        "print (df1)\n",
        "print ('\\n')\n",
        "print (df2)"
      ],
      "execution_count": 0,
      "outputs": []
    },
    {
      "cell_type": "code",
      "metadata": {
        "id": "Q2MrjQanTgC-",
        "colab_type": "code",
        "colab": {}
      },
      "source": [
        "df1 + df2"
      ],
      "execution_count": 0,
      "outputs": []
    },
    {
      "cell_type": "markdown",
      "metadata": {
        "id": "qedxf05jTpCV",
        "colab_type": "text"
      },
      "source": [
        "Usando el método **add** en df1, paso df2 y un argumento para fill_value:"
      ]
    },
    {
      "cell_type": "code",
      "metadata": {
        "id": "43FEgyXaTlJN",
        "colab_type": "code",
        "colab": {}
      },
      "source": [
        "df1.add(df2, fill_value=0) "
      ],
      "execution_count": 0,
      "outputs": []
    },
    {
      "cell_type": "markdown",
      "metadata": {
        "id": "Vp2uNDZcT93w",
        "colab_type": "text"
      },
      "source": [
        "### Aplicación de funciones y mapeo\n",
        "**NumPy ufuncs** (métodos de matriz de elementos) también funcionan con objetos pandas:"
      ]
    },
    {
      "cell_type": "code",
      "metadata": {
        "id": "GxZ1hFG4UDPB",
        "colab_type": "code",
        "colab": {}
      },
      "source": [
        "frame = pd.DataFrame(np.random.randn(4, 3), columns=list('bde'),\n",
        "                                  index=['Buenos Aires', 'Córdoba', 'Rosario', \n",
        "                                      'Mendoza'])\n",
        "frame"
      ],
      "execution_count": 0,
      "outputs": []
    },
    {
      "cell_type": "code",
      "metadata": {
        "id": "RVGS7POdUO2D",
        "colab_type": "code",
        "colab": {}
      },
      "source": [
        "np.abs(frame)"
      ],
      "execution_count": 0,
      "outputs": []
    },
    {
      "cell_type": "markdown",
      "metadata": {
        "id": "2Gy_WdsYUlmM",
        "colab_type": "text"
      },
      "source": [
        "Otra operación frecuente es aplicar una función en matrices unidimensionales a cada columna o fila. El método de **apply** de DataFrame hace exactamente esto:"
      ]
    },
    {
      "cell_type": "code",
      "metadata": {
        "id": "E4579h1vUthL",
        "colab_type": "code",
        "colab": {}
      },
      "source": [
        "def f(x):\n",
        "        return pd.Series([x.min(), x.max()], index=['min', 'max'])"
      ],
      "execution_count": 0,
      "outputs": []
    },
    {
      "cell_type": "code",
      "metadata": {
        "id": "NfhF4N3TUyXf",
        "colab_type": "code",
        "colab": {}
      },
      "source": [
        "frame.apply(f)"
      ],
      "execution_count": 0,
      "outputs": []
    },
    {
      "cell_type": "markdown",
      "metadata": {
        "id": "zG1wRBBbVCdN",
        "colab_type": "text"
      },
      "source": [
        "### Ordenamiento y clasificación\n",
        "Ordenar un conjunto de datos por algún criterio es otra operación incorporada importante. Para ordenar lexicográficamente por índice de fila o columna, use el método **sort_index**, que devuelve un nuevo objeto ordenado:"
      ]
    },
    {
      "cell_type": "code",
      "metadata": {
        "id": "DlabyyLWVKEB",
        "colab_type": "code",
        "colab": {}
      },
      "source": [
        "obj = pd.Series(range(4), index=['d', 'a', 'b', 'c'])\n",
        "obj.sort_index()"
      ],
      "execution_count": 0,
      "outputs": []
    },
    {
      "cell_type": "code",
      "metadata": {
        "id": "ykh6PtuBVftz",
        "colab_type": "code",
        "colab": {}
      },
      "source": [
        "frame = pd.DataFrame(np.arange(8).reshape((2, 4)),\n",
        "                index=['tres', 'uno'],\n",
        "                columns=['d', 'a', 'b', 'c'])\n",
        "frame.sort_index()"
      ],
      "execution_count": 0,
      "outputs": []
    },
    {
      "cell_type": "markdown",
      "metadata": {
        "id": "5ogdaBdZWW4y",
        "colab_type": "text"
      },
      "source": [
        "Al ordenar un DataFrame, puede usar los datos en una o más columnas como las claves de clasificación. Para hacerlo, pase uno o más nombres de columna a la opción by de **sort_values**:"
      ]
    },
    {
      "cell_type": "code",
      "metadata": {
        "id": "NCUgJHA8WDkt",
        "colab_type": "code",
        "colab": {}
      },
      "source": [
        "frame = pd.DataFrame({'b': [4, 7, -3, 2], 'a': [0, 1, 0, 1]})\n",
        "frame"
      ],
      "execution_count": 0,
      "outputs": []
    },
    {
      "cell_type": "code",
      "metadata": {
        "id": "_Be-uHSSWL6m",
        "colab_type": "code",
        "colab": {}
      },
      "source": [
        "frame.sort_values(by='b')"
      ],
      "execution_count": 0,
      "outputs": []
    },
    {
      "cell_type": "code",
      "metadata": {
        "id": "wNu_JyJJWawn",
        "colab_type": "code",
        "colab": {}
      },
      "source": [
        "frame.sort_values(by=['a', 'b']) # Ordena por multiples columnas"
      ],
      "execution_count": 0,
      "outputs": []
    },
    {
      "cell_type": "markdown",
      "metadata": {
        "id": "jpJ79mmfWtou",
        "colab_type": "text"
      },
      "source": [
        "La clasificación asigna rangos desde uno hasta el número de puntos de datos válidos en una matriz. Los métodos de clasificación para Series y DataFrame son el lugar para buscar; Por defecto, el rango rompe los lazos asignando a cada grupo el rango medio:"
      ]
    },
    {
      "cell_type": "code",
      "metadata": {
        "id": "WM75hG-uWxio",
        "colab_type": "code",
        "colab": {
          "base_uri": "https://localhost:8080/",
          "height": 175
        },
        "outputId": "7e1e1b0e-f342-4d67-9a11-6dce51bbc47f"
      },
      "source": [
        "frame = pd.DataFrame({'b': [4.3, 7, -3, 2], 'a': [0, 1, 0, 1],\n",
        "                  'c': [-2, 5, 8, -2.5]})\n",
        "\n",
        "frame\n"
      ],
      "execution_count": 71,
      "outputs": [
        {
          "output_type": "execute_result",
          "data": {
            "text/html": [
              "<div>\n",
              "<style scoped>\n",
              "    .dataframe tbody tr th:only-of-type {\n",
              "        vertical-align: middle;\n",
              "    }\n",
              "\n",
              "    .dataframe tbody tr th {\n",
              "        vertical-align: top;\n",
              "    }\n",
              "\n",
              "    .dataframe thead th {\n",
              "        text-align: right;\n",
              "    }\n",
              "</style>\n",
              "<table border=\"1\" class=\"dataframe\">\n",
              "  <thead>\n",
              "    <tr style=\"text-align: right;\">\n",
              "      <th></th>\n",
              "      <th>b</th>\n",
              "      <th>a</th>\n",
              "      <th>c</th>\n",
              "    </tr>\n",
              "  </thead>\n",
              "  <tbody>\n",
              "    <tr>\n",
              "      <th>0</th>\n",
              "      <td>4.3</td>\n",
              "      <td>0</td>\n",
              "      <td>-2.0</td>\n",
              "    </tr>\n",
              "    <tr>\n",
              "      <th>1</th>\n",
              "      <td>7.0</td>\n",
              "      <td>1</td>\n",
              "      <td>5.0</td>\n",
              "    </tr>\n",
              "    <tr>\n",
              "      <th>2</th>\n",
              "      <td>-3.0</td>\n",
              "      <td>0</td>\n",
              "      <td>8.0</td>\n",
              "    </tr>\n",
              "    <tr>\n",
              "      <th>3</th>\n",
              "      <td>2.0</td>\n",
              "      <td>1</td>\n",
              "      <td>-2.5</td>\n",
              "    </tr>\n",
              "  </tbody>\n",
              "</table>\n",
              "</div>"
            ],
            "text/plain": [
              "     b  a    c\n",
              "0  4.3  0 -2.0\n",
              "1  7.0  1  5.0\n",
              "2 -3.0  0  8.0\n",
              "3  2.0  1 -2.5"
            ]
          },
          "metadata": {
            "tags": []
          },
          "execution_count": 71
        }
      ]
    },
    {
      "cell_type": "code",
      "metadata": {
        "id": "Mb4jG2o7ZavO",
        "colab_type": "code",
        "colab": {}
      },
      "source": [
        "frame.rank(axis='columns',ascending=False)"
      ],
      "execution_count": 0,
      "outputs": []
    },
    {
      "cell_type": "code",
      "metadata": {
        "id": "MbNbQwEvZpqy",
        "colab_type": "code",
        "colab": {}
      },
      "source": [
        "frame.rank(axis='rows')"
      ],
      "execution_count": 0,
      "outputs": []
    },
    {
      "cell_type": "markdown",
      "metadata": {
        "id": "epZ41KN4aGBv",
        "colab_type": "text"
      },
      "source": [
        "## Resumiendo y calculando estadísticas descriptivas\n",
        "Los objetos pandas están equipados con un conjunto de métodos matemáticos y estadísticos comunes. \n",
        "La mayoría de estos pertenecen a la categoría de reducciones o estadísticas resumidas, métodos que extraen un solo valor de una Serie o una Serie de valores de las filas o columnas de un Marco de datos. En comparación con los métodos similares que se encuentran en los arreglos NumPy, tienen un manejo incorporado para los datos faltantes. Consideremos un pequeño DataFrame:"
      ]
    },
    {
      "cell_type": "code",
      "metadata": {
        "id": "l2_mcdSFaQZb",
        "colab_type": "code",
        "colab": {}
      },
      "source": [
        "df = pd.DataFrame([[1.4, np.nan], [7.1, -4.5],\n",
        "                    [np.nan, np.nan], [0.75, -1.3]],\n",
        "                    index=['a', 'b', 'c', 'd'],\n",
        "                    columns=['one', 'two'])\n",
        "df"
      ],
      "execution_count": 0,
      "outputs": []
    },
    {
      "cell_type": "code",
      "metadata": {
        "id": "BRVXx8f3akVx",
        "colab_type": "code",
        "colab": {}
      },
      "source": [
        "df.sum()"
      ],
      "execution_count": 0,
      "outputs": []
    },
    {
      "cell_type": "code",
      "metadata": {
        "id": "_B_D977obE2k",
        "colab_type": "code",
        "colab": {}
      },
      "source": [
        "df.sum(axis='columns')"
      ],
      "execution_count": 0,
      "outputs": []
    },
    {
      "cell_type": "markdown",
      "metadata": {
        "id": "VnS0BgULfeCf",
        "colab_type": "text"
      },
      "source": [
        "## Carga de datos, almacenamiento y formatos de archivo\n",
        "\n",
        "La entrada y salida generalmente se clasifican en algunas categorías principales: leer archivos de texto y otros formatos en disco más eficientes, cargar datos de bases de datos e interactuar con fuentes de red como API web."
      ]
    },
    {
      "cell_type": "code",
      "metadata": {
        "id": "JICj5qVTfshJ",
        "colab_type": "code",
        "colab": {}
      },
      "source": [
        "df = pd.read_csv('./sample_data/california_housing_train.csv')\n",
        "df.head()"
      ],
      "execution_count": 0,
      "outputs": []
    },
    {
      "cell_type": "markdown",
      "metadata": {
        "id": "1uIddfC_gPFY",
        "colab_type": "text"
      },
      "source": [
        "El manejo de valores perdidos es una parte importante y frecuentemente matizada del proceso de análisis de archivos. Los datos que faltan generalmente no están presentes o están marcados por algún valor de referencia. Por defecto, los pandas usan un conjunto de centinelas comunes, como NA y NULL:"
      ]
    },
    {
      "cell_type": "code",
      "metadata": {
        "id": "MY4cYA31gWJL",
        "colab_type": "code",
        "colab": {}
      },
      "source": [
        "pd.isnull(df)"
      ],
      "execution_count": 0,
      "outputs": []
    },
    {
      "cell_type": "markdown",
      "metadata": {
        "id": "0ClR_nvwgoWD",
        "colab_type": "text"
      },
      "source": [
        "Se pueden especificar diferentes referencia de NA para cada columna en un diccionario:"
      ]
    },
    {
      "cell_type": "code",
      "metadata": {
        "id": "0jvMMGxUguZv",
        "colab_type": "code",
        "colab": {}
      },
      "source": [
        "referencia_nulos = {'message': ['foo', 'NA'], 'something': ['two']}\n",
        "df = pd.read_csv('./sample_data/california_housing_train.csv', na_values=referencia_nulos)"
      ],
      "execution_count": 0,
      "outputs": []
    },
    {
      "cell_type": "markdown",
      "metadata": {
        "id": "K73jnvDWe5Qo",
        "colab_type": "text"
      },
      "source": [
        "## Ejemplo utilizando pandas_datareader\n",
        "\n",
        "En el siguiente ejemplo usaremos el módulo de pandas_datareader para descargar datos de algunos índices accionarios.\n",
        "\n"
      ]
    },
    {
      "cell_type": "code",
      "metadata": {
        "id": "_LnnMkt0dzyM",
        "colab_type": "code",
        "colab": {}
      },
      "source": [
        "import pandas_datareader.data as web\n",
        "all_data = {ticker: web.get_data_yahoo(ticker)\n",
        "            for ticker in ['AAPL', 'IBM', 'MSFT', 'GOOG']}\n",
        "\n",
        "price = pd.DataFrame({ticker: data['Adj Close']\n",
        "                     for ticker, data in all_data.items()})\n",
        "\n",
        "volume = pd.DataFrame({ticker: data['Volume']\n",
        "                      for ticker, data in all_data.items()})\n",
        "\n",
        "\n",
        "returns = price.pct_change() # Aplicamos la funcion cambio porcentual al precio de las acciones\n",
        "returns.tail() # retornamos los últimos valores del dataframe"
      ],
      "execution_count": 0,
      "outputs": []
    }
  ]
}