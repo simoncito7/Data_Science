{
  "nbformat": 4,
  "nbformat_minor": 0,
  "metadata": {
    "colab": {
      "name": "Ejercicios_Pandas.ipynb",
      "provenance": [],
      "collapsed_sections": [],
      "authorship_tag": "ABX9TyPoxGtjVdaoF8D9Ybfm4y0m",
      "include_colab_link": true
    },
    "kernelspec": {
      "name": "python3",
      "display_name": "Python 3"
    }
  },
  "cells": [
    {
      "cell_type": "markdown",
      "metadata": {
        "id": "view-in-github",
        "colab_type": "text"
      },
      "source": [
        "<a href=\"https://colab.research.google.com/github/al34n1x/DataScience/blob/master/3.Pandas/Ejercicios_Pandas.ipynb\" target=\"_parent\"><img src=\"https://colab.research.google.com/assets/colab-badge.svg\" alt=\"Open In Colab\"/></a>"
      ]
    },
    {
      "cell_type": "markdown",
      "metadata": {
        "id": "L9_lmpWDodjd",
        "colab_type": "toc"
      },
      "source": [
        ">>[Ejercicio 1 - Funcion retorna alumnos aprobados](#updateTitle=true&folderId=1hYY6URNFLa2w5I3uQbpDlwOox_am-5cM&scrollTo=-cgYdw9BhvnW)\n",
        "\n",
        ">>[Ejercicio 2 - Función que cree y muestre un DataFrame](#updateTitle=true&folderId=1hYY6URNFLa2w5I3uQbpDlwOox_am-5cM&scrollTo=3i_nTU64ipey)\n",
        "\n",
        ">>[Ejercicio 3 - DataFrame y Plot](#updateTitle=true&folderId=1hYY6URNFLa2w5I3uQbpDlwOox_am-5cM&scrollTo=SH9uM2tBlK19)\n",
        "\n",
        ">>[Ejercicio 4 - Cargar datos desde un endpoint](#updateTitle=true&folderId=1hYY6URNFLa2w5I3uQbpDlwOox_am-5cM&scrollTo=-U-fRvQnnBvJ)\n",
        "\n"
      ]
    },
    {
      "cell_type": "markdown",
      "metadata": {
        "id": "-cgYdw9BhvnW",
        "colab_type": "text"
      },
      "source": [
        "## Ejercicio 1 - Funcion retorna alumnos aprobados\n",
        "Escribir una función que reciba una diccionario con las notas de los alumnos y retorne una serie con las notas de aquellos aprobados ordenadas de mayor a menor."
      ]
    },
    {
      "cell_type": "code",
      "metadata": {
        "id": "CGwwc_JGhuuX",
        "colab_type": "code",
        "colab": {}
      },
      "source": [
        "import pandas as pd\n",
        "\n",
        "# Implementación\n",
        "\n",
        "notas = {'Deadpool':9, 'Wolverine':6.5, 'Spidy':4, 'Dopinder': 8.5, 'Weasel': 5}\n",
        "print(aprobados(notas))"
      ],
      "execution_count": 0,
      "outputs": []
    },
    {
      "cell_type": "markdown",
      "metadata": {
        "id": "3i_nTU64ipey",
        "colab_type": "text"
      },
      "source": [
        "## Ejercicio 2 - Función que cree y muestre un DataFrame\n",
        "Escribir una función que liste los doce meses calendario de 2019 con ventas, gastos y neto obtenido.\n",
        "Usar diccionarios y asignar valores aleatorios (De forma manual o con funciones). Usar la función plot para graficar el contenido de un DataFrame.\n"
      ]
    },
    {
      "cell_type": "code",
      "metadata": {
        "id": "yEWNpfA6jBOB",
        "colab_type": "code",
        "colab": {}
      },
      "source": [
        "import pandas as pd\n",
        "\n",
        "# Implementación\n",
        "\n",
        "print ()\n",
        "\n"
      ],
      "execution_count": 0,
      "outputs": []
    },
    {
      "cell_type": "markdown",
      "metadata": {
        "id": "SH9uM2tBlK19",
        "colab_type": "text"
      },
      "source": [
        "## Ejercicio 3 - DataFrame y Plot\n",
        "\n",
        "Crear un Dataframe y graficar su contenido usando la libreria import **matplotlib.pyplot **\n",
        "\n",
        "\n"
      ]
    },
    {
      "cell_type": "code",
      "metadata": {
        "id": "C4RWDriClZOr",
        "colab_type": "code",
        "colab": {}
      },
      "source": [
        "import matplotlib.pyplot as plt\n",
        "import pandas as pd\n",
        "\n",
        "'''\n",
        "Ejemplo\n",
        "\n",
        "df = pd.DataFrame({\n",
        "    'name':['Deadpool','Wolverine','Spidy','Dopinder','Weasel','Negasonic Teenage Warhead','Domino'],\n",
        "    'age':[23,78,22,19,45,33,20],\n",
        "    'gender':['M','M','M','M','M','F','F'],\n",
        "    'state':['california','dc','california','dc','california','texas','texas'],\n",
        "    'num_children':[2,0,0,3,2,1,4],\n",
        "    'num_pets':[5,1,0,5,2,2,3]\n",
        "})\n",
        "\n",
        "'''"
      ],
      "execution_count": 0,
      "outputs": []
    },
    {
      "cell_type": "markdown",
      "metadata": {
        "id": "-U-fRvQnnBvJ",
        "colab_type": "text"
      },
      "source": [
        "## Ejercicio 4 - Cargar datos desde un endpoint\n",
        "\n",
        "Tomando datos desde una URL, convertir esa información en un DataFrame para luego poder operar"
      ]
    },
    {
      "cell_type": "code",
      "metadata": {
        "id": "sT55p1s2m1C7",
        "colab_type": "code",
        "outputId": "778b4ce8-2987-4e12-d48e-be77fc88c01e",
        "colab": {
          "base_uri": "https://localhost:8080/",
          "height": 34
        }
      },
      "source": [
        "import pandas as pd\n",
        "import requests #Librería que nos permite interactuar con recursos html\n",
        "url = 'https://www.worldcoinindex.com/' # Endpoint desde donde tomaremos los datos\n",
        "coin_url = requests.get(url) #Asignamos la información en la variable crypto_url\n",
        "coin_url"
      ],
      "execution_count": 0,
      "outputs": [
        {
          "output_type": "execute_result",
          "data": {
            "text/plain": [
              "<Response [200]>"
            ]
          },
          "metadata": {
            "tags": []
          },
          "execution_count": 4
        }
      ]
    },
    {
      "cell_type": "code",
      "metadata": {
        "id": "l4qZ5VGWngf_",
        "colab_type": "code",
        "colab": {}
      },
      "source": [
        "coin_data = pd.read_html(coin_url.text) #Leemos el html y lo asignamos a la variable\n",
        "coin_data\n",
        "\n",
        "# Implementar DataFrame de acuerdo a los datos y mostrar resultados por pantalla "
      ],
      "execution_count": 0,
      "outputs": []
    }
  ]
}