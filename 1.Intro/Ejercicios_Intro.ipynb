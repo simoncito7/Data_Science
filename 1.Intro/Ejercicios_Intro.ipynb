{
  "nbformat": 4,
  "nbformat_minor": 0,
  "metadata": {
    "colab": {
      "name": "Ejercicios_Intro.ipynb",
      "provenance": [],
      "include_colab_link": true
    },
    "kernelspec": {
      "name": "python3",
      "display_name": "Python 3"
    }
  },
  "cells": [
    {
      "cell_type": "markdown",
      "metadata": {
        "id": "view-in-github",
        "colab_type": "text"
      },
      "source": [
        "<a href=\"https://colab.research.google.com/github/al34n1x/datascience/blob/master/modulo_1/Ejercicios_Intro.ipynb\" target=\"_parent\"><img src=\"https://colab.research.google.com/assets/colab-badge.svg\" alt=\"Open In Colab\"/></a>"
      ]
    },
    {
      "cell_type": "markdown",
      "metadata": {
        "id": "fGUsb_Gzunnd",
        "colab_type": "text"
      },
      "source": [
        "#Ejercitación\n",
        "\n",
        "Nota: Para aquellos usuarios que se encuentren en nivel intermedio / avanzado, realizar los mismos ejercicios implementando funciones o funciones lambda. \n"
      ]
    },
    {
      "cell_type": "markdown",
      "metadata": {
        "id": "mMHKVHpguq9g",
        "colab_type": "text"
      },
      "source": [
        "1. Escribir un programa que almacene la cadena `Happy Coding!` en una variable y luego muestre por pantalla."
      ]
    },
    {
      "cell_type": "code",
      "metadata": {
        "id": "Qm4rt3gvumSf",
        "colab_type": "code",
        "colab": {}
      },
      "source": [
        ""
      ],
      "execution_count": 0,
      "outputs": []
    },
    {
      "cell_type": "markdown",
      "metadata": {
        "id": "G6GA-fssuudU",
        "colab_type": "text"
      },
      "source": [
        "2. Escribir un programa que pregunte tu nombre y después que muestre por pantalla la cadena ¡Happy Coding <nombre>!, donde <nombre> es el nombre que el usuario haya introducido."
      ]
    },
    {
      "cell_type": "code",
      "metadata": {
        "id": "jUnbgGPpu8BC",
        "colab_type": "code",
        "colab": {}
      },
      "source": [
        ""
      ],
      "execution_count": 0,
      "outputs": []
    },
    {
      "cell_type": "markdown",
      "metadata": {
        "id": "UbeG5Ogiu8sQ",
        "colab_type": "text"
      },
      "source": [
        "3. Escribir un programa que pregunte al usuario una cantidad de dinero a invertir (Recuerda que podemos usar bananas XD ), el interés anual y el número de años, y muestre por pantalla el capital obtenido de la inversión."
      ]
    },
    {
      "cell_type": "code",
      "metadata": {
        "id": "RLDPBHm2vQ23",
        "colab_type": "code",
        "colab": {}
      },
      "source": [
        ""
      ],
      "execution_count": 0,
      "outputs": []
    },
    {
      "cell_type": "markdown",
      "metadata": {
        "id": "AowcRnXTvZjX",
        "colab_type": "text"
      },
      "source": [
        "4. Escribir un programa que pida al usuario un número entero positivo y muestre por pantalla todos los números impares desde 1 hasta ese número separados por comas."
      ]
    },
    {
      "cell_type": "code",
      "metadata": {
        "id": "t60O4ePWvbnC",
        "colab_type": "code",
        "colab": {}
      },
      "source": [
        ""
      ],
      "execution_count": 0,
      "outputs": []
    },
    {
      "cell_type": "markdown",
      "metadata": {
        "id": "6lNEOf3Rvb2N",
        "colab_type": "text"
      },
      "source": [
        "5. Escribir un programa que almacene en una lista los números del 1 al 10 y los muestre por pantalla en orden inverso separados por comas (Hint: Pueden utilizar la función `end=` en el print)."
      ]
    },
    {
      "cell_type": "code",
      "metadata": {
        "id": "-429VzhEv1zi",
        "colab_type": "code",
        "colab": {}
      },
      "source": [
        ""
      ],
      "execution_count": 0,
      "outputs": []
    }
  ]
}