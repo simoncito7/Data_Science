{
  "nbformat": 4,
  "nbformat_minor": 0,
  "metadata": {
    "kernelspec": {
      "name": "python3",
      "display_name": "Python 3"
    },
    "colab": {
      "name": "Introduction to Python.ipynb",
      "provenance": [],
      "collapsed_sections": [
        "-PxUh1WPsC9O"
      ],
      "include_colab_link": true
    }
  },
  "cells": [
    {
      "cell_type": "markdown",
      "metadata": {
        "id": "view-in-github",
        "colab_type": "text"
      },
      "source": [
        "<a href=\"https://colab.research.google.com/github/al34n1x/datascience/blob/master/modulo_1/Introduction_to_Python.ipynb\" target=\"_parent\"><img src=\"https://colab.research.google.com/assets/colab-badge.svg\" alt=\"Open In Colab\"/></a>"
      ]
    },
    {
      "cell_type": "markdown",
      "metadata": {
        "id": "vFTx5oYJHM6O",
        "colab_type": "text"
      },
      "source": [
        "<div style=\"text-align: center\"><img src=\"https://www.python.org/static/img/python-logo.png\"></div>"
      ]
    },
    {
      "cell_type": "markdown",
      "metadata": {
        "id": "v7BMbzyW5Bup",
        "colab_type": "toc"
      },
      "source": [
        ">[Una pequeña introducción Python](#scrollTo=7Qz2f4phHM6P)\n",
        "\n",
        ">>[Comentarios en Python](#scrollTo=IR6uX8fzHM6Q)\n",
        "\n",
        ">>[Veamos tipo de datos](#scrollTo=iSSGZZsZHM6U)\n",
        "\n",
        ">>>[Números](#scrollTo=_xNQGfIUHM6U)\n",
        "\n",
        ">>>[Strings (Cadenas)](#scrollTo=8RT2nYKVHM6_)\n",
        "\n",
        ">[Concatenación](#scrollTo=o04fQKKuHM7g)\n",
        "\n",
        ">>>[Lists](#scrollTo=SjCaRJXrHM8S)\n",
        "\n",
        ">>[Primeros pasos en programación](#scrollTo=gm60ZbW8HM8u)\n",
        "\n",
        ">[Flujo de control](#scrollTo=ofpJkvSHqiX6)\n",
        "\n",
        ">>[Control IF](#scrollTo=m5iWjdMLrVsr)\n",
        "\n",
        ">>[Ciclo FOR](#scrollTo=-PxUh1WPsC9O)\n",
        "\n",
        ">[Aprende más](#scrollTo=sxfJVljcHM8z)\n",
        "\n"
      ]
    },
    {
      "cell_type": "markdown",
      "metadata": {
        "id": "7Qz2f4phHM6P",
        "colab_type": "text"
      },
      "source": [
        "# Una pequeña introducción Python\n",
        "\n",
        "\n",
        "Python es un lenguaje de programación, particularmente facil de aprender, y soportado por todos los sistemas operativos del mercado. \n",
        "Es soportado por una una gran comunidad y y posee infinidad de librerías disponibles, que van desde crear interfaces de usuario, scripts, parseo de datos y es ampliamente utilizado en el análisis de datos y machine learning.\n",
        "\n",
        "Puedes aprender más sobre el lenguaje en [python.org](https://www.python.org/) y en [Python for Beginners](https://www.python.org/about/gettingstarted/).\n",
        "\n",
        "La idea de las siguientes clases no es solo introducirlos en el mundo de Python orientado a el análisis de datos, sino en la utilización de Notebooks, herramienta escencial para poder desarrollar sus actividades.\n",
        "\n",
        "Al momento de escribir este documento, estaremos trabajando con Python 3.6.7, pero generalmente, lo que hagamos es aplicable a cualquier version de Python 3.x. Sin embargo, cabe destacar que hay usuarios que utilizan por diferentes razones, Python 2.x que ha quedado relegado. Por temas de compatibilidad y para evitar problemas durante el transcurso de la cursada, si desean usar su propia laptop/pc y ejecutar localmente los ejercicios, verifiquen que se encuentren trabajando en Python 3.x\n",
        "\n",
        "\n",
        "&nbsp; &nbsp; &nbsp; &nbsp;<img src=\"https://media.tenor.com/images/8548721849652c377413cd5312a077aa/tenor.gif\"  width=\"300\" height=\"250\" />\n",
        "\n",
        "> **Note**: El siguiente notebook ha sido diseñado para ser ejecutado en las celdas, y varios bloques de código contienen errores agregados adrede con el objetivo de poder identificar los problemas.\n",
        "Por lo que se recomienda ejecutar los siguientes ejercicios por celdas. De ejectuarlo por con la opción **Run All**, parte de los bloques podrían dar errores.\n"
      ]
    },
    {
      "cell_type": "markdown",
      "metadata": {
        "id": "IR6uX8fzHM6Q",
        "colab_type": "text"
      },
      "source": [
        "## Comentarios en Python\n",
        "\n",
        "Empecemos por el principio. En cualquier lenguaje de programación es importante documentar, y Python no es la excepción. Se recomienda siempre agregar comentario, particularmente a bloque de código que necesitan un contexto para comprender su funcionamiento. Para ello, en Python, como en otros lenguajes de programación, para comentar utilizamos el `#`. Agregando ese símbolo convertirá a lo que venga detras en un comentario, y sera ignorado por completo por el inteprete de Python.\n",
        "\n",
        "Ejemplo :"
      ]
    },
    {
      "cell_type": "code",
      "metadata": {
        "trusted": true,
        "id": "UDNspB7xHM6Q",
        "colab_type": "code",
        "colab": {}
      },
      "source": [
        "# Soy un hermoso comentario\n",
        "spam = 1  # Este es otro hermoso comentario\n",
        "          # ... ok.. no creo que sea tan hermoso\n",
        "text = \"# Piensas que soy un comentario? ERROR! como me encuentro entre \\\" \\\" soy una cadena de texto asignada, en este caso a una variable.\"\n",
        "print(text) # Despues explicaremos como funciona el print\n"
      ],
      "execution_count": 0,
      "outputs": []
    },
    {
      "cell_type": "markdown",
      "metadata": {
        "id": "iSSGZZsZHM6U",
        "colab_type": "text"
      },
      "source": [
        "## Veamos tipo de datos\n",
        "\n",
        "Exploremos números, cadenas, y listas. Particularmente las listas serán de utilidad para el manejo de datos que veremos en los siguientes ejercicios"
      ]
    },
    {
      "cell_type": "markdown",
      "metadata": {
        "id": "_xNQGfIUHM6U",
        "colab_type": "text"
      },
      "source": [
        "### Números\n",
        "\n",
        "A diferencia de lenguajes compilados como Java o C, Python utiliza un interprete para poder leer las sentencias y ejecutar el programa.\n",
        "Que significa eso? que podemos dialogar directamente con Python sin necesidad de pasar por complejos procesos de desarrollo y compilación de programas para poder realizar pruebas.\n",
        "\n",
        "Los operadores que utilizaremos son los ampliamente conocidos, como `+`, `-`, y `/`. Algo a recordar es que los (`()`) se utilizan para agrupar y ordenar el orden de precedencia. No es lo mismo `(1+2)*3` que `1+(2*3)`\n",
        "Ejemplo:"
      ]
    },
    {
      "cell_type": "code",
      "metadata": {
        "trusted": true,
        "id": "A7NNPIZaHM6V",
        "colab_type": "code",
        "outputId": "2716627a-83a1-47a1-c855-81f56982e9c2",
        "colab": {
          "base_uri": "https://localhost:8080/",
          "height": 34
        }
      },
      "source": [
        "2 + 2"
      ],
      "execution_count": 0,
      "outputs": [
        {
          "output_type": "execute_result",
          "data": {
            "text/plain": [
              "4"
            ]
          },
          "metadata": {
            "tags": []
          },
          "execution_count": 84
        }
      ]
    },
    {
      "cell_type": "code",
      "metadata": {
        "trusted": true,
        "id": "zTd1BK8aHM6X",
        "colab_type": "code",
        "outputId": "829fa9b7-7f7e-468a-8d7e-e03e5b0f39ad",
        "colab": {
          "base_uri": "https://localhost:8080/",
          "height": 34
        }
      },
      "source": [
        "50 - 5*6"
      ],
      "execution_count": 0,
      "outputs": [
        {
          "output_type": "execute_result",
          "data": {
            "text/plain": [
              "20"
            ]
          },
          "metadata": {
            "tags": []
          },
          "execution_count": 85
        }
      ]
    },
    {
      "cell_type": "code",
      "metadata": {
        "trusted": true,
        "id": "dX8SNTiJHM6Z",
        "colab_type": "code",
        "colab": {}
      },
      "source": [
        "(50 - 5*6) / 4"
      ],
      "execution_count": 0,
      "outputs": []
    },
    {
      "cell_type": "markdown",
      "metadata": {
        "id": "GeYrsh3wMbVW",
        "colab_type": "text"
      },
      "source": [
        "Es tu turno, realiza un cálculo y "
      ]
    },
    {
      "cell_type": "code",
      "metadata": {
        "trusted": true,
        "id": "MAjGKjhSHM6c",
        "colab_type": "code",
        "outputId": "20b2ad59-14ec-4f31-dc8a-73d8bffc787f",
        "colab": {
          "base_uri": "https://localhost:8080/",
          "height": 34
        }
      },
      "source": [
        " 2 + 2 * 3    # <- ingresa una operación utilizando operadores básicos y paréntesis"
      ],
      "execution_count": 0,
      "outputs": [
        {
          "output_type": "execute_result",
          "data": {
            "text/plain": [
              "12"
            ]
          },
          "metadata": {
            "tags": []
          },
          "execution_count": 89
        }
      ]
    },
    {
      "cell_type": "markdown",
      "metadata": {
        "id": "acsCyFRNHM6e",
        "colab_type": "text"
      },
      "source": [
        "Los números enteros son por ejemplo `2, 3, 4, 5`, y son del tipo [`int`](https://docs.python.org/3.5/library/functions.html#int), y los fraccionarios  `2.5, 3.14, 4.5, 5.1` son del tipo [`float`](https://docs.python.org/3.5/library/functions.html#float)\n",
        "\n",
        "Algo a tener en cuenta, la división siempre retorna un `float`. Ahora, si quieres obtener solo la parte entrea puedas utilizar el operador `//`; o puedes calcular el resto usando `%`\n",
        "\n",
        "Veamos unos ejemplos:"
      ]
    },
    {
      "cell_type": "code",
      "metadata": {
        "trusted": true,
        "id": "h_64nOLaHM6e",
        "colab_type": "code",
        "colab": {}
      },
      "source": [
        "17 / 3  # clasica división"
      ],
      "execution_count": 0,
      "outputs": []
    },
    {
      "cell_type": "code",
      "metadata": {
        "trusted": true,
        "id": "xZtK7I97HM6h",
        "colab_type": "code",
        "colab": {}
      },
      "source": [
        "17 // 3  # División entera "
      ],
      "execution_count": 0,
      "outputs": []
    },
    {
      "cell_type": "code",
      "metadata": {
        "trusted": true,
        "id": "cQk31CiTHM6j",
        "colab_type": "code",
        "colab": {}
      },
      "source": [
        "17 % 3  # Resto"
      ],
      "execution_count": 0,
      "outputs": []
    },
    {
      "cell_type": "markdown",
      "metadata": {
        "id": "jITaPJwCHM6p",
        "colab_type": "text"
      },
      "source": [
        "Para calcular potencias, se utiliza el operador `**`"
      ]
    },
    {
      "cell_type": "code",
      "metadata": {
        "trusted": true,
        "id": "T_Xu795eHM6p",
        "colab_type": "code",
        "outputId": "54ea7694-bc12-4fd3-806a-39329d041127",
        "colab": {
          "base_uri": "https://localhost:8080/",
          "height": 34
        }
      },
      "source": [
        "5 ** 2  # 5 al cuadrado"
      ],
      "execution_count": 0,
      "outputs": [
        {
          "output_type": "execute_result",
          "data": {
            "text/plain": [
              "25"
            ]
          },
          "metadata": {
            "tags": []
          },
          "execution_count": 90
        }
      ]
    },
    {
      "cell_type": "code",
      "metadata": {
        "trusted": true,
        "id": "tcPi5ZgmHM6r",
        "colab_type": "code",
        "outputId": "ba9c8450-97f9-49f9-a7cc-34252a5aff3f",
        "colab": {
          "base_uri": "https://localhost:8080/",
          "height": 34
        }
      },
      "source": [
        "2 ** 7  # 2 a la 7"
      ],
      "execution_count": 0,
      "outputs": [
        {
          "output_type": "execute_result",
          "data": {
            "text/plain": [
              "128"
            ]
          },
          "metadata": {
            "tags": []
          },
          "execution_count": 91
        }
      ]
    },
    {
      "cell_type": "markdown",
      "metadata": {
        "id": "6NmGwTkOHM6t",
        "colab_type": "text"
      },
      "source": [
        "`**` tiene precedente sobre `-`; si deseas una base negativa, utiliza paréntesis."
      ]
    },
    {
      "cell_type": "code",
      "metadata": {
        "trusted": true,
        "id": "222Dkl5lHM6t",
        "colab_type": "code",
        "outputId": "d6aae337-9287-4424-b04f-8d6b3dcd6c55",
        "colab": {
          "base_uri": "https://localhost:8080/",
          "height": 34
        }
      },
      "source": [
        "-3**2  # mismo resultado -(3**2)"
      ],
      "execution_count": 0,
      "outputs": [
        {
          "output_type": "execute_result",
          "data": {
            "text/plain": [
              "-9"
            ]
          },
          "metadata": {
            "tags": []
          },
          "execution_count": 92
        }
      ]
    },
    {
      "cell_type": "code",
      "metadata": {
        "trusted": true,
        "id": "pnQ47cAMHM6v",
        "colab_type": "code",
        "outputId": "5f87b0f4-88bb-46ee-8bda-358a3b35fbee",
        "colab": {
          "base_uri": "https://localhost:8080/",
          "height": 34
        }
      },
      "source": [
        "(-3)**2 # si agregamos paréntesis al número que deseamos potenciar."
      ],
      "execution_count": 0,
      "outputs": [
        {
          "output_type": "execute_result",
          "data": {
            "text/plain": [
              "9"
            ]
          },
          "metadata": {
            "tags": []
          },
          "execution_count": 93
        }
      ]
    },
    {
      "cell_type": "markdown",
      "metadata": {
        "id": "zB1jl7CTHM6x",
        "colab_type": "text"
      },
      "source": [
        "El signo (`=`) asigna el valor a una variable.\n",
        "*Nota: Como hemos comentado, Python es un lenguaje orientado a objetos, por lo que la asignación en realidad es una referencia al objeto en memoria* \n",
        "Veamos unos ejemplos.\n",
        "\n"
      ]
    },
    {
      "cell_type": "code",
      "metadata": {
        "trusted": true,
        "id": "UPPeyxX3HM6x",
        "colab_type": "code",
        "outputId": "63f64e2b-0e76-4e04-db75-419d15f614fc",
        "colab": {
          "base_uri": "https://localhost:8080/",
          "height": 34
        }
      },
      "source": [
        "ancho = 20\n",
        "alto = 10 * 90\n",
        "ancho * alto"
      ],
      "execution_count": 0,
      "outputs": [
        {
          "output_type": "execute_result",
          "data": {
            "text/plain": [
              "18000"
            ]
          },
          "metadata": {
            "tags": []
          },
          "execution_count": 95
        }
      ]
    },
    {
      "cell_type": "code",
      "metadata": {
        "id": "9gZt5lWf7ads",
        "colab_type": "code",
        "outputId": "748490fb-4e35-4d99-b009-3e2605316619",
        "colab": {
          "base_uri": "https://localhost:8080/",
          "height": 51
        }
      },
      "source": [
        "a = 5\n",
        "b = 5\n",
        "print (a)\n",
        "print (b)"
      ],
      "execution_count": 0,
      "outputs": [
        {
          "output_type": "stream",
          "text": [
            "5\n",
            "5\n"
          ],
          "name": "stdout"
        }
      ]
    },
    {
      "cell_type": "code",
      "metadata": {
        "id": "OpJy3MWS7gFG",
        "colab_type": "code",
        "outputId": "86f77981-bc4e-4a0b-b694-2836c3d26919",
        "colab": {
          "base_uri": "https://localhost:8080/",
          "height": 51
        }
      },
      "source": [
        "a = 5\n",
        "b = a\n",
        "print (a)\n",
        "print (b)"
      ],
      "execution_count": 0,
      "outputs": [
        {
          "output_type": "stream",
          "text": [
            "5\n",
            "5\n"
          ],
          "name": "stdout"
        }
      ]
    },
    {
      "cell_type": "code",
      "metadata": {
        "id": "-cU3V1VK7kYK",
        "colab_type": "code",
        "outputId": "338fdc5e-9ae5-45ee-e7a2-28fef095850f",
        "colab": {
          "base_uri": "https://localhost:8080/",
          "height": 51
        }
      },
      "source": [
        "c = 10\n",
        "a = 5\n",
        "b = a\n",
        "a = a + 5 #El resultado de esta operación es 10, también lo podemos escribir como a +=5 \n",
        "print (a)\n",
        "print (b)"
      ],
      "execution_count": 0,
      "outputs": [
        {
          "output_type": "stream",
          "text": [
            "10\n",
            "5\n"
          ],
          "name": "stdout"
        }
      ]
    },
    {
      "cell_type": "markdown",
      "metadata": {
        "id": "o-FAyeQL7xKn",
        "colab_type": "text"
      },
      "source": [
        "Que sucede? Como se puede observar, `a` apunta al objeto `5`, `b` apunta al mismo objeto que `a`. Ahora, `a` apunta a un nuevo objeto `10`, pero `b` sigue apuntando al objeto original, nunca ha actualizado su referencia, es por ello que el resultado de `b` sigue siendo `5`. \n",
        "Como podrías hacer para actualizar el valor de `b`?"
      ]
    },
    {
      "cell_type": "code",
      "metadata": {
        "id": "gyqQeG4F8TyN",
        "colab_type": "code",
        "outputId": "5f6e35f0-070d-4c8c-d1c2-85155836ff75",
        "colab": {
          "base_uri": "https://localhost:8080/",
          "height": 51
        }
      },
      "source": [
        "  b = a  # Ingrese código aquí\n",
        "  print (b)\n",
        "  print (c)"
      ],
      "execution_count": 0,
      "outputs": [
        {
          "output_type": "stream",
          "text": [
            "10\n",
            "10\n"
          ],
          "name": "stdout"
        }
      ]
    },
    {
      "cell_type": "markdown",
      "metadata": {
        "id": "hzJWxwuBHM6z",
        "colab_type": "text"
      },
      "source": [
        "Si una variable no se encuentra definida (con valor asignado) se podrá visualizar el siguiente error:"
      ]
    },
    {
      "cell_type": "code",
      "metadata": {
        "trusted": true,
        "id": "CDYdhC-OHM6z",
        "colab_type": "code",
        "outputId": "92d7f586-c30b-4c85-ab2b-525bcf031a88",
        "colab": {
          "base_uri": "https://localhost:8080/",
          "height": 34
        }
      },
      "source": [
        "n  # Intentamos acceder una variable no definida"
      ],
      "execution_count": 0,
      "outputs": [
        {
          "output_type": "execute_result",
          "data": {
            "text/plain": [
              "1"
            ]
          },
          "metadata": {
            "tags": []
          },
          "execution_count": 104
        }
      ]
    },
    {
      "cell_type": "markdown",
      "metadata": {
        "id": "LPvDuL47HM65",
        "colab_type": "text"
      },
      "source": [
        "Cuando nos encontramos en modo interactivo, o en este caso en Jupyter notebooks, la expresión del último comando impreso se asigna a una variable conocida como `_`. Esto significa que puedes seguir usando Python como una calculadora, particularmente simplifica continuar con cálculos que venías desarrollando como parte de tu investigación. "
      ]
    },
    {
      "cell_type": "code",
      "metadata": {
        "trusted": true,
        "id": "Vg8Ca-i5HM66",
        "colab_type": "code",
        "outputId": "b533d32d-a840-44a7-f12e-aba60b112ee5",
        "colab": {
          "base_uri": "https://localhost:8080/",
          "height": 34
        }
      },
      "source": [
        "impuesto = 12.5 / 100\n",
        "precio = 100.50\n",
        "precio * impuesto"
      ],
      "execution_count": 0,
      "outputs": [
        {
          "output_type": "execute_result",
          "data": {
            "text/plain": [
              "12.5625"
            ]
          },
          "metadata": {
            "tags": []
          },
          "execution_count": 105
        }
      ]
    },
    {
      "cell_type": "code",
      "metadata": {
        "trusted": true,
        "id": "J5Co9W8YHM67",
        "colab_type": "code",
        "outputId": "4daac982-de84-4461-9fcf-579e0778515b",
        "colab": {
          "base_uri": "https://localhost:8080/",
          "height": 34
        }
      },
      "source": [
        "precio + _"
      ],
      "execution_count": 0,
      "outputs": [
        {
          "output_type": "execute_result",
          "data": {
            "text/plain": [
              "113.0625"
            ]
          },
          "metadata": {
            "tags": []
          },
          "execution_count": 106
        }
      ]
    },
    {
      "cell_type": "code",
      "metadata": {
        "trusted": true,
        "id": "HTasx5AwHM69",
        "colab_type": "code",
        "outputId": "abdf58d8-4480-4b78-88db-7094fa39f11a",
        "colab": {
          "base_uri": "https://localhost:8080/",
          "height": 34
        }
      },
      "source": [
        "round(_, 2) # Comando que sirve para redondear resultados, en este caso le estamos solicitando que deje dos dígitos luego de la ,"
      ],
      "execution_count": 0,
      "outputs": [
        {
          "output_type": "execute_result",
          "data": {
            "text/plain": [
              "113.06"
            ]
          },
          "metadata": {
            "tags": []
          },
          "execution_count": 107
        }
      ]
    },
    {
      "cell_type": "markdown",
      "metadata": {
        "id": "8mO1BuIbHM6_",
        "colab_type": "text"
      },
      "source": [
        "Debes tener en cuenta que la variable `_` es de solo lectura. No se debe asignar valores a la misma. Para ello, crear un nuevo set de variables.\n",
        "Adicionalmente a los tipo de números que hemos visto, Python soporta otor tipos como pueden ser [`Decimal`](https://docs.python.org/3.5/library/decimal.html#decimal.Decimal) y[`Fraction`](https://docs.python.org/3.5/library/fractions.html#fractions.Fraction).\n",
        "Así mismo, Python provee soporte para números complejos [complex numbers](https://docs.python.org/3.5/library/stdtypes.html#typesnumeric), y usa \n",
        "los sufijos `j` o `J`  para indicar la parte imaginaria (`3+5j`).\n"
      ]
    },
    {
      "cell_type": "markdown",
      "metadata": {
        "id": "8RT2nYKVHM6_",
        "colab_type": "text"
      },
      "source": [
        "### Strings (Cadenas)"
      ]
    },
    {
      "cell_type": "markdown",
      "metadata": {
        "id": "2ECl37CIHM6_",
        "colab_type": "text"
      },
      "source": [
        "Además de números, Python puede manipular cadenas, una de las principales ventajas de usar Python para el análisis de datos. \n",
        "Las cadenas se encierran entre comillas simples (`'...'`) o comillas dobles (`\"...\"`) dando el mismo resultado.\n",
        "Muy importante, se utiliza el símbolo `\\` para \"escapar\" (evitar que el interprete identifique esa porción de cadena como instrucción) un caracter y poder seguir con la sentencia."
      ]
    },
    {
      "cell_type": "code",
      "metadata": {
        "trusted": true,
        "id": "hundqAgAHM7A",
        "colab_type": "code",
        "outputId": "5c4b7f89-ce50-4a79-b225-5f2f37713c12",
        "colab": {
          "base_uri": "https://localhost:8080/",
          "height": 34
        }
      },
      "source": [
        "'Pikachu'  # Comillas simples."
      ],
      "execution_count": 0,
      "outputs": [
        {
          "output_type": "execute_result",
          "data": {
            "text/plain": [
              "'Pikachu'"
            ]
          },
          "metadata": {
            "tags": []
          },
          "execution_count": 108
        }
      ]
    },
    {
      "cell_type": "code",
      "metadata": {
        "id": "fbsvUSJ9AOom",
        "colab_type": "code",
        "outputId": "e3ae6883-fb2f-408b-f9b2-d749873bdd68",
        "colab": {
          "base_uri": "https://localhost:8080/",
          "height": 34
        }
      },
      "source": [
        "'Pickachu \\'n Squirtle'# Usa \\' para escapar el caracter especial, donde lo agregaría?"
      ],
      "execution_count": 0,
      "outputs": [
        {
          "output_type": "execute_result",
          "data": {
            "text/plain": [
              "\"Pickachu 'n Squirtle\""
            ]
          },
          "metadata": {
            "tags": []
          },
          "execution_count": 111
        }
      ]
    },
    {
      "cell_type": "code",
      "metadata": {
        "trusted": true,
        "id": "8067MUe9HM7B",
        "colab_type": "code",
        "outputId": "61760c83-94f7-4182-da30-a8ccdddd53e5",
        "colab": {
          "base_uri": "https://localhost:8080/",
          "height": 34
        }
      },
      "source": [
        "'doesn\\'t'  # Usa \\' para escapar el caracter especial, donde lo agregaría?"
      ],
      "execution_count": 0,
      "outputs": [
        {
          "output_type": "execute_result",
          "data": {
            "text/plain": [
              "\"doesn't\""
            ]
          },
          "metadata": {
            "tags": []
          },
          "execution_count": 113
        }
      ]
    },
    {
      "cell_type": "code",
      "metadata": {
        "trusted": true,
        "id": "cgfPMh0wHM7D",
        "colab_type": "code",
        "outputId": "3fca3c2a-dc64-4327-cea0-7547014736bb",
        "colab": {
          "base_uri": "https://localhost:8080/",
          "height": 34
        }
      },
      "source": [
        "\"doesn't\"  # Otra forma es utiliza doble comillas combinadas con simples"
      ],
      "execution_count": 0,
      "outputs": [
        {
          "output_type": "execute_result",
          "data": {
            "text/plain": [
              "\"doesn't\""
            ]
          },
          "metadata": {
            "tags": []
          },
          "execution_count": 116
        }
      ]
    },
    {
      "cell_type": "code",
      "metadata": {
        "trusted": true,
        "id": "ox2LFW_CHM7F",
        "colab_type": "code",
        "outputId": "d2d48634-623d-4d87-ca0d-c833161b9945",
        "colab": {
          "base_uri": "https://localhost:8080/",
          "height": 34
        }
      },
      "source": [
        "'\"Yes,\" he said.' # Podemos combinar commilas simples con dobles, por ejemplo para resaltar una comentario"
      ],
      "execution_count": 0,
      "outputs": [
        {
          "output_type": "execute_result",
          "data": {
            "text/plain": [
              "'\"Yes,\" he said.'"
            ]
          },
          "metadata": {
            "tags": []
          },
          "execution_count": 117
        }
      ]
    },
    {
      "cell_type": "code",
      "metadata": {
        "trusted": true,
        "id": "sgIQY5gvHM7H",
        "colab_type": "code",
        "colab": {}
      },
      "source": [
        "\"\\\"Yes,\\\" he said.\" # porque usamos el símbolo de \\ aquí?"
      ],
      "execution_count": 0,
      "outputs": []
    },
    {
      "cell_type": "markdown",
      "metadata": {
        "id": "wO_ja3tiHM7K",
        "colab_type": "text"
      },
      "source": [
        "Tanto en el interprete interactivo de Python como en los Jupyter notebooks, la salidad de las cadenas se encierran en comillas y caracteres especiales son escapados con `\\`.\n",
        "Aunque la salida puede lucir diferente comparado con la entrada, las cadenas son equivalentes. La cadena es encerrada en doble comillas si la cadena contiene comillas simples y no comillas dobles, de otra forma la cadena se encierra en comillas simples.\n",
        "La función [`print()`](https://docs.python.org/3.6/library/functions.html#print) produce una salida simple de leer omitiendo las comillas que encierran a la cadena y símbolos escapados. \n"
      ]
    },
    {
      "cell_type": "code",
      "metadata": {
        "trusted": true,
        "id": "zyh8vAfuHM7K",
        "colab_type": "code",
        "outputId": "e5e88311-43ba-46b3-bf8a-e9d8c691f2c3",
        "colab": {
          "base_uri": "https://localhost:8080/",
          "height": 34
        }
      },
      "source": [
        "'\"Pickachu \\'n Squirtle\" son los mejores'\n",
        "a = 5\n",
        "a\n"
      ],
      "execution_count": 0,
      "outputs": [
        {
          "output_type": "execute_result",
          "data": {
            "text/plain": [
              "5"
            ]
          },
          "metadata": {
            "tags": []
          },
          "execution_count": 120
        }
      ]
    },
    {
      "cell_type": "code",
      "metadata": {
        "trusted": true,
        "id": "N5VIAGaKHM7N",
        "colab_type": "code",
        "outputId": "153e279e-e5ea-48d7-f910-0f3296932613",
        "colab": {
          "base_uri": "https://localhost:8080/",
          "height": 34
        }
      },
      "source": [
        "print('\"Pickachu \\'n Squirtle\" son los mejores')"
      ],
      "execution_count": 0,
      "outputs": [
        {
          "output_type": "stream",
          "text": [
            "\"Pickachu 'n Squirtle\" son los mejores\n"
          ],
          "name": "stdout"
        }
      ]
    },
    {
      "cell_type": "code",
      "metadata": {
        "trusted": true,
        "id": "Ve3t2UBEHM7O",
        "colab_type": "code",
        "outputId": "7a7628cb-2ab1-4cb9-f89b-60f04589f5e4",
        "colab": {
          "base_uri": "https://localhost:8080/",
          "height": 50
        }
      },
      "source": [
        "s = 'Primera Linea.' \n",
        "a = 'Segunda Linea.'  \n",
        "c = 'Tercera linea.'\n",
        "\n",
        "print (s, a, c)\n"
      ],
      "execution_count": 0,
      "outputs": [
        {
          "output_type": "stream",
          "text": [
            "Primera Linea. Segunda Linea. Tercera linea.\n"
          ],
          "name": "stdout"
        },
        {
          "output_type": "execute_result",
          "data": {
            "text/plain": [
              "'Segunda Linea.'"
            ]
          },
          "metadata": {
            "tags": []
          },
          "execution_count": 137
        }
      ]
    },
    {
      "cell_type": "code",
      "metadata": {
        "trusted": true,
        "id": "5DDMKUtRHM7S",
        "colab_type": "code",
        "outputId": "26942102-9879-4074-e4e5-c07e679ccfb3",
        "colab": {
          "base_uri": "https://localhost:8080/",
          "height": 34
        }
      },
      "source": [
        " i = 1\n",
        " print ('Hola este es mi primer programa ', i)# Ingrese código"
      ],
      "execution_count": 0,
      "outputs": [
        {
          "output_type": "stream",
          "text": [
            "Hola este es mi primer programa  1\n"
          ],
          "name": "stdout"
        }
      ]
    },
    {
      "cell_type": "markdown",
      "metadata": {
        "id": "ZFmtGOPdHM7U",
        "colab_type": "text"
      },
      "source": [
        "Ahora bien, podemos encontrarnos en situaciones donde no necesitemos escapar un símbolo, y sea de utilidad el caracter `\\` para ser integrado como parte de la cadena final. Para ello utilizamos el operador `r` al comenzar la sentencia. De esta forma, el interprete sabrá que lo que se ingrese como cadena debe mantener ese formato."
      ]
    },
    {
      "cell_type": "code",
      "metadata": {
        "trusted": true,
        "id": "eqcYllg-HM7U",
        "colab_type": "code",
        "outputId": "0c74b17a-e6c2-4365-cb5b-2fb813004087",
        "colab": {
          "base_uri": "https://localhost:8080/",
          "height": 67
        }
      },
      "source": [
        "print('C:\\name_1\\name_2')  # recuerdan que \\n significa nueva línea"
      ],
      "execution_count": 0,
      "outputs": [
        {
          "output_type": "stream",
          "text": [
            "C:\n",
            "ame_1\n",
            "ame_2\n"
          ],
          "name": "stdout"
        }
      ]
    },
    {
      "cell_type": "code",
      "metadata": {
        "trusted": true,
        "id": "XtEdav8aHM7W",
        "colab_type": "code",
        "outputId": "9af5267f-2366-4a6d-9132-a20790524762",
        "colab": {
          "base_uri": "https://localhost:8080/",
          "height": 34
        }
      },
      "source": [
        "print(r'C:\\name_1\\name_2')  # Agregamos el operador r"
      ],
      "execution_count": 0,
      "outputs": [
        {
          "output_type": "stream",
          "text": [
            "C:\\name_1\\name_2\n"
          ],
          "name": "stdout"
        }
      ]
    },
    {
      "cell_type": "markdown",
      "metadata": {
        "id": "hr60TA9EHM7Y",
        "colab_type": "text"
      },
      "source": [
        "Las Cadenas literales puede ser distribuidas entre multiples líneas utilizando triple comillas ( Seguimos acumulando comillas =) ). `\"\"\"...\"\"\"` o `'''...'''`\n",
        "Los finales de linea son automáticamente incluidos en la cadena. Es posible evitar esto agregando la contra barra `\\` al final de la linea. \n",
        "Por ejemplo sin la `\\` el siguiente ejemplo incluye lineas adicionales al comienzo de la salida.\n"
      ]
    },
    {
      "cell_type": "code",
      "metadata": {
        "trusted": true,
        "id": "16VkKXSiHM7Y",
        "colab_type": "code",
        "outputId": "aaf20bc2-2f7b-43be-805e-8e0b23a4f0f1",
        "colab": {
          "base_uri": "https://localhost:8080/",
          "height": 101
        }
      },
      "source": [
        "print(\"\"\"\n",
        "Usage: thingy [OPTIONS]\n",
        "     -h                        Display this usage message\n",
        "     -H hostname               Hostname to connect to\n",
        "\"\"\")"
      ],
      "execution_count": 0,
      "outputs": [
        {
          "output_type": "stream",
          "text": [
            "\n",
            "Usage: thingy [OPTIONS]\n",
            "     -h                        Display this usage message\n",
            "     -H hostname               Hostname to connect to\n",
            "\n"
          ],
          "name": "stdout"
        }
      ]
    },
    {
      "cell_type": "markdown",
      "metadata": {
        "id": "FStYgv7oHM7b",
        "colab_type": "text"
      },
      "source": [
        "Agregando  `\\` remueve los saltos adicionales.:"
      ]
    },
    {
      "cell_type": "code",
      "metadata": {
        "trusted": true,
        "id": "K0O5wZosHM7b",
        "colab_type": "code",
        "outputId": "0559ae61-bfb6-4efb-d0aa-ba9652d62f77",
        "colab": {
          "base_uri": "https://localhost:8080/",
          "height": 84
        }
      },
      "source": [
        "print(\"\"\"\\\n",
        "Usage: thingy [OPTIONS]\n",
        "     -h                        Display this usage message\n",
        "     -H hostname               Hostname to connect to\n",
        "\"\"\")"
      ],
      "execution_count": 0,
      "outputs": [
        {
          "output_type": "stream",
          "text": [
            "Usage: thingy [OPTIONS]\n",
            "     -h                        Display this usage message\n",
            "     -H hostname               Hostname to connect to\n",
            "\n"
          ],
          "name": "stdout"
        }
      ]
    },
    {
      "cell_type": "markdown",
      "metadata": {
        "id": "_VGVKnY_HM7d",
        "colab_type": "text"
      },
      "source": [
        "Debido a que Python no provee comentarios multi-lines, desarrolladores generalmente utilizan comillas triples para ese proposito.\n",
        "In los Jupyter notebooks, definen una cadena literal que aparece como salida, ya que el notebook se comporta como un interprete interactivo de python.\n"
      ]
    },
    {
      "cell_type": "code",
      "metadata": {
        "trusted": true,
        "id": "3cuhDyvoHM7d",
        "colab_type": "code",
        "colab": {}
      },
      "source": [
        "\"\"\"\n",
        "Este es un comentario entre comillas triples que incluye nuevas lineas,\n",
        "sinceramente estaba considerando crear mi propia criptomoneda llamada 'Banana'\n",
        "pero alguien se me adelantó y ha iniciado dicho proyecto. Ahora gente puede\n",
        "cambiar dinero por 'Bananas' [BananaCoin](https://bananacoin.io/)\n",
        "\"\"\""
      ],
      "execution_count": 0,
      "outputs": []
    },
    {
      "cell_type": "markdown",
      "metadata": {
        "id": "ygJNlSAPHM7g",
        "colab_type": "text"
      },
      "source": [
        "Por esa razón, la mejor práctica al trabajar y compartir notebooks es utilizar el caracter `#` al comienzo de la línea para iniciar comentarios."
      ]
    },
    {
      "cell_type": "markdown",
      "metadata": {
        "id": "o04fQKKuHM7g",
        "colab_type": "text"
      },
      "source": [
        "#Concatenación\n",
        "\n",
        "Las cadenas pueden ser *concatenadas* (pegadas) con el operador `+`, y repetidas veces con `*`"
      ]
    },
    {
      "cell_type": "code",
      "metadata": {
        "trusted": true,
        "id": "fOpxzkxZHM7g",
        "colab_type": "code",
        "outputId": "acc70e79-fb77-4e38-f3d1-604c7c88d70b",
        "colab": {
          "base_uri": "https://localhost:8080/",
          "height": 34
        }
      },
      "source": [
        "# 3 veces 'picka', seguido de 'chu'\n",
        "3 * 'picka' + 'chu'"
      ],
      "execution_count": 0,
      "outputs": [
        {
          "output_type": "execute_result",
          "data": {
            "text/plain": [
              "'pickapickapickachu'"
            ]
          },
          "metadata": {
            "tags": []
          },
          "execution_count": 144
        }
      ]
    },
    {
      "cell_type": "markdown",
      "metadata": {
        "id": "RrRApouGHM7i",
        "colab_type": "text"
      },
      "source": [
        "Dos o más *Cadenas literales* encerradas en comillas puestas una al lado de otra, son automaticamente concatenadas.\n"
      ]
    },
    {
      "cell_type": "code",
      "metadata": {
        "trusted": true,
        "id": "XCakuMyoHM7i",
        "colab_type": "code",
        "outputId": "25e2d7ba-1741-4e14-96d6-5230b13a2570",
        "colab": {
          "base_uri": "https://localhost:8080/",
          "height": 34
        }
      },
      "source": [
        "'No me agrada la cadena de la derecha' 'Suck it up bro!'"
      ],
      "execution_count": 0,
      "outputs": [
        {
          "output_type": "execute_result",
          "data": {
            "text/plain": [
              "'No me agrada la cadena de la derecha Suck it up bro!'"
            ]
          },
          "metadata": {
            "tags": []
          },
          "execution_count": 146
        }
      ]
    },
    {
      "cell_type": "markdown",
      "metadata": {
        "id": "xMzAoCfwHM7k",
        "colab_type": "text"
      },
      "source": [
        "La concatenación automática funciona solamente con dos cadenas literales, no funciona con variables o expresiones. "
      ]
    },
    {
      "cell_type": "code",
      "metadata": {
        "trusted": true,
        "id": "oBLCa4txHM7k",
        "colab_type": "code",
        "outputId": "2fc14f0e-e5ed-44a2-fb90-e6e356e70439",
        "colab": {
          "base_uri": "https://localhost:8080/",
          "height": 129
        }
      },
      "source": [
        "prefix = 'Picka'\n",
        "prefix 'chu'  # No se puede concatenar una variable con una cadena"
      ],
      "execution_count": 0,
      "outputs": [
        {
          "output_type": "error",
          "ename": "SyntaxError",
          "evalue": "ignored",
          "traceback": [
            "\u001b[0;36m  File \u001b[0;32m\"<ipython-input-147-e1e8060441ee>\"\u001b[0;36m, line \u001b[0;32m2\u001b[0m\n\u001b[0;31m    prefix 'chu'  # No se puede concatenar una variable con una cadena\u001b[0m\n\u001b[0m               ^\u001b[0m\n\u001b[0;31mSyntaxError\u001b[0m\u001b[0;31m:\u001b[0m invalid syntax\n"
          ]
        }
      ]
    },
    {
      "cell_type": "markdown",
      "metadata": {
        "id": "oFEU0BzzHM7m",
        "colab_type": "text"
      },
      "source": [
        "La siguiente linea también dará un error:"
      ]
    },
    {
      "cell_type": "code",
      "metadata": {
        "trusted": true,
        "id": "WNs1iRezHM7n",
        "colab_type": "code",
        "outputId": "573be119-b715-4641-dd35-311ce19d2a6a",
        "colab": {
          "base_uri": "https://localhost:8080/",
          "height": 129
        }
      },
      "source": [
        "('picka' * 3) 'chu'"
      ],
      "execution_count": 0,
      "outputs": [
        {
          "output_type": "error",
          "ename": "SyntaxError",
          "evalue": "ignored",
          "traceback": [
            "\u001b[0;36m  File \u001b[0;32m\"<ipython-input-148-c7ff8fe63507>\"\u001b[0;36m, line \u001b[0;32m1\u001b[0m\n\u001b[0;31m    ('picka' * 3) 'chu'\u001b[0m\n\u001b[0m                      ^\u001b[0m\n\u001b[0;31mSyntaxError\u001b[0m\u001b[0;31m:\u001b[0m invalid syntax\n"
          ]
        }
      ]
    },
    {
      "cell_type": "markdown",
      "metadata": {
        "id": "AgyTQMnNHM7o",
        "colab_type": "text"
      },
      "source": [
        "Para concatenar dos variables, o variables con literales utilizamos el operador `+`:\n",
        "\n"
      ]
    },
    {
      "cell_type": "code",
      "metadata": {
        "trusted": true,
        "id": "ey3_cKUHHM7p",
        "colab_type": "code",
        "outputId": "129ef562-5921-40a7-e1ad-849ac0745e0b",
        "colab": {
          "base_uri": "https://localhost:8080/",
          "height": 34
        }
      },
      "source": [
        "prefix = 'Picka'\n",
        "prefix + 'chu'"
      ],
      "execution_count": 0,
      "outputs": [
        {
          "output_type": "execute_result",
          "data": {
            "text/plain": [
              "'Pickachu'"
            ]
          },
          "metadata": {
            "tags": []
          },
          "execution_count": 149
        }
      ]
    },
    {
      "cell_type": "markdown",
      "metadata": {
        "id": "ygL8t4MRHM7q",
        "colab_type": "text"
      },
      "source": [
        "Cuando es útil la concatenación automática? Cuando quieres separar dos cadenas que son particularmente largas.\n"
      ]
    },
    {
      "cell_type": "code",
      "metadata": {
        "trusted": true,
        "id": "u0B9nSxpHM7r",
        "colab_type": "code",
        "outputId": "dbfb64b5-7a76-4b50-b376-a445c483b829",
        "colab": {
          "base_uri": "https://localhost:8080/",
          "height": 34
        }
      },
      "source": [
        "text = ('Esto es una línea de código que no quiero que se extienda mucho,' \n",
        "              'por ello, sigo debajo lo que me resulta cómodo .')\n",
        "\n",
        "print (text)"
      ],
      "execution_count": 0,
      "outputs": [
        {
          "output_type": "stream",
          "text": [
            "Esto es una línea de código que no quiero que se extienda mucho,por ello, sigo debajo lo que me resulta cómodo .\n"
          ],
          "name": "stdout"
        }
      ]
    },
    {
      "cell_type": "markdown",
      "metadata": {
        "id": "MXepKrqfHM7s",
        "colab_type": "text"
      },
      "source": [
        "Ahora empecemos con cosas avanzadas. Las cadenas pueden ser *indexadas*, con el primer caracter comenzando en 0. Quedense con esa idea, porque será interesante al momento de ver listas.\n"
      ]
    },
    {
      "cell_type": "code",
      "metadata": {
        "trusted": true,
        "id": "-2NI1t_VHM7t",
        "colab_type": "code",
        "outputId": "9f270dae-a86c-4e48-a5c1-5326bdf2d9be",
        "colab": {
          "base_uri": "https://localhost:8080/",
          "height": 34
        }
      },
      "source": [
        "word = 'Python'\n",
        "word[0]  # Posición 0 de la cadena"
      ],
      "execution_count": 0,
      "outputs": [
        {
          "output_type": "execute_result",
          "data": {
            "text/plain": [
              "'P'"
            ]
          },
          "metadata": {
            "tags": []
          },
          "execution_count": 153
        }
      ]
    },
    {
      "cell_type": "code",
      "metadata": {
        "trusted": true,
        "id": "xlrdu7YdHM7u",
        "colab_type": "code",
        "outputId": "d6ff57a6-92bd-4db4-ef30-6517103ef7be",
        "colab": {
          "base_uri": "https://localhost:8080/",
          "height": 34
        }
      },
      "source": [
        "word[5]  # Posición 5 de la cadena"
      ],
      "execution_count": 0,
      "outputs": [
        {
          "output_type": "execute_result",
          "data": {
            "text/plain": [
              "'n'"
            ]
          },
          "metadata": {
            "tags": []
          },
          "execution_count": 154
        }
      ]
    },
    {
      "cell_type": "markdown",
      "metadata": {
        "id": "ivIIeFerHM7v",
        "colab_type": "text"
      },
      "source": [
        "Los índices pueden ser negativos, esto significa que comienza a contar desde el final de la cadena. Tener en cuenta que los índices negativos comienzan con -1, que viene a ser equivalente a 0 comenzando desde la izquierda.\n"
      ]
    },
    {
      "cell_type": "code",
      "metadata": {
        "trusted": true,
        "id": "aqSvvAfPHM7v",
        "colab_type": "code",
        "outputId": "b737a9c8-5e9e-4056-afc0-881081622548",
        "colab": {
          "base_uri": "https://localhost:8080/",
          "height": 34
        }
      },
      "source": [
        "word[-3]  # Teniendo en cuenta la última cadena, -1 es equivalente a 5"
      ],
      "execution_count": 0,
      "outputs": [
        {
          "output_type": "execute_result",
          "data": {
            "text/plain": [
              "'h'"
            ]
          },
          "metadata": {
            "tags": []
          },
          "execution_count": 157
        }
      ]
    },
    {
      "cell_type": "code",
      "metadata": {
        "trusted": true,
        "id": "e2XMMwZGHM7x",
        "colab_type": "code",
        "outputId": "d1a63abd-f186-4c58-dd8e-f62a3373a759",
        "colab": {
          "base_uri": "https://localhost:8080/",
          "height": 34
        }
      },
      "source": [
        "word[-2]  # segundo caracter de la cadena comenzando desde el final"
      ],
      "execution_count": 0,
      "outputs": [
        {
          "output_type": "execute_result",
          "data": {
            "text/plain": [
              "'o'"
            ]
          },
          "metadata": {
            "tags": []
          },
          "execution_count": 158
        }
      ]
    },
    {
      "cell_type": "markdown",
      "metadata": {
        "id": "DlwOH_KQHM70",
        "colab_type": "text"
      },
      "source": [
        "Addicionalmente a los índices, Python soporta *Rebanar* (Extraer) una subcadena. Para realizarlo, debes indicar el rango de comienzo y final utilizando la siguiente notación entre llaves `start:end`.\n",
        "Algo a tener en cuenta **MUY IMPORTANTE** es que el caracter de comienzo `start` es incluido en la subcadena, mientras que el de `end` no lo es.\n"
      ]
    },
    {
      "cell_type": "code",
      "metadata": {
        "trusted": true,
        "id": "wRWw9x2bHM71",
        "colab_type": "code",
        "outputId": "9ea99cff-29de-4127-a362-66c781cbdf21",
        "colab": {
          "base_uri": "https://localhost:8080/",
          "height": 34
        }
      },
      "source": [
        "word[0:2]  # Aqui tomamos rango de 0:2, pero toma Py como resultado, incluye el primer caracter pero excluye el último"
      ],
      "execution_count": 0,
      "outputs": [
        {
          "output_type": "execute_result",
          "data": {
            "text/plain": [
              "'Py'"
            ]
          },
          "metadata": {
            "tags": []
          },
          "execution_count": 159
        }
      ]
    },
    {
      "cell_type": "code",
      "metadata": {
        "trusted": true,
        "id": "g5pTM3TkHM73",
        "colab_type": "code",
        "outputId": "f071e1b0-b7e6-47fe-9236-7fc84500d74f",
        "colab": {
          "base_uri": "https://localhost:8080/",
          "height": 34
        }
      },
      "source": [
        "word[2:5]  # "
      ],
      "execution_count": 0,
      "outputs": [
        {
          "output_type": "execute_result",
          "data": {
            "text/plain": [
              "'tho'"
            ]
          },
          "metadata": {
            "tags": []
          },
          "execution_count": 160
        }
      ]
    },
    {
      "cell_type": "markdown",
      "metadata": {
        "id": "Qi9Jv112HM75",
        "colab_type": "text"
      },
      "source": [
        "Si se omite el rango de inicio, Python interpreta que se debe comenzar desde la posición 0."
      ]
    },
    {
      "cell_type": "code",
      "metadata": {
        "trusted": true,
        "id": "Dw6KJTr1HM75",
        "colab_type": "code",
        "outputId": "b4a8f6fb-81cc-422e-a408-24ac0264f1ce",
        "colab": {
          "base_uri": "https://localhost:8080/",
          "height": 34
        }
      },
      "source": [
        "word[:2]   # Caracteres desde el comienzo hasta el 2 sin incluirlo"
      ],
      "execution_count": 0,
      "outputs": [
        {
          "output_type": "execute_result",
          "data": {
            "text/plain": [
              "'Py'"
            ]
          },
          "metadata": {
            "tags": []
          },
          "execution_count": 161
        }
      ]
    },
    {
      "cell_type": "code",
      "metadata": {
        "trusted": true,
        "id": "scbDyS3FHM78",
        "colab_type": "code",
        "outputId": "ec7b0bce-abfb-4539-c502-558fd1fcc0a6",
        "colab": {
          "base_uri": "https://localhost:8080/",
          "height": 34
        }
      },
      "source": [
        "\n",
        "word[-2:]  # Que sucede aquí?"
      ],
      "execution_count": 0,
      "outputs": [
        {
          "output_type": "execute_result",
          "data": {
            "text/plain": [
              "'on'"
            ]
          },
          "metadata": {
            "tags": []
          },
          "execution_count": 162
        }
      ]
    },
    {
      "cell_type": "markdown",
      "metadata": {
        "id": "jtQeREFRHM7_",
        "colab_type": "text"
      },
      "source": [
        "Cual sería el resultado de la siguiente operación? `s[:i] + s[i:]`? será `s` \n"
      ]
    },
    {
      "cell_type": "code",
      "metadata": {
        "trusted": true,
        "id": "FSOBCVSmHM7_",
        "colab_type": "code",
        "outputId": "0bddfa65-eabc-4ea2-b4a4-869ac20d2c97",
        "colab": {
          "base_uri": "https://localhost:8080/",
          "height": 34
        }
      },
      "source": [
        "word[:2] + word[2:]"
      ],
      "execution_count": 0,
      "outputs": [
        {
          "output_type": "execute_result",
          "data": {
            "text/plain": [
              "'Python'"
            ]
          },
          "metadata": {
            "tags": []
          },
          "execution_count": 163
        }
      ]
    },
    {
      "cell_type": "code",
      "metadata": {
        "id": "-NgqpuPhuBXL",
        "colab_type": "code",
        "outputId": "d67e3367-a707-4777-8e89-cd4115a63df7",
        "colab": {
          "base_uri": "https://localhost:8080/",
          "height": 34
        }
      },
      "source": [
        "word[:2]"
      ],
      "execution_count": 0,
      "outputs": [
        {
          "output_type": "execute_result",
          "data": {
            "text/plain": [
              "'Py'"
            ]
          },
          "metadata": {
            "tags": []
          },
          "execution_count": 164
        }
      ]
    },
    {
      "cell_type": "code",
      "metadata": {
        "id": "Qsk63IF_uDL6",
        "colab_type": "code",
        "outputId": "3b17320c-cc68-4487-b1a5-2ead50442e31",
        "colab": {
          "base_uri": "https://localhost:8080/",
          "height": 34
        }
      },
      "source": [
        "word[2:]"
      ],
      "execution_count": 0,
      "outputs": [
        {
          "output_type": "execute_result",
          "data": {
            "text/plain": [
              "'thon'"
            ]
          },
          "metadata": {
            "tags": []
          },
          "execution_count": 165
        }
      ]
    },
    {
      "cell_type": "code",
      "metadata": {
        "trusted": true,
        "id": "_RkJA0L-HM8D",
        "colab_type": "code",
        "outputId": "a2ee2924-1886-46e7-f98d-f7a2a9b55053",
        "colab": {}
      },
      "source": [
        "word[:4] + word[4:]"
      ],
      "execution_count": 0,
      "outputs": [
        {
          "output_type": "execute_result",
          "data": {
            "text/plain": [
              "'Python'"
            ]
          },
          "metadata": {
            "tags": []
          },
          "execution_count": 56
        }
      ]
    },
    {
      "cell_type": "markdown",
      "metadata": {
        "id": "x5CzfSnjHM8F",
        "colab_type": "text"
      },
      "source": [
        "Una forma de recorda como `slices` trabaja es pensar en los índices como punteros entre caracteres, con el primer carácter comenzando desde izquierda con el índice 0.\n"
      ]
    },
    {
      "cell_type": "markdown",
      "metadata": {
        "id": "wevW9QDeHM8G",
        "colab_type": "text"
      },
      "source": [
        "Si utilizamos un índice fuera del rango de la cadena, obtendremos un mensaje de error.\n",
        "\n",
        "\n"
      ]
    },
    {
      "cell_type": "code",
      "metadata": {
        "trusted": true,
        "id": "ED4CQuCcHM8G",
        "colab_type": "code",
        "outputId": "3ee70802-8afc-43a6-bad0-cd60b4f53f6f",
        "colab": {
          "base_uri": "https://localhost:8080/",
          "height": 162
        }
      },
      "source": [
        "word[42]  # The word only has 6 characters."
      ],
      "execution_count": 0,
      "outputs": [
        {
          "output_type": "error",
          "ename": "IndexError",
          "evalue": "ignored",
          "traceback": [
            "\u001b[0;31m---------------------------------------------------------------------------\u001b[0m",
            "\u001b[0;31mIndexError\u001b[0m                                Traceback (most recent call last)",
            "\u001b[0;32m<ipython-input-166-e894f93573ea>\u001b[0m in \u001b[0;36m<module>\u001b[0;34m()\u001b[0m\n\u001b[0;32m----> 1\u001b[0;31m \u001b[0mword\u001b[0m\u001b[0;34m[\u001b[0m\u001b[0;36m42\u001b[0m\u001b[0;34m]\u001b[0m  \u001b[0;31m# The word only has 6 characters.\u001b[0m\u001b[0;34m\u001b[0m\u001b[0;34m\u001b[0m\u001b[0m\n\u001b[0m",
            "\u001b[0;31mIndexError\u001b[0m: string index out of range"
          ]
        }
      ]
    },
    {
      "cell_type": "markdown",
      "metadata": {
        "id": "YT2zePDGHM8I",
        "colab_type": "text"
      },
      "source": [
        "Sin embargo, utilizando un rango, podemos extraer una subcadena independientemente del largo por default que tenga el tamaño de la cadena original. Esto es útil cuando quieres extraer algo particular sin tener en cuenta la longitud real de la cadena.\n"
      ]
    },
    {
      "cell_type": "code",
      "metadata": {
        "trusted": true,
        "id": "erA1crqXHM8I",
        "colab_type": "code",
        "outputId": "09d98880-aebd-45a9-809c-37a5a1c92e10",
        "colab": {
          "base_uri": "https://localhost:8080/",
          "height": 34
        }
      },
      "source": [
        "word[2:100]"
      ],
      "execution_count": 0,
      "outputs": [
        {
          "output_type": "execute_result",
          "data": {
            "text/plain": [
              "'thon'"
            ]
          },
          "metadata": {
            "tags": []
          },
          "execution_count": 170
        }
      ]
    },
    {
      "cell_type": "code",
      "metadata": {
        "trusted": true,
        "id": "48pdgKygHM8K",
        "colab_type": "code",
        "colab": {}
      },
      "source": [
        "word[42:]"
      ],
      "execution_count": 0,
      "outputs": []
    },
    {
      "cell_type": "markdown",
      "metadata": {
        "id": "9KauhDFKHM8L",
        "colab_type": "text"
      },
      "source": [
        "Las cadenas de caracteres es [inmutable](https://docs.python.org/3.5/glossary.html#term-immutable), lo que significa que n puede ser cambiada. Por lo que asignarle un valor a una posición de índice de una cadena resulta en error."
      ]
    },
    {
      "cell_type": "code",
      "metadata": {
        "trusted": true,
        "id": "gtbja1SVHM8L",
        "colab_type": "code",
        "outputId": "fb6ee7c8-4517-4dd9-993f-21629da7db7d",
        "colab": {
          "base_uri": "https://localhost:8080/",
          "height": 162
        }
      },
      "source": [
        "word[0] = 'J'"
      ],
      "execution_count": 0,
      "outputs": [
        {
          "output_type": "error",
          "ename": "TypeError",
          "evalue": "ignored",
          "traceback": [
            "\u001b[0;31m---------------------------------------------------------------------------\u001b[0m",
            "\u001b[0;31mTypeError\u001b[0m                                 Traceback (most recent call last)",
            "\u001b[0;32m<ipython-input-171-91a956888ca7>\u001b[0m in \u001b[0;36m<module>\u001b[0;34m()\u001b[0m\n\u001b[0;32m----> 1\u001b[0;31m \u001b[0mword\u001b[0m\u001b[0;34m[\u001b[0m\u001b[0;36m0\u001b[0m\u001b[0;34m]\u001b[0m \u001b[0;34m=\u001b[0m \u001b[0;34m'J'\u001b[0m\u001b[0;34m\u001b[0m\u001b[0;34m\u001b[0m\u001b[0m\n\u001b[0m",
            "\u001b[0;31mTypeError\u001b[0m: 'str' object does not support item assignment"
          ]
        }
      ]
    },
    {
      "cell_type": "markdown",
      "metadata": {
        "id": "H2ItFUk7HM8O",
        "colab_type": "text"
      },
      "source": [
        "Puedes concatenar una cadena con un `slide` (subcadena). Como lo harías?"
      ]
    },
    {
      "cell_type": "code",
      "metadata": {
        "trusted": true,
        "id": "ORWcz5K_HM8O",
        "colab_type": "code",
        "outputId": "70816b43-25c7-4fbe-cf3e-977bf9c4f6da",
        "colab": {
          "base_uri": "https://localhost:8080/",
          "height": 34
        }
      },
      "source": [
        "'J'+ word[4:] # Como se concatena J con la subcadena de word? Recuerden que word=python"
      ],
      "execution_count": 0,
      "outputs": [
        {
          "output_type": "execute_result",
          "data": {
            "text/plain": [
              "'Jon'"
            ]
          },
          "metadata": {
            "tags": []
          },
          "execution_count": 176
        }
      ]
    },
    {
      "cell_type": "markdown",
      "metadata": {
        "id": "PqpecIn2HM8Q",
        "colab_type": "text"
      },
      "source": [
        "Algo a recordar es que un `slice` no es un string literal, ergo no puede ser concatenado automaticamente con otra cadena. Lo siguiente dará error:"
      ]
    },
    {
      "cell_type": "code",
      "metadata": {
        "trusted": true,
        "id": "LEiPMGA0HM8Q",
        "colab_type": "code",
        "outputId": "a7811e36-cad6-456c-de26-80bff7f1285e",
        "colab": {
          "base_uri": "https://localhost:8080/",
          "height": 34
        }
      },
      "source": [
        "word[:2]+'Py'    # Slice is not a literal; produces an error"
      ],
      "execution_count": 0,
      "outputs": [
        {
          "output_type": "execute_result",
          "data": {
            "text/plain": [
              "'PyPy'"
            ]
          },
          "metadata": {
            "tags": []
          },
          "execution_count": 178
        }
      ]
    },
    {
      "cell_type": "markdown",
      "metadata": {
        "id": "7iSQDvkpHM8R",
        "colab_type": "text"
      },
      "source": [
        "Algo que usarás a lo largo de tu curso, es la función [`len()`](https://docs.python.org/3.5/library/functions.html#len) de Python, la cual retorna la longitud de una cadena.\n"
      ]
    },
    {
      "cell_type": "code",
      "metadata": {
        "trusted": true,
        "id": "yzc9Uv__HM8R",
        "colab_type": "code",
        "outputId": "fd4f01b1-4bcb-4d18-d409-940d4e36652b",
        "colab": {
          "base_uri": "https://localhost:8080/",
          "height": 34
        }
      },
      "source": [
        "s = 'Tony no merecía morir, Te quiero 3000'\n",
        "len(s)"
      ],
      "execution_count": 0,
      "outputs": [
        {
          "output_type": "execute_result",
          "data": {
            "text/plain": [
              "37"
            ]
          },
          "metadata": {
            "tags": []
          },
          "execution_count": 179
        }
      ]
    },
    {
      "cell_type": "markdown",
      "metadata": {
        "id": "SjCaRJXrHM8S",
        "colab_type": "text"
      },
      "source": [
        "### Lists"
      ]
    },
    {
      "cell_type": "markdown",
      "metadata": {
        "id": "AdovcorYHM8T",
        "colab_type": "text"
      },
      "source": [
        "Python reconoce un número de tipos de datos compuestos que son usado para agrupar valores. La forma más versátil es mediante el uso de [*list*](https://docs.python.org/3.5/library/stdtypes.html#typesseq-list), que pueden ser escritas como items separados por comas `,` entre `[]`. La listas pueden contienen diferente tipos de ítems, pero usualmente son todos del mismo tipo."
      ]
    },
    {
      "cell_type": "code",
      "metadata": {
        "trusted": true,
        "id": "VQEoSq-OHM8T",
        "colab_type": "code",
        "colab": {}
      },
      "source": [
        "deadpool = ['banana', 'unicornio', 'Dopinder', 'Cable', 'Colossus', '<3 Wolverine <3']\n",
        "deadpool"
      ],
      "execution_count": 0,
      "outputs": []
    },
    {
      "cell_type": "markdown",
      "metadata": {
        "id": "0VOPmPmkHM8V",
        "colab_type": "text"
      },
      "source": [
        "Recuerdan las cadenas? Con las lista podemos utilizar índices para ubicar elementos y \"Rebarnarlos\" ."
      ]
    },
    {
      "cell_type": "code",
      "metadata": {
        "trusted": true,
        "id": "TfQjQnrxHM8V",
        "colab_type": "code",
        "outputId": "2fded092-2b5a-4a23-cb7d-0888e1497359",
        "colab": {
          "base_uri": "https://localhost:8080/",
          "height": 34
        }
      },
      "source": [
        "deadpool[0]  # Retorna el primer elemento."
      ],
      "execution_count": 0,
      "outputs": [
        {
          "output_type": "execute_result",
          "data": {
            "text/plain": [
              "'banana'"
            ]
          },
          "metadata": {
            "tags": []
          },
          "execution_count": 180
        }
      ]
    },
    {
      "cell_type": "code",
      "metadata": {
        "trusted": true,
        "id": "5Q48YxAPHM8X",
        "colab_type": "code",
        "outputId": "e13a2855-747a-423c-c9c7-b296d0017157",
        "colab": {
          "base_uri": "https://localhost:8080/",
          "height": 34
        }
      },
      "source": [
        "deadpool[-1]"
      ],
      "execution_count": 0,
      "outputs": [
        {
          "output_type": "execute_result",
          "data": {
            "text/plain": [
              "'<3 Wolverine <3'"
            ]
          },
          "metadata": {
            "tags": []
          },
          "execution_count": 181
        }
      ]
    },
    {
      "cell_type": "code",
      "metadata": {
        "trusted": true,
        "id": "CPrkHkTvHM8Y",
        "colab_type": "code",
        "outputId": "63aa50ae-00a5-4074-9a95-c7eff01c1310",
        "colab": {
          "base_uri": "https://localhost:8080/",
          "height": 34
        }
      },
      "source": [
        "deadpool[-3:]  # Slicing retorna una lista de items comenzando de la 3 posición desde el final"
      ],
      "execution_count": 0,
      "outputs": [
        {
          "output_type": "execute_result",
          "data": {
            "text/plain": [
              "['Cable', 'Colossus', '<3 Wolverine <3']"
            ]
          },
          "metadata": {
            "tags": []
          },
          "execution_count": 182
        }
      ]
    },
    {
      "cell_type": "markdown",
      "metadata": {
        "id": "QEfInkLVHM8a",
        "colab_type": "text"
      },
      "source": [
        "Todas las operaciones `slice` retornan una nueva lista de elementos.\n"
      ]
    },
    {
      "cell_type": "code",
      "metadata": {
        "trusted": true,
        "id": "JQ-4X8L2HM8a",
        "colab_type": "code",
        "outputId": "4e1ddb12-fc0d-45a0-b925-952004da161b",
        "colab": {
          "base_uri": "https://localhost:8080/",
          "height": 34
        }
      },
      "source": [
        "deadpool[:] #Que nos dará esto? "
      ],
      "execution_count": 0,
      "outputs": [
        {
          "output_type": "execute_result",
          "data": {
            "text/plain": [
              "['banana', 'unicornio', 'Dopinder', 'Cable', 'Colossus', '<3 Wolverine <3']"
            ]
          },
          "metadata": {
            "tags": []
          },
          "execution_count": 183
        }
      ]
    },
    {
      "cell_type": "markdown",
      "metadata": {
        "id": "sFJzRFEGHM8c",
        "colab_type": "text"
      },
      "source": [
        "Listas soportan concatenación con el operdar `+`\n"
      ]
    },
    {
      "cell_type": "code",
      "metadata": {
        "trusted": true,
        "id": "lRp0OFnzHM8c",
        "colab_type": "code",
        "outputId": "ae8fbbcf-323c-4aa1-f8ee-5f927ac37850",
        "colab": {
          "base_uri": "https://localhost:8080/",
          "height": 185
        }
      },
      "source": [
        "deadpool + ['Vanessa', 'Spidy', 'Negasonic Teenage Warhead', 'Popcorn']"
      ],
      "execution_count": 0,
      "outputs": [
        {
          "output_type": "execute_result",
          "data": {
            "text/plain": [
              "['banana',\n",
              " 'unicornio',\n",
              " 'Dopinder',\n",
              " 'Cable',\n",
              " 'Colossus',\n",
              " '<3 Wolverine <3',\n",
              " 'Vanessa',\n",
              " 'Spidy',\n",
              " 'Negasonic Teenage Warhead',\n",
              " 'Popcorn']"
            ]
          },
          "metadata": {
            "tags": []
          },
          "execution_count": 185
        }
      ]
    },
    {
      "cell_type": "markdown",
      "metadata": {
        "id": "Cxlncf2jHM8d",
        "colab_type": "text"
      },
      "source": [
        "A diferencia de las cadenas que son [inmutables](https://docs.python.org/3.5/glossary.html#term-immutable), las listas pueden ser [modificadas](https://docs.python.org/3.5/glossary.html#term-mutable)\n"
      ]
    },
    {
      "cell_type": "code",
      "metadata": {
        "trusted": true,
        "id": "1M7872b0HM8e",
        "colab_type": "code",
        "outputId": "7a9df1c6-16cf-4c4e-dee0-a2dd9a84b6b2",
        "colab": {
          "base_uri": "https://localhost:8080/",
          "height": 34
        }
      },
      "source": [
        "numeros_al_cubo = [1, 8, 27, 65, 125]  # Hay algo al aqui...\n",
        "4 ** 3  # 4^3 es 64! no 65"
      ],
      "execution_count": 0,
      "outputs": [
        {
          "output_type": "execute_result",
          "data": {
            "text/plain": [
              "64"
            ]
          },
          "metadata": {
            "tags": []
          },
          "execution_count": 186
        }
      ]
    },
    {
      "cell_type": "code",
      "metadata": {
        "trusted": true,
        "id": "PC398D7hHM8f",
        "colab_type": "code",
        "outputId": "6ac64981-11d4-41f0-d040-e060fda9c9c3",
        "colab": {
          "base_uri": "https://localhost:8080/",
          "height": 34
        }
      },
      "source": [
        "numeros_al_cubo[3] = 64  # Reemplazamos por el valor correcto, solo debemos ubicar la posición correcta.\n",
        "numeros_al_cubo"
      ],
      "execution_count": 0,
      "outputs": [
        {
          "output_type": "execute_result",
          "data": {
            "text/plain": [
              "[1, 8, 27, 64, 125]"
            ]
          },
          "metadata": {
            "tags": []
          },
          "execution_count": 187
        }
      ]
    },
    {
      "cell_type": "markdown",
      "metadata": {
        "id": "Wg_85Iz0HM8h",
        "colab_type": "text"
      },
      "source": [
        "Un método que usarán en el manejo de listas es `append()`, el cual permite agregar un nuevo ítem al final de la lista.\n"
      ]
    },
    {
      "cell_type": "code",
      "metadata": {
        "trusted": true,
        "id": "FJs8JVdtHM8h",
        "colab_type": "code",
        "colab": {}
      },
      "source": [
        "numeros_al_cubo.append(216)  # Add the cube of 6 ...\n",
        "numeros_al_cubo.append(7 ** 3)  # and the cube of 7.\n",
        "a = 'cadena'\n"
      ],
      "execution_count": 0,
      "outputs": []
    },
    {
      "cell_type": "markdown",
      "metadata": {
        "id": "BKy_qr3hHM8i",
        "colab_type": "text"
      },
      "source": [
        "Mediante el uso del concepto de `slicing` puedes modificar valores dentro de la lista."
      ]
    },
    {
      "cell_type": "code",
      "metadata": {
        "trusted": true,
        "id": "FcuUxwCbHM8j",
        "colab_type": "code",
        "colab": {}
      },
      "source": [
        "letras = ['a', 'b', 'c', 'd', 'e', 'f', 'g']\n",
        "letras.clear()\n"
      ],
      "execution_count": 0,
      "outputs": []
    },
    {
      "cell_type": "code",
      "metadata": {
        "trusted": true,
        "id": "YkE8fIzLHM8k",
        "colab_type": "code",
        "outputId": "36469d45-ea41-4fc2-f71e-c587e083aa9b",
        "colab": {
          "base_uri": "https://localhost:8080/",
          "height": 34
        }
      },
      "source": [
        "# Reemplacemos valores.\n",
        "letras[2:5] = ['C', 'D', 'E']\n",
        "letras"
      ],
      "execution_count": 0,
      "outputs": [
        {
          "output_type": "execute_result",
          "data": {
            "text/plain": [
              "['a', 'b', 'C', 'D', 'E', 'f', 'g']"
            ]
          },
          "metadata": {
            "tags": []
          },
          "execution_count": 192
        }
      ]
    },
    {
      "cell_type": "code",
      "metadata": {
        "trusted": true,
        "id": "XBcH1nJ-HM8m",
        "colab_type": "code",
        "outputId": "472cc50b-0830-4227-8066-fd8160f398ad",
        "colab": {
          "base_uri": "https://localhost:8080/",
          "height": 34
        }
      },
      "source": [
        "# Ahora los removemos.\n",
        "letras[2:5] = []\n",
        "letras"
      ],
      "execution_count": 0,
      "outputs": [
        {
          "output_type": "execute_result",
          "data": {
            "text/plain": [
              "['a', 'b', 'f', 'g']"
            ]
          },
          "metadata": {
            "tags": []
          },
          "execution_count": 193
        }
      ]
    },
    {
      "cell_type": "code",
      "metadata": {
        "trusted": true,
        "id": "qWtgy91bHM8n",
        "colab_type": "code",
        "outputId": "cd776fbc-6002-4de4-b26f-cac979bca51a",
        "colab": {
          "base_uri": "https://localhost:8080/",
          "height": 34
        }
      },
      "source": [
        "# Limpiamos la lista reemplazando todos los valores de la lista\n",
        "letras[:] = []\n",
        "letras"
      ],
      "execution_count": 0,
      "outputs": [
        {
          "output_type": "execute_result",
          "data": {
            "text/plain": [
              "[]"
            ]
          },
          "metadata": {
            "tags": []
          },
          "execution_count": 194
        }
      ]
    },
    {
      "cell_type": "markdown",
      "metadata": {
        "id": "5pn0oC-tHM8o",
        "colab_type": "text"
      },
      "source": [
        "El método [`len()`](https://docs.python.org/3.5/library/functions.html#len) también aplica a listas."
      ]
    },
    {
      "cell_type": "code",
      "metadata": {
        "trusted": true,
        "id": "hrMuaoXhHM8p",
        "colab_type": "code",
        "outputId": "c728cd1b-d042-4f96-dc26-c76f2aedd0c2",
        "colab": {
          "base_uri": "https://localhost:8080/",
          "height": 34
        }
      },
      "source": [
        "letras = ['a', 'b', 'c', 'd']\n",
        "len(letras)"
      ],
      "execution_count": 0,
      "outputs": [
        {
          "output_type": "execute_result",
          "data": {
            "text/plain": [
              "4"
            ]
          },
          "metadata": {
            "tags": []
          },
          "execution_count": 199
        }
      ]
    },
    {
      "cell_type": "markdown",
      "metadata": {
        "id": "1C8z9RVVHM8q",
        "colab_type": "text"
      },
      "source": [
        "También puedes anidar listas, lo que significa que puedes crear listas dentro de otras listas. Por ejemplo:"
      ]
    },
    {
      "cell_type": "code",
      "metadata": {
        "trusted": true,
        "id": "YQSgfi7OHM8q",
        "colab_type": "code",
        "outputId": "46769488-c2f4-4e67-e98a-1aaec8fe0821",
        "colab": {
          "base_uri": "https://localhost:8080/",
          "height": 34
        }
      },
      "source": [
        "a = ['a', 'b', 'c']\n",
        "n = [1, 2, 3]\n",
        "x = [a, n] # Combinamos listas dentro de una nueva lista. \n",
        "x"
      ],
      "execution_count": 0,
      "outputs": [
        {
          "output_type": "execute_result",
          "data": {
            "text/plain": [
              "[['a', 'b', 'c'], [1, 2, 3]]"
            ]
          },
          "metadata": {
            "tags": []
          },
          "execution_count": 200
        }
      ]
    },
    {
      "cell_type": "code",
      "metadata": {
        "trusted": true,
        "id": "sgxPbsWhHM8r",
        "colab_type": "code",
        "outputId": "7ce351f0-b8ea-485d-e227-a753c0ffb73c",
        "colab": {
          "base_uri": "https://localhost:8080/",
          "height": 34
        }
      },
      "source": [
        "x[0] # Primer item de la lista X, cuál es el resultado?"
      ],
      "execution_count": 0,
      "outputs": [
        {
          "output_type": "execute_result",
          "data": {
            "text/plain": [
              "['a', 'b', 'c']"
            ]
          },
          "metadata": {
            "tags": []
          },
          "execution_count": 201
        }
      ]
    },
    {
      "cell_type": "code",
      "metadata": {
        "trusted": true,
        "id": "n912HsmLHM8s",
        "colab_type": "code",
        "outputId": "17e90dc5-5b2b-4d88-957e-93d6d56b2772",
        "colab": {
          "base_uri": "https://localhost:8080/",
          "height": 34
        }
      },
      "source": [
        "x[1][1] # Segundo elemento (empezando de izquierda a derecha), del primer item de x"
      ],
      "execution_count": 0,
      "outputs": [
        {
          "output_type": "execute_result",
          "data": {
            "text/plain": [
              "2"
            ]
          },
          "metadata": {
            "tags": []
          },
          "execution_count": 204
        }
      ]
    },
    {
      "cell_type": "markdown",
      "metadata": {
        "id": "gm60ZbW8HM8u",
        "colab_type": "text"
      },
      "source": [
        "## Primeros pasos en programación"
      ]
    },
    {
      "cell_type": "markdown",
      "metadata": {
        "id": "5sdGOQPdHM8u",
        "colab_type": "text"
      },
      "source": [
        "Un científico de datos, entre otros profesioanels, deben realizar tareas más complicadas que sumar o restar. Por ejemplo escribir series como la que sigue:\n"
      ]
    },
    {
      "cell_type": "code",
      "metadata": {
        "trusted": true,
        "id": "EQt5Ofd9HM8u",
        "colab_type": "code",
        "outputId": "b464ecd6-83e2-4b96-ff7a-a38914f93a4d",
        "colab": {
          "base_uri": "https://localhost:8080/",
          "height": 84
        }
      },
      "source": [
        "# Series\n",
        "# Identifique que hace la siguiente serie\n",
        "a = 0\n",
        "b = 1\n",
        "\n",
        "while b < 10:    \n",
        "    print(b)\n",
        "    a = b\n",
        "    b = a+b\n",
        "\n"
      ],
      "execution_count": 0,
      "outputs": [
        {
          "output_type": "stream",
          "text": [
            "1\n",
            "2\n",
            "4\n",
            "8\n"
          ],
          "name": "stdout"
        }
      ]
    },
    {
      "cell_type": "markdown",
      "metadata": {
        "id": "8WTuwlGNHM8y",
        "colab_type": "text"
      },
      "source": [
        "En el siguiente ejemplo imprimimos una serie de valores, puedes identificar cual es la mayor diferencia respecto lo que has visto hasta ahora? "
      ]
    },
    {
      "cell_type": "code",
      "metadata": {
        "trusted": true,
        "id": "Lq39ESbtHM8y",
        "colab_type": "code",
        "outputId": "7cd93042-5d35-4583-c268-3c0eb71e4092",
        "colab": {
          "base_uri": "https://localhost:8080/",
          "height": 34
        }
      },
      "source": [
        "a, b = 0, 1\n",
        "while b < 1000:\n",
        "    print(b, end=',')\n",
        "    a, b = b, a+b"
      ],
      "execution_count": 0,
      "outputs": [
        {
          "output_type": "stream",
          "text": [
            "1,1,2,3,5,8,13,21,34,55,89,144,233,377,610,987,"
          ],
          "name": "stdout"
        }
      ]
    },
    {
      "cell_type": "markdown",
      "metadata": {
        "id": "ofpJkvSHqiX6",
        "colab_type": "text"
      },
      "source": [
        "# Flujo de control"
      ]
    },
    {
      "cell_type": "markdown",
      "metadata": {
        "id": "44Ujd5LZqnvi",
        "colab_type": "text"
      },
      "source": [
        "Ademas del condicional `while` que hemos introducido, Python utiliza otros controls conocidos en otro lenguajes. \n"
      ]
    },
    {
      "cell_type": "markdown",
      "metadata": {
        "id": "m5iWjdMLrVsr",
        "colab_type": "text"
      },
      "source": [
        "## Control IF\n",
        "Posiblemente uno de los más conocidos. Recordando Pseudo-Código\n",
        "\n",
        "\n",
        "\n",
        "```\n",
        "Si (SE CUMPLE CONDICION)\n",
        "  EJECUTA ESTE BLOQUE\n",
        "\n",
        "SINO\n",
        "  EJECUTA ESTE BLOQUE\n",
        "```\n",
        "\n"
      ]
    },
    {
      "cell_type": "code",
      "metadata": {
        "id": "gGdE4KTWrIPT",
        "colab_type": "code",
        "outputId": "b6d25f0a-b761-4bd2-f4f4-b9c058a55cd2",
        "colab": {
          "base_uri": "https://localhost:8080/",
          "height": 129
        }
      },
      "source": [
        "x = int(input(\"Please enter an integer: \"))\n",
        "if x < 0:\n",
        "  x = 0\n",
        "  print('Negative changed to zero')\n",
        "elif x == 0:\n",
        "  print('Zero')\n",
        "elif x == 1:\n",
        "  print('Single')\n",
        "else:\n",
        "  print('More')"
      ],
      "execution_count": 0,
      "outputs": [
        {
          "output_type": "error",
          "ename": "SyntaxError",
          "evalue": "ignored",
          "traceback": [
            "\u001b[0;36m  File \u001b[0;32m\"<ipython-input-212-27d79fcf84bb>\"\u001b[0;36m, line \u001b[0;32m5\u001b[0m\n\u001b[0;31m    elif x = 0:\u001b[0m\n\u001b[0m           ^\u001b[0m\n\u001b[0;31mSyntaxError\u001b[0m\u001b[0;31m:\u001b[0m invalid syntax\n"
          ]
        }
      ]
    },
    {
      "cell_type": "markdown",
      "metadata": {
        "id": "-PxUh1WPsC9O",
        "colab_type": "text"
      },
      "source": [
        "## Ciclo FOR\n",
        "\n",
        "El ciclo `for` itera sobre una secuencia de items (lista o cadenas), en el orden que aparencen en la secuencia. Por ejemplo:\n",
        "\n"
      ]
    },
    {
      "cell_type": "code",
      "metadata": {
        "id": "VrOjbUhasWvr",
        "colab_type": "code",
        "outputId": "ead2d53b-f979-40c8-b4f3-10b5db3b819e",
        "colab": {
          "base_uri": "https://localhost:8080/",
          "height": 67
        }
      },
      "source": [
        "words = ['gato', 'perro', '<3 unicornio <3']\n",
        "for w in words:\n",
        "  print(w, len(w))"
      ],
      "execution_count": 0,
      "outputs": [
        {
          "output_type": "stream",
          "text": [
            "gato 4\n",
            "perro 5\n",
            "<3 unicornio <3 15\n"
          ],
          "name": "stdout"
        }
      ]
    },
    {
      "cell_type": "code",
      "metadata": {
        "id": "JBPD5Mjisvki",
        "colab_type": "code",
        "outputId": "ec07ccdf-174a-4a12-85cf-93f18cbba5c4",
        "colab": {
          "base_uri": "https://localhost:8080/",
          "height": 319
        }
      },
      "source": [
        "for x in words[:]:  # Loopea sobre una copia slice de la lista original \n",
        "  if len(x) > 6:\n",
        "    words.insert(0, x)\n",
        "words\n"
      ],
      "execution_count": 0,
      "outputs": [
        {
          "output_type": "execute_result",
          "data": {
            "text/plain": [
              "['<3 unicornio <3',\n",
              " '<3 unicornio <3',\n",
              " '<3 unicornio <3',\n",
              " '<3 unicornio <3',\n",
              " '<3 unicornio <3',\n",
              " '<3 unicornio <3',\n",
              " '<3 unicornio <3',\n",
              " '<3 unicornio <3',\n",
              " '<3 unicornio <3',\n",
              " '<3 unicornio <3',\n",
              " '<3 unicornio <3',\n",
              " '<3 unicornio <3',\n",
              " '<3 unicornio <3',\n",
              " '<3 unicornio <3',\n",
              " '<3 unicornio <3',\n",
              " 'gato',\n",
              " 'perro',\n",
              " '<3 unicornio <3']"
            ]
          },
          "metadata": {
            "tags": []
          },
          "execution_count": 217
        }
      ]
    },
    {
      "cell_type": "code",
      "metadata": {
        "id": "UytP2svetRSQ",
        "colab_type": "code",
        "outputId": "b4150d1b-bb80-4d37-aa5f-2af21660200e",
        "colab": {
          "base_uri": "https://localhost:8080/",
          "height": 101
        }
      },
      "source": [
        "i = 1\n",
        "for i in range(5): # Si deseas iterar sobre una secuencia de números, puedes utilizar la función range()\n",
        "  print(i)"
      ],
      "execution_count": 0,
      "outputs": [
        {
          "output_type": "stream",
          "text": [
            "0\n",
            "1\n",
            "2\n",
            "3\n",
            "4\n"
          ],
          "name": "stdout"
        }
      ]
    },
    {
      "cell_type": "markdown",
      "metadata": {
        "id": "sxfJVljcHM8z",
        "colab_type": "text"
      },
      "source": [
        "# Aprende más\n",
        "\n",
        "Cadenas:\n",
        "\n",
        "- [Text Sequence Type - str](https://docs.python.org/3.5/library/stdtypes.html#textseq): Strings are examples of *sequence types*, and support the common operations supported by such types.\n",
        "- [String Methods](https://docs.python.org/3.5/library/stdtypes.html#string-methods): Strings support a large number of methods for basic transformations and searching.\n",
        "- [Format String Syntax](https://docs.python.org/3.5/library/string.html#formatstrings): Information about string formatting with [`str.format()`](https://docs.python.org/3.5/library/string.html#formatstrings).\n",
        "- [`printf`-style String Formatting](https://docs.python.org/3.5/library/stdtypes.html#old-string-formatting): The old formatting operations invoked when strings and Unicode strings are the left operand of the `%` operator.\n",
        "\n",
        "Puedes continuar este tutorial en python.org (try pasting the code into a notebook!):\n",
        "\n",
        "- [More Control Flow Tools](https://docs.python.org/3.6/tutorial/controlflow.html)\n",
        "- [Data Structures](Data Structures)\n",
        "- [Modules](https://docs.python.org/3.6/tutorial/modules.html)\n",
        "- [Input and Output](https://docs.python.org/3.6/tutorial/inputoutput.html)"
      ]
    }
  ]
}