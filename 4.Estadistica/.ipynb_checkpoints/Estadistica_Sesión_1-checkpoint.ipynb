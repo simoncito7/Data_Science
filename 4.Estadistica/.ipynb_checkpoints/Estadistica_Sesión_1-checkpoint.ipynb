{
 "cells": [
  {
   "cell_type": "markdown",
   "metadata": {
    "colab_type": "text",
    "id": "view-in-github"
   },
   "source": [
    "<a href=\"https://colab.research.google.com/github/al34n1x/DataScience/blob/master/4.Estadistica/Estadistica_Sesi%C3%B3n_1.ipynb\" target=\"_parent\"><img src=\"https://colab.research.google.com/assets/colab-badge.svg\" alt=\"Open In Colab\"/></a>"
   ]
  },
  {
   "cell_type": "markdown",
   "metadata": {
    "colab_type": "text",
    "id": "FhuZLbCTfr2N"
   },
   "source": [
    "\n",
    "# Introducción a la estadística\n",
    "\n"
   ]
  },
  {
   "cell_type": "markdown",
   "metadata": {
    "colab_type": "text",
    "id": "veXoVLy1fr2P"
   },
   "source": [
    "## Objetivo\n",
    "\n",
    "La mayoría de ustedes ya habrá realizado estadística en el pasado - quizá sin entrar en mucho detalle. Esta sección se concentrará en:\n",
    "\n",
    "* Enseñarles aplicaciones prácticas de conceptos estadísticos.\n",
    "* Enseñarles la manera de usar Python para encarar el análisis estístico de los datos.\n",
    "* Práctica de algunos gráfico en Python*\n",
    "\n",
    "Este curso **no** se va a centrar en la teoría matemática de la estadística subyacente."
   ]
  },
  {
   "cell_type": "markdown",
   "metadata": {
    "colab_type": "text",
    "id": "jndfjiSrfr2Q"
   },
   "source": [
    "## Qué es la estadística?\n",
    "1. Ciencia que utiliza conjuntos de datos numéricos para obtener, a partir de ellos, inferencias basadas en el cálculo de probabilidades.\n",
    "\"hizo un curso de introducción a la estadística\"\n",
    "2. Estudio que reúne, clasifica y recuenta todos los hechos que tienen una determinada característica en común, para poder llegar a conclusiones a partir de los datos numéricos extraídos.\n",
    "\n",
    "Se compone de métodos para describir y analizar fenómenos no deterministicos.\n",
    "\n",
    "### ¿Qué queremos decir con esto?\n",
    "\n",
    "Fenómenos deterministas: se pueden predecir con precisión:\n",
    "\n",
    "* Órbitas de planetas.\n",
    "* Reacciones químicas.\n",
    "\n",
    "Fenómenos no deterministas: incluyen aleatoriedad:\n",
    "\n",
    "* Alturas de personas en el Reino Unido.\n",
    "* Mediciones de edades minerales en muestra de roca.\n",
    "* Longitudes de un determinado fósil de una determinada localidad.\n"
   ]
  },
  {
   "cell_type": "markdown",
   "metadata": {
    "colab_type": "text",
    "id": "WJbCwShNfr2S"
   },
   "source": [
    "## Poblaciones y distribuciones\n",
    "\n",
    "Población: todo el universo subyacente de posibles valores. ¡Esto normalmente es inalcanzable!\n",
    "\n",
    "* Medidas de altura de todas las personas en el Reino Unido.\n",
    "* Longitudes de CADA espécimen fósil de la localidad.\n",
    "\n",
    "Distribución - forma del histograma de población.\n",
    "\n",
    "Veamos algunos ejemplos:"
   ]
  },
  {
   "cell_type": "code",
   "execution_count": 11,
   "metadata": {
    "colab": {
     "base_uri": "https://localhost:8080/",
     "height": 269
    },
    "colab_type": "code",
    "id": "zMUOtmbVfr2U",
    "outputId": "a1d1ce39-16dd-4bef-e92a-a3d13ed41214"
   },
   "outputs": [
    {
     "data": {
      "image/png": "[encoded data removed]",
      "text/plain": [
       "<Figure size 432x288 with 1 Axes>"
      ]
     },
     "metadata": {
      "needs_background": "light",
      "tags": []
     },
     "output_type": "display_data"
    }
   ],
   "source": [
    "# Aquí importamos la biblioteca de trazado estándar de matplotlib,\n",
    "#  y le damos el alias 'plt'.\n",
    "from scipy import stats\n",
    "import matplotlib.pyplot as plt\n",
    "\n",
    "# Este comando simplemente garantiza que todas las ventanas matplotlib\n",
    "# se abran en el cuaderno y no como ventanas emergentes\n",
    "%matplotlib inline\n",
    "\n",
    "# Generar distribución normal.\n",
    "x = stats.norm.rvs(size=100000)\n",
    "\n",
    "# Trazar un histograma\n",
    "plt.hist(x, density=True, bins=100)\n",
    "\n",
    "# El histograma usa los datos de entrada de 'x', \n",
    "# los separa en '100' contenedores.\n",
    "\n",
    "#   axis: x0,x1,y0, y1\n",
    "plt.axis([-4, 4, 0, 0.45])\n",
    "\n",
    "plt.show()"
   ]
  },
  {
   "cell_type": "code",
   "execution_count": 16,
   "metadata": {
    "colab": {
     "base_uri": "https://localhost:8080/",
     "height": 269
    },
    "colab_type": "code",
    "id": "_mhqq7hRfr2f",
    "outputId": "6d90c9cc-a85a-4049-b9ed-9200b40b57b3"
   },
   "outputs": [
    {
     "data": {
      "image/png": "[encoded data removed]",
      "text/plain": [
       "<Figure size 432x288 with 1 Axes>"
      ]
     },
     "metadata": {
      "needs_background": "light",
      "tags": []
     },
     "output_type": "display_data"
    }
   ],
   "source": [
    "# Generar dsitribución de Wald\n",
    "x = stats.wald.rvs(size=200000)\n",
    "\n",
    "# Trazar un histograma\n",
    "plt.hist(x, density=True, bins=300)\n",
    "plt.axis([0, 5, 0, 1.2])\n",
    "plt.show()"
   ]
  },
  {
   "cell_type": "code",
   "execution_count": 17,
   "metadata": {
    "colab": {
     "base_uri": "https://localhost:8080/",
     "height": 269
    },
    "colab_type": "code",
    "id": "cCDG5kLHfr2s",
    "outputId": "7f88a137-4bd8-4f1d-d7e0-06b9908bde42"
   },
   "outputs": [
    {
     "data": {
      "image/png": "[encoded data removed]",
      "text/plain": [
       "<Figure size 432x288 with 1 Axes>"
      ]
     },
     "metadata": {
      "needs_background": "light",
      "tags": []
     },
     "output_type": "display_data"
    }
   ],
   "source": [
    "# Generar distribución exponencial\n",
    "x = stats.expon.rvs(size=100000)\n",
    "\n",
    "# Trazar un histograma\n",
    "plt.hist(x, density=True, bins=300)\n",
    "plt.axis([0, 5, 0, 1.0])\n",
    "plt.show()\n"
   ]
  },
  {
   "cell_type": "code",
   "execution_count": 19,
   "metadata": {
    "colab": {
     "base_uri": "https://localhost:8080/",
     "height": 34
    },
    "colab_type": "code",
    "id": "uXansU7ThpbS",
    "outputId": "31a001e1-2e86-4588-ae4c-790cc6022c67"
   },
   "outputs": [
    {
     "name": "stdout",
     "output_type": "stream",
     "text": [
      "[0.62677648 1.46874707 0.49491553 ... 0.59460119 1.54206379 0.25249215]\n"
     ]
    }
   ],
   "source": [
    "print(x)"
   ]
  },
  {
   "cell_type": "markdown",
   "metadata": {
    "colab_type": "text",
    "id": "s127uU2ifr2x"
   },
   "source": [
    "## Muestra\n",
    "Una muestra es un subconjunto de la población que realmente hemos medido.\n",
    "\n",
    "* Alturas de todas las personas en esta sala.\n",
    "* Longitudes de fósiles en una colección.\n",
    "\n",
    "La estadística implica el uso de muestras para representar poblaciones.\n",
    "\n",
    "¡Las muestras deben ser imparciales para que las estadísticas sean de utilidad!\n",
    "\n",
    "## Muestreo sesgado\n",
    "Ejemplo popular: en las [Elecciones presidenciales de EE. UU. De 1936](http://en.wikipedia.org/wiki/United_States_presidential_election,_1936), Literary Digest realizó una encuesta preelectoral masiva. Enviaron 10 millones de cuestionarios a la lista de nombres obtenidos de las guías telefónicas y las listas de registro de automóviles. La encuesta predijo un derrumbe republicano ... el resultado real fue el mayor derrumbe demócrata en el siglo XX: Roosevelt recibió el 98,49% de los votos electorales, el porcentaje más alto desde la elección incontestada de 1820. [Se cometieron dos errores clave](http://en.wikipedia.org/wiki/United_States_presidential_election,_1936#Campaign):\n",
    "(1) solo los que tenían mejores automóviles y teléfonos y eran estadísticamente más propensos a votar por los republicanos; (2) como la encuesta era voluntaria, generalmente solo los votantes realmente apasionados que no estaban contentos con el status quo (es decir, demócrata) respondieron a la encuesta.\n",
    "\n",
    "¿Es probable que nuestro primer conjunto de muestras también esté sesgado?\n",
    "\n",
    "* Alturas de todas las personas en esta sala.\n",
    "* Longitudes de fósiles en una colección.\n",
    "\n",
    "¿Hay mejores formas de tomar muestras de estas poblaciones?\n",
    "\n",
    "No voy a hablar más en este curso sobre la necesidad de muestras no sesgadas (aleatorias). Sin embargo, el sesgo de muestra puede meterte en serios problemas, así que tenlo en cuenta (considera estos otros ejemplos divertidos: sesgo de muestreo en el registro fósil, el efecto Caveman; o el sesgo de supervivencia).\n",
    "![picture](https://www.lucasdima.com/wp-content/uploads/2019/01/Survivorship-bias.png)\n",
    "\n"
   ]
  },
  {
   "cell_type": "markdown",
   "metadata": {
    "colab_type": "text",
    "id": "0IskHqEJfr2y"
   },
   "source": [
    "## Ramas de estadísticas\n",
    "\n",
    "Dos ramas / clases de estadísticas:\n",
    "\n",
    "**Estadísticas descriptivas:** Números utilizados para resumir muestras (y, por lo tanto, con suerte poblaciones) p. promedios\n",
    "\n",
    "**Estadísticas inferenciales:** Métodos para extraer conclusiones de muestras o combinaciones de muestras, ej. \"Según mis muestras, ¿qué tan probable es que la altura y el tamaño del zapato estén relacionados?\"\n",
    "\n",
    "En este curso nos enfocaremos en las estadísticas descriptivas."
   ]
  },
  {
   "cell_type": "markdown",
   "metadata": {
    "colab_type": "text",
    "id": "Y1e6JqAQfr20"
   },
   "source": [
    "## Promedios\n",
    "\n",
    "Los promedios son *medidas de tendencia central*. Existen varios tipos de promedio. Los más utilizados son:\n",
    "\n",
    "* **Media** (técnicamente media aritmética)."
   ]
  },
  {
   "cell_type": "code",
   "execution_count": 22,
   "metadata": {
    "colab": {
     "base_uri": "https://localhost:8080/",
     "height": 34
    },
    "colab_type": "code",
    "id": "rGJ8uzLSfr21",
    "outputId": "77efebc6-5e27-4dfe-ccf6-98ff579561d8"
   },
   "outputs": [
    {
     "name": "stdout",
     "output_type": "stream",
     "text": [
      "Mean = 61541.769230769234\n"
     ]
    }
   ],
   "source": [
    "import numpy as np \n",
    "\n",
    "values = np.array([1, 3, 5, 2, 4, 7, 2, 6, 800000, 3, 2, 3, 5])\n",
    "\n",
    "# Here we use conditional formatting. We add curly braces in the string, and whatever \n",
    "# is in '.format()' will be inserted in their place.\n",
    "print (\"Mean = {}\".format(np.mean(values)))"
   ]
  },
  {
   "cell_type": "markdown",
   "metadata": {
    "colab_type": "text",
    "id": "mTIYE-F-fr2-"
   },
   "source": [
    "* **Mediana**: valor medio cuando se ordenan los números."
   ]
  },
  {
   "cell_type": "code",
   "execution_count": 23,
   "metadata": {
    "colab": {
     "base_uri": "https://localhost:8080/",
     "height": 50
    },
    "colab_type": "code",
    "id": "qP1wBV_Vfr2_",
    "outputId": "2ed2e0d4-ee7a-48f5-c5bd-1c4d0cd67b9e"
   },
   "outputs": [
    {
     "name": "stdout",
     "output_type": "stream",
     "text": [
      "Sorted array = [     1      2      2      2      3      3      3      4      5      5\n",
      "      6      7 800000], Median = 3.0\n"
     ]
    }
   ],
   "source": [
    "# Here there are two sets of braces, and format has two arguments. This way you can\n",
    "# insert multiple strings, lists, and floats into a string!\n",
    "print (\"Sorted array = {}, Median = {}\".format(np.sort(values), np.median(values)))\n"
   ]
  },
  {
   "cell_type": "markdown",
   "metadata": {
    "colab_type": "text",
    "id": "zWmD3EBQfr3D"
   },
   "source": [
    "En este ejemplo, hay 13 números, por lo que la mediana es el $ 7 ^ {mo} $ número en la matriz ordenada. Si hubiera 14 números (por ejemplo, si se agrega el número 10 a la matriz), entonces la mediana sería la media de los valores $ 7 ^ {mo} $ y $ 8 ^ {vo} $, es decir, 3.5 en este caso.\n",
    "\n",
    "* **Moda**: valor más común."
   ]
  },
  {
   "cell_type": "code",
   "execution_count": 24,
   "metadata": {
    "colab": {
     "base_uri": "https://localhost:8080/",
     "height": 34
    },
    "colab_type": "code",
    "id": "CYUh5z7tfr3E",
    "outputId": "ffa29057-311c-423d-a556-31947ec3c423"
   },
   "outputs": [
    {
     "name": "stdout",
     "output_type": "stream",
     "text": [
      "Moda = [2]\n"
     ]
    }
   ],
   "source": [
    "# Aunque no hemos ido muy lejos, rápidamente encontramos que tenemos que buscar\n",
    "# el Módulo de estadísticas de python para proporcionar un método para el modo.\n",
    "from scipy import stats\n",
    "\n",
    "mode, count = stats.mode(values)\n",
    "\n",
    "print (\"Moda = {}\".format(mode))\n"
   ]
  },
  {
   "cell_type": "markdown",
   "metadata": {
    "colab_type": "text",
    "id": "Blx2DB1sfr3J"
   },
   "source": [
    "Tenga en cuenta que para cuando hay varios modos, solo se devuelve el primero.\n",
    "\n",
    "La media y la mediana son los dos promedios más comunes. Las ventajas de la mediana sobre la media son:\n",
    "\n",
    "* Puede ser mejor para distribuciones sesgadas.\n",
    "* Reduce el efecto de los valores atípicos.\n",
    "* No es necesario conocer los valores de los valores finales.\n",
    "\n",
    "En la práctica, el modo se usa mucho menos.\n",
    "\n"
   ]
  },
  {
   "cell_type": "markdown",
   "metadata": {
    "colab_type": "text",
    "id": "_7-kHpu4fr3K"
   },
   "source": [
    "## Medidas de dispersión\n",
    "\n",
    "Hay mucho más en una distribución que el promedio. Estas muestras tienen la misma media y mediana:"
   ]
  },
  {
   "cell_type": "code",
   "execution_count": 25,
   "metadata": {
    "colab": {
     "base_uri": "https://localhost:8080/",
     "height": 50
    },
    "colab_type": "code",
    "id": "HySqoPU-fr3L",
    "outputId": "2e2e4d59-7510-4d38-ede0-583cf2ea07ca"
   },
   "outputs": [
    {
     "name": "stdout",
     "output_type": "stream",
     "text": [
      "values1 mean = 0.0, median = 0.0\n",
      "values2 mean = 0.0, median = 0.0\n"
     ]
    }
   ],
   "source": [
    "values1 = np.array([-0.2, -0.1, -0.1, 0.0, 0.0, 0.0 , 0.1 , 0.1 , 0.2])\n",
    "print (\"values1 mean = {}, median = {}\".format(np.mean(values1), np.median(values1)))\n",
    "\n",
    "values2 = np.array([-1000, -500, 0, 500, 1000])\n",
    "print (\"values2 mean = {}, median = {}\".format(np.mean(values2), np.median(values2)))"
   ]
  },
  {
   "cell_type": "markdown",
   "metadata": {
    "colab_type": "text",
    "id": "XGVc3Z0sfr3R"
   },
   "source": [
    "...pero tienen dispersiones bien diferentes..."
   ]
  },
  {
   "cell_type": "code",
   "execution_count": 26,
   "metadata": {
    "colab": {
     "base_uri": "https://localhost:8080/",
     "height": 50
    },
    "colab_type": "code",
    "id": "MkaUVyhhfr3R",
    "outputId": "d431d465-58db-4f58-aea2-929e7d8abb42"
   },
   "outputs": [
    {
     "name": "stdout",
     "output_type": "stream",
     "text": [
      "values1 spread =  0.4\n",
      "values1 spread =  2000\n"
     ]
    }
   ],
   "source": [
    "print (\"values1 spread = \", np.ptp(values1)) \n",
    "print (\"values1 spread = \", np.ptp(values2))\n",
    "# numpy.ptp(a, axis=None, out=None, keepdims=<no value>)[source]\n",
    "# Range of values (maximum - minimum) along an axis.\n",
    "# The name of the function comes from the acronym for ‘peak to peak’."
   ]
  },
  {
   "cell_type": "markdown",
   "metadata": {
    "colab_type": "text",
    "id": "J8Kt8yubfr3W"
   },
   "source": [
    "## Percentil\n",
    "Esto se explica mejor con las distribuciones: primero definamos una distribución normal:"
   ]
  },
  {
   "cell_type": "code",
   "execution_count": 27,
   "metadata": {
    "colab": {
     "base_uri": "https://localhost:8080/",
     "height": 265
    },
    "colab_type": "code",
    "id": "ksjaP4qufr3X",
    "outputId": "e94d4ff3-ddad-401f-cf4b-3a4533167f36"
   },
   "outputs": [
    {
     "data": {
      "image/png": "[encoded data removed]",
      "text/plain": [
       "<Figure size 432x288 with 1 Axes>"
      ]
     },
     "metadata": {
      "needs_background": "light",
      "tags": []
     },
     "output_type": "display_data"
    }
   ],
   "source": [
    "mu, std = 0, 1\n",
    "xmin, xmax = [-4, 4]\n",
    "x = np.linspace(xmin, xmax, 100)\n",
    "p = stats.norm.pdf(x, mu, std)\n",
    "plt.plot(x, p, 'k')\n",
    "plt.show()"
   ]
  },
  {
   "cell_type": "markdown",
   "metadata": {
    "colab_type": "text",
    "id": "VmBuc7c1fr3e"
   },
   "source": [
    "El percentil 20 indica que el 20% de todos los valores son inferiores a este valor, la región sombreada a continuación:"
   ]
  },
  {
   "cell_type": "code",
   "execution_count": 28,
   "metadata": {
    "colab": {
     "base_uri": "https://localhost:8080/",
     "height": 265
    },
    "colab_type": "code",
    "id": "W9huy4cLfr3f",
    "outputId": "6dd9ea7b-3344-4271-dfcd-70dace80b348"
   },
   "outputs": [
    {
     "data": {
      "image/png": "[encoded data removed]",
      "text/plain": [
       "<Figure size 432x288 with 1 Axes>"
      ]
     },
     "metadata": {
      "needs_background": "light",
      "tags": []
     },
     "output_type": "display_data"
    }
   ],
   "source": [
    "plt.plot(x, p, 'k')\n",
    "plt.fill_between(x, 0, p, interpolate=True,\n",
    "                 where=(x<=stats.norm.ppf(0.2)))\n",
    "plt.show()"
   ]
  },
  {
   "cell_type": "markdown",
   "metadata": {
    "colab_type": "text",
    "id": "kM1tr2T8fr3j"
   },
   "source": [
    "Hay cuatro percentiles que reciben su propio nombre:\n",
    "* El percentil 25 también se conoce como el primer cuartil (Q1)\n",
    "* Percentil 50 como la mediana o el segundo cuartil (Q2)\n",
    "* Percentil 75 como el tercer cuartil (Q3)\n",
    "* El rango intercuartilco (IQ) varía de Q1 a Q3."
   ]
  },
  {
   "cell_type": "code",
   "execution_count": 29,
   "metadata": {
    "colab": {
     "base_uri": "https://localhost:8080/",
     "height": 265
    },
    "colab_type": "code",
    "id": "64Yeq8Shfr3k",
    "outputId": "6a820355-816e-4132-e315-fe9e3c216fd3"
   },
   "outputs": [
    {
     "data": {
      "image/png": "[encoded data removed]",
      "text/plain": [
       "<Figure size 432x288 with 1 Axes>"
      ]
     },
     "metadata": {
      "needs_background": "light",
      "tags": []
     },
     "output_type": "display_data"
    }
   ],
   "source": [
    "# First quartile (Q1)\n",
    "plt.plot(x, p, 'k')\n",
    "plt.fill_between(x, 0, p, interpolate=True,\n",
    "                 where=(x<=stats.norm.ppf(0.25)))\n",
    "plt.show()"
   ]
  },
  {
   "cell_type": "code",
   "execution_count": 30,
   "metadata": {
    "colab": {
     "base_uri": "https://localhost:8080/",
     "height": 265
    },
    "colab_type": "code",
    "id": "vsbWKE8qfr3q",
    "outputId": "8d997621-b2e5-4b88-cbf1-54f759dfaaff"
   },
   "outputs": [
    {
     "data": {
      "image/png": "[encoded data removed]",
      "text/plain": [
       "<Figure size 432x288 with 1 Axes>"
      ]
     },
     "metadata": {
      "needs_background": "light",
      "tags": []
     },
     "output_type": "display_data"
    }
   ],
   "source": [
    "# Median or second quartile (Q2)\n",
    "plt.plot(x, p, 'k')\n",
    "plt.fill_between(x, 0, p, interpolate=True,\n",
    "                 where=(x<=stats.norm.ppf(0.5)))\n",
    "plt.show()"
   ]
  },
  {
   "cell_type": "code",
   "execution_count": 31,
   "metadata": {
    "colab": {
     "base_uri": "https://localhost:8080/",
     "height": 265
    },
    "colab_type": "code",
    "id": "_PI-nVEKfr3u",
    "outputId": "4d618521-eed6-469f-afba-b11574143165"
   },
   "outputs": [
    {
     "data": {
      "image/png": "[encoded data removed]",
      "text/plain": [
       "<Figure size 432x288 with 1 Axes>"
      ]
     },
     "metadata": {
      "needs_background": "light",
      "tags": []
     },
     "output_type": "display_data"
    }
   ],
   "source": [
    "# Third quartile (Q3)\n",
    "plt.plot(x, p, 'k')\n",
    "plt.fill_between(x, 0, p, interpolate=True,\n",
    "                 where=(x<=stats.norm.ppf(0.75)))\n",
    "plt.show()"
   ]
  },
  {
   "cell_type": "code",
   "execution_count": 32,
   "metadata": {
    "colab": {
     "base_uri": "https://localhost:8080/",
     "height": 298
    },
    "colab_type": "code",
    "id": "o2YlroAqfr3y",
    "outputId": "36a1914f-dc73-4573-d1f1-4d052e3ce4c3"
   },
   "outputs": [
    {
     "name": "stdout",
     "output_type": "stream",
     "text": [
      "-0.6744897501960817\n",
      "0.6744897501960817\n"
     ]
    },
    {
     "data": {
      "image/png": "[encoded data removed]",
      "text/plain": [
       "<Figure size 432x288 with 1 Axes>"
      ]
     },
     "metadata": {
      "needs_background": "light",
      "tags": []
     },
     "output_type": "display_data"
    }
   ],
   "source": [
    "# * Interquartile (IQ) range range from Q2 to Q3.\n",
    "plt.plot(x, p, 'k')\n",
    "\n",
    "plt.fill_between(x, 0, p, interpolate=True,\n",
    "                 where=((x>=stats.norm.ppf(0.25)) & (x<=stats.norm.ppf(0.75))))\n",
    "print (stats.norm.ppf(0.25))\n",
    "print (stats.norm.ppf(0.75))\n",
    "\n",
    "\n",
    "plt.show()"
   ]
  },
  {
   "cell_type": "markdown",
   "metadata": {
    "colab_type": "text",
    "id": "JrwItaeZfr31"
   },
   "source": [
    "## Varianza y desviación estándar\n",
    "\n",
    "Estas son las medidas de propagación más utilizadas. La varianza muestral es:\n",
    "\n",
    "$$ v = \\frac{1}{N-1} \\sum_{i=1}^{N} \\left( x_i - \\bar{x}\\right)^2 ,$$\n",
    "\n",
    "donde $N$ es el número de mediciones, $x_i$ es cada medición individual y $\\bar{x}$ es la media de la muestra. Podemos interpretar esta expresión (casi) como el promedio de distancias al cuadrado de la media muestral. De hecho, esto intuitivamente nos da la dispersión. Sin embargo, en lugar del esperado $\\frac{1}{N}$ tenemos $\\frac{1}{N-1}$. Esto se conoce como corrección de Bessel y corrige el sesgo en la estimación de la varianza de la población.\n",
    "\n",
    "El desvío estándar de la muestra es la raíz cuadrada de la varianza de la muestra: $s = \\sqrt{v}$. Da una medida de dispersión en las mismas unidades que las medidas mismas."
   ]
  },
  {
   "cell_type": "markdown",
   "metadata": {
    "colab_type": "text",
    "id": "w0Qsp2c9fr33"
   },
   "source": [
    "# Ejercicio 1.1\n",
    "\n",
    "\n",
    "\n",
    "1. Inspeccione el archivo [qzpercentages.csv](https://github.com/al34n1x/DataScience/blob/master/data/qzpercentages.csv).\n",
    "2. Escriba un programa para leer los datos. **Antes de comenzar a escribir su propia función de lectura considere si ya existe una *forma correcta* de hacerlo.** El mismo sabio consejo se aplica a todas las tareas que se dan aquí.\n",
    "3. Calcule la media, la mediana, el rango, el rango intercuartil, la desviación estándar, la varianza y la moda.\n",
    "\n"
   ]
  },
  {
   "cell_type": "code",
   "execution_count": 62,
   "metadata": {
    "colab": {
     "base_uri": "https://localhost:8080/",
     "height": 168
    },
    "colab_type": "code",
    "id": "sRWqmUrcc4s9",
    "outputId": "bd81f9c8-e253-4a05-e047-4ecedae71cff"
   },
   "outputs": [
    {
     "name": "stdout",
     "output_type": "stream",
     "text": [
      "Prom: 46.57142857142857\n",
      "Mediana: 46.0\n",
      "Moda: [48.]\n",
      "Moda: 48.0\n",
      "Min, Max: 24.0 66.0\n",
      "Rango: 42.0\n",
      "Rango IQ: 10.0\n",
      "Desv Std: 7.7689574076203884\n",
      "Var: 60.3566992014197\n"
     ]
    }
   ],
   "source": [
    "# Escriba su solución aquí...\n",
    "import numpy as np\n",
    "from scipy import stats\n",
    "from statistics import mode\n",
    "\n",
    "record = np.recfromcsv(\"http://cdn.jsdelivr.net/gh/al34n1x/DataScience/data/qzpercentages.csv\") \n",
    "array = np.array(record, dtype=float)\n",
    "\n",
    "print (\"Prom:\",np.mean(array))\n",
    "print (\"Mediana:\",np.median(array))\n",
    "print (\"Moda:\",stats.mode(array).mode)\n",
    "print (\"Moda:\",mode(array))\n",
    "print (\"Min, Max:\",np.amin(array),np.amax(array))\n",
    "print (\"Rango:\",np.ptp(array))\n",
    "print (\"Rango IQ:\",np.percentile(array, 75) - np.percentile(array, 25))\n",
    "print (\"Desv Std:\",np.std(array))\n",
    "print (\"Var:\",np.var(array))"
   ]
  },
  {
   "cell_type": "markdown",
   "metadata": {
    "colab_type": "text",
    "id": "SPBPczG1fr38"
   },
   "source": [
    "# Trazar gráficos\n",
    "\n",
    "Vamos a usar matplotlib\n"
   ]
  },
  {
   "cell_type": "markdown",
   "metadata": {
    "colab_type": "text",
    "id": "enehwjfofr4B"
   },
   "source": [
    "## Gráfica de barras\n",
    "\n",
    "Los gráficos de barras son un tipo de gráfico común. Se utilizan para trazar datos discretos, por ejemplo:\n",
    "\n",
    "* Tamaño del zapato.\n",
    "* Países.\n",
    "\n",
    "Los gráficos de barras no deben confundirse con los histogramas. En el ejemplo aquí tenemos especies fósiles de cierta localidad."
   ]
  },
  {
   "cell_type": "code",
   "execution_count": 44,
   "metadata": {
    "colab": {
     "base_uri": "https://localhost:8080/",
     "height": 353
    },
    "colab_type": "code",
    "id": "NbauoHS5fr4C",
    "outputId": "04e684c3-edd7-4654-fa3d-af6f067924fc"
   },
   "outputs": [
    {
     "data": {
      "image/png": "[encoded data removed]",
      "text/plain": [
       "<Figure size 432x288 with 1 Axes>"
      ]
     },
     "metadata": {
      "needs_background": "light",
      "tags": []
     },
     "output_type": "display_data"
    }
   ],
   "source": [
    "# Programa de muestra para gráfico de barras de abundancias relativas de 5 especies de fósiles de una localidad\n",
    "\n",
    "# Hallazgos de cada fósil\n",
    "bardata = np.array([121, 59, 16, 20, 81])       \n",
    "species=[\"Apatobolus micula\", \"Lingulella davisii\", \"Divobolus quadratus\",\n",
    "         \"Tarphyteina taylori\", \"Bathmoleca addisoni\"]\n",
    "\n",
    "# Colores para usar en el gráfico de barras\n",
    "# colours=[\"red\", \"green\", \"blue\", \"orange\", \"purple\"] \n",
    "colours=['r', '#eeefff', \"blue\", (.5, 0, .1), '0.75']\n",
    "\n",
    "# admite nombres o iniciales de colores básicos\n",
    "# valores en hex (2 posiciones para r,g,b) y opcionalmente dos más para alpha\n",
    "# tupla con un número entre 0 y 1 para r,g,b y un valor opcional para alpha\n",
    "\n",
    "\n",
    "# Configurar gráfico con 5 barras usando mis valores y colores\n",
    "plt.bar([1, 2, 3, 4, 5], bardata, 1, 0, color=colours)\n",
    "\n",
    "# Agregar etiquetas de datos al eje x\n",
    "plt.xticks([1, 2, 3, 4, 5],species, rotation=45, style='italic')\n",
    "\n",
    "# Título para el eje y.\n",
    "plt.ylabel(\"Number of specimens found\")\n",
    "\n",
    "# Título del gráfico\n",
    "plt.title(\"Brachiopod fossils from locality #23\", weight='bold', color=(1, 0, 0))\n",
    "plt.show()\n"
   ]
  },
  {
   "cell_type": "markdown",
   "metadata": {
    "colab_type": "text",
    "id": "KHoQ-oYKfr4G"
   },
   "source": [
    "## Histogramas\n",
    "\n",
    "Los histogramas son una forma de resumir distribuciones. La distribución se divide en categorías o *bins*, generalmente de igual tamaño. El tamaño de los contenedores es arbitrario, lo que funcione mejor para la tarea en cuestión.\n",
    "\n",
    "Se cuenta el número de muestras que caen en cada contenedor: esta es la frecuencia. Luego se trazan como rectángulos adyacentes similares a un gráfico de barras. El perfil de un histograma se aproxima a la distribución de probabilidad de la población.\n",
    "\n"
   ]
  },
  {
   "cell_type": "markdown",
   "metadata": {
    "colab_type": "text",
    "id": "Mf7kVxHXfr4G"
   },
   "source": [
    "# Ejercicio 1.2\n",
    "\n",
    "Genere un histograma de [qzpercentages.csv](https://github.com/al34n1x/DataScience/blob/master/data/qzpercentages.csv).\n",
    "\n",
    "Su histograma debe incluir las siguientes características:\n",
    "\n",
    "1. Rotular los ejes x e y.\n",
    "2. Necesita arreglar las etiquetas del eje x para asegurarse de que todos los contenedores estén etiquetados.\n",
    "3. Es necesario arreglar los ticks del eje y para evitar que '0' se estrelle contra '20'.\n",
    "4. Especifique el número de contenedores.\n",
    "5. Incrementa el grosor de la línea en su trazado.\n",
    "6. Especifique el color.\n",
    "7. Añade un título."
   ]
  },
  {
   "cell_type": "code",
   "execution_count": 0,
   "metadata": {
    "colab": {},
    "colab_type": "code",
    "id": "_axW0UiUfr4I"
   },
   "outputs": [],
   "source": [
    "# Su solución aquí"
   ]
  },
  {
   "cell_type": "markdown",
   "metadata": {
    "colab_type": "text",
    "id": "_ID5VORofr4N"
   },
   "source": [
    "# Ejercicio 1.3\n",
    "\n",
    "Ahora que ha hecho un gráfico de barras y un histograma, intentemos hacer otro gráfico estadístico simple.\n",
    "¡Un gráfico circular! Como sabe, los gráficos circulares son una forma sencilla de mostrar los tamaños relativos de datos en un\n",
    "conjunto dado Los gráficos circulares son fáciles de hacer en matplotlib y solo requieren una función. La mayoría de las funciones en matplotlib usan argumentos similares, si no idénticos, para hacer ciertas cosas, como 'color' en el ejemplo del gráfico de barras. ¡Esto se puede usar para descifrar qué argumentos podría tomar una función!\n",
    "\n",
    "Aunque no hay ejemplos de gráficos circulares en esta página, es relativamente simple y se puede encontrar en los documentos de matplotlib [aquí](http://matplotlib.org/api/pyplot_api.html). La función es matplotlib.pylot.pie (...)\n",
    "\n",
    "Use los datos a continuación y:\n",
    "\n",
    "1. Haz un gráfico circular\n",
    "2. Haga el gráfico circular circular y no una elipse\n",
    "3. Haz que el gráfico circular use los colores correctos para que la broma funcione\n",
    "4. Gire la tabla de modo que el chiste sea claro\n",
    "5. Agregue etiquetas a cada sección, de modo que cualquiera pueda obtenerla\n",
    "6. Agregue un título como la guinda del pastel\n",
    "\n",
    "**BONUS**\n",
    "7. 'explotar' la pequeña cuña y darle sombra.\n",
    "\n",
    "**PISTA**\n",
    "\n",
    "Comience de manera simple y aumente. RECUERDE: Los documentos en línea le darán la función con TODOS\n",
    "Sus posibles argumentos. Sin embargo, solo aquellos sin un signo igual (por ejemplo, plt.xxx (X, etiqueta = ...)) son obligatorios (X en este caso). Aquellos con un signo igual (etiqueta) no son necesarios para que la función funcione, pero permiten más\n",
    "personalización si lo desea.\n",
    "\n",
    "La mayoría de los trucos que usará aquí son aplicables en otras parcelas y figuras a lo largo de este curso, no los olvide, ya que pueden facilitarle la vida más adelante.\n",
    "\n"
   ]
  },
  {
   "cell_type": "code",
   "execution_count": 0,
   "metadata": {
    "colab": {},
    "colab_type": "code",
    "id": "WMrGQTEgfr4O"
   },
   "outputs": [],
   "source": [
    "import matplotlib.pyplot as plt\n",
    " \n",
    "# This is your data to plot\n",
    "data = np.array([['Pacman','Pizza'],[270, 90]])\n"
   ]
  }
 ],
 "metadata": {
  "colab": {
   "include_colab_link": true,
   "name": "Estadistica Sesión 1.ipynb",
   "provenance": []
  },
  "kernelspec": {
   "display_name": "Python 3",
   "language": "python",
   "name": "python3"
  },
  "language_info": {
   "codemirror_mode": {
    "name": "ipython",
    "version": 3
   },
   "file_extension": ".py",
   "mimetype": "text/x-python",
   "name": "python",
   "nbconvert_exporter": "python",
   "pygments_lexer": "ipython3",
   "version": "3.7.6"
  }
 },
 "nbformat": 4,
 "nbformat_minor": 1
}
