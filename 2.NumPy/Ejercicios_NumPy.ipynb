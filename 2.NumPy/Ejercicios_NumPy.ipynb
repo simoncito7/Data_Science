{
 "cells": [
  {
   "cell_type": "markdown",
   "metadata": {
    "colab_type": "text",
    "id": "view-in-github"
   },
   "source": [
    "<a href=\"https://colab.research.google.com/github/al34n1x/DataScience/blob/master/2.NumPy/Ejercicios_NumPy.ipynb\" target=\"_parent\"><img src=\"https://colab.research.google.com/assets/colab-badge.svg\" alt=\"Open In Colab\"/></a>"
   ]
  },
  {
   "cell_type": "markdown",
   "metadata": {
    "colab_type": "text",
    "id": "DHx21dUdwmAk"
   },
   "source": [
    "## Ejercicio 1 \n",
    "\n",
    "Crear una matriz de 4x9, que esté inicializada con el valor 0.5\n"
   ]
  },
  {
   "cell_type": "code",
   "execution_count": 2,
   "metadata": {
    "colab": {},
    "colab_type": "code",
    "id": "plRQPl1bwvpQ"
   },
   "outputs": [
    {
     "name": "stdout",
     "output_type": "stream",
     "text": [
      "[[0.5 0.5 0.5 0.5 0.5 0.5 0.5 0.5 0.5]\n",
      " [0.5 0.5 0.5 0.5 0.5 0.5 0.5 0.5 0.5]\n",
      " [0.5 0.5 0.5 0.5 0.5 0.5 0.5 0.5 0.5]\n",
      " [0.5 0.5 0.5 0.5 0.5 0.5 0.5 0.5 0.5]]\n"
     ]
    }
   ],
   "source": [
    "import numpy as np\n",
    "\n",
    "matriz= np.ones((4,9))*0.5\n",
    "\n",
    "print(matriz)"
   ]
  },
  {
   "cell_type": "markdown",
   "metadata": {
    "colab_type": "text",
    "id": "rlE2glztw-vD"
   },
   "source": [
    "## Ejercicio 2\n",
    "\n",
    "Modificando arreglos"
   ]
  },
  {
   "cell_type": "code",
   "execution_count": 27,
   "metadata": {
    "colab": {},
    "colab_type": "code",
    "id": "f6_SW5A_w9Ce"
   },
   "outputs": [
    {
     "name": "stdout",
     "output_type": "stream",
     "text": [
      "[[ -44.   12.]\n",
      " [  12.   51.]\n",
      " [1300.   -5.]]\n",
      "\n",
      " \n",
      " [[1300.   -5.]]\n"
     ]
    }
   ],
   "source": [
    "import numpy as np\n",
    "lista_de_listas=[ [-44,12], \n",
    "                  [12.0,51], \n",
    "                  [1300, -5.0]]\n",
    "a = np.array(lista_de_listas)\n",
    "\n",
    "b = a\n",
    "\n",
    "# print(\"Matriz original\")\n",
    "print(a)\n",
    "\n",
    "\n",
    "# Restarle 5 a la fila 2 de la matriz\n",
    "# b[1:2,:] -=5\n",
    "# lo mismo puede hacerse de la siguiente manera\n",
    "# b[1:2,:] = b[1:2,:]-5\n",
    "# print(b)\n",
    "\n",
    "\n",
    "# Multiplicar por 2 toda la matriz\n",
    "# b = b*2\n",
    "# print(b)\n",
    "\n",
    "# Dividir por -5 las dos primeras filas de la matriz\n",
    "# b[:2,:] = b[:2,:]/(-5)\n",
    "\n",
    "# print(b)\n",
    "\n",
    "\n",
    "#Imprimir la ultima fila de la matriz\n",
    "ultima_fila = b[-1:,:]\n",
    "print(\"\\n \\n\",ultima_fila)\n"
   ]
  },
  {
   "cell_type": "markdown",
   "metadata": {
    "colab_type": "text",
    "id": "Yxq5C0hIuqxX"
   },
   "source": [
    "## Ejercicio Integrador - Indices Booleanos\n",
    "\n",
    "Consideremos el siguiente ejemplo. Tenemos datos en un array y otro arreglo con nombres duplicados. \n",
    "Supongamos que a cada nombre le corresponde una fila del array de datos (Enteros o Flotantes) que queremos seleccionar. Por ejemplo, si tenemos el nombre `Bob Sponge` repetido dos veces en nuestro arreglo de nombres, nos debería devolver un número del arrary de datos correspondiente a esa posición.\n",
    "\n",
    "Desarrolle un código que genere un array con números aleatorios y luego utilizando funciones aritméticas intente devolver el valor que le corresponde a los nombres dentro del array de números.\n",
    "\n"
   ]
  },
  {
   "cell_type": "code",
   "execution_count": 0,
   "metadata": {
    "colab": {},
    "colab_type": "code",
    "id": "5qOWV4ZMun4V"
   },
   "outputs": [],
   "source": [
    "import numpy as np\n",
    "\n",
    "nombres = np.array(['Bob', 'Joe', 'Will', 'Bob', 'Will', 'Joe', 'Joe'])\n",
    "\n",
    "#A Partir de aquí es donde debes desarrollar tu magia Happy Coding!\n",
    "\n",
    "\n"
   ]
  }
 ],
 "metadata": {
  "colab": {
   "authorship_tag": "ABX9TyNPW/AglHIHnWXLw2j0b9BH",
   "collapsed_sections": [],
   "include_colab_link": true,
   "name": "Ejercicios_NumPy.ipynb",
   "provenance": []
  },
  "kernelspec": {
   "display_name": "Python 3",
   "language": "python",
   "name": "python3"
  },
  "language_info": {
   "codemirror_mode": {
    "name": "ipython",
    "version": 3
   },
   "file_extension": ".py",
   "mimetype": "text/x-python",
   "name": "python",
   "nbconvert_exporter": "python",
   "pygments_lexer": "ipython3",
   "version": "3.7.6"
  }
 },
 "nbformat": 4,
 "nbformat_minor": 1
}
