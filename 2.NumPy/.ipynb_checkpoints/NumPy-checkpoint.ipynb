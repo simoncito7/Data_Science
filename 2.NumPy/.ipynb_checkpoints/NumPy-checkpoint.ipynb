{
 "cells": [
  {
   "cell_type": "markdown",
   "metadata": {
    "colab_type": "text",
    "id": "view-in-github"
   },
   "source": [
    "<a href=\"https://colab.research.google.com/github/al34n1x/datascience/blob/master/modulo_2/NumPy.ipynb\" target=\"_parent\"><img src=\"https://colab.research.google.com/assets/colab-badge.svg\" alt=\"Open In Colab\"/></a>"
   ]
  },
  {
   "cell_type": "markdown",
   "metadata": {
    "colab_type": "toc",
    "id": "KDeHW28d5TBn"
   },
   "source": [
    ">[Numpy](#scrollTo=N0GJeEJQRGBh)\n",
    "\n",
    ">>[Comparando nmarrays y Python Arrays](#scrollTo=Q_VOhzu1VVkE)\n",
    "\n",
    ">>[NumPy ndarray: Un objeto Array Multidimensional](#scrollTo=DlQjmD-7YZns)\n",
    "\n",
    ">>[Creando Arrays](#scrollTo=9PWddxWrce5U)\n",
    "\n",
    ">>[Tipo de datos](#scrollTo=UVBAQBG0gOTV)\n",
    "\n",
    ">>[Aritmética con NumPy Array](#scrollTo=DQhuGqqahFe8)\n",
    "\n",
    ">>[Slicing e Indexing básico](#scrollTo=_tF-mjZ_idWJ)\n",
    "\n",
    ">>[Indexing con Slicing](#scrollTo=2pYCvStZoeUk)\n",
    "\n",
    ">>[Slicing en array de dos dimensiones](#scrollTo=EtaiNVier6XI)\n",
    "\n",
    ">>[Fancy Indexing](#scrollTo=BO0IJOvc0U7z)\n",
    "\n",
    ">>[Funciones universales para el manejo de arrays](#scrollTo=qGdasrMY1sK8)\n",
    "\n",
    ">[Programación con arrays](#scrollTo=bjMDpJi93Apj)\n",
    "\n"
   ]
  },
  {
   "cell_type": "markdown",
   "metadata": {
    "colab_type": "text",
    "id": "N0GJeEJQRGBh"
   },
   "source": [
    "#Numpy\n",
    "\n",
    "Numpy, es una combinación de palabras, `Numerical` y `Python`. Es uno de los paquetes más importantes en Python para el computo númerico.\n",
    "La mayoría de los paquetes que proveen cálculos científicos utilizan objetos **NumPy** como elemento para intercambio de datos.\n",
    "\n",
    "Estás son algunos elementos que utilizaremos con NumPy:\n",
    "\n",
    "* **ndarray**: Una eficiente matriz *(Array=Arreglo)* multidimensional que provee operaciones aritmeticas entre arrays de forma flexible y rápidas.\n",
    "\n",
    "* Funciones matemáticas para operar entre arrays de datos sin tener que escribir Loops. **AHHHH!**\n",
    "\n",
    "\n",
    "\n",
    "&nbsp; &nbsp; &nbsp; &nbsp;&nbsp; &nbsp; &nbsp; &nbsp; &nbsp; &nbsp; &nbsp; &nbsp;&nbsp; &nbsp; &nbsp; &nbsp; &nbsp; &nbsp; &nbsp; &nbsp; &nbsp; &nbsp; &nbsp; &nbsp; <img src=\"https://pm1.narvii.com/6240/84538693599c0871fec9e10f1fd0586fd3c284c4_hq.jpg\"  width=\"250\" height=\"250\" />\n",
    "\n",
    "* Herramientas para escribir array en disco y trabajarlos con archivos mapeados en memoria\n",
    "\n",
    "* Algebra lineal, generación aleatoria de números, y algunas transformaciones.\n",
    "\n",
    "Debido a que NumPy provee una facil de usar API (Application Programming Interface) para interactuar con otros lenguajes como C, es muy directo pasar datos de una libería externa en bajo nivel a Python.\n",
    "\n",
    "Mientras que NumPy por si mismo no provee ninguna funcionalidad de modelado o científica, entender arrays NumPy y computo de arrays, te ayudará a usar otras herramientas como **Pandas** más eficientemente.\n",
    "\n",
    "Principalmente nos focalizaremos en: \n",
    "\n",
    "* Operaciones entre arrays, data mining, y data cleaning, Filtering y transformaciones.\n",
    "\n",
    "* Operaciones entre Arrays.\n",
    "\n",
    "* Manipulación de datos mediante unión y consolidación (Join, Merge) utilizando datasets heterogéneos.\n",
    "\n",
    "* Condiciones lógicas aplicadas a arrays.\n",
    "\n",
    "Mientras que NumPy provee las bases para calculo computacional genérico, científicos de datos utilizan Pandas como el pilar de la mayoría de los desarrollos estadísticos y analíticos, especialmente con Datos tabulares. Panda también provee algunas funcionalidades que son específicas del dominio como manipulación de series.\n"
   ]
  },
  {
   "cell_type": "markdown",
   "metadata": {
    "colab_type": "text",
    "id": "Q_VOhzu1VVkE"
   },
   "source": [
    "## Comparando nmarrays y Python Arrays\n",
    "\n",
    "Una de las razones por las que NumPy es tan importante para computo númerico en Python es debido a su eficiencia en el manejo de largos arrays (Arreglos) de datos.\n",
    "\n",
    "NumPy internamente almacena los datos de forma contigua en bloques de memoria, independientemente de otros objetos Python. La librería Numpy de algoritmo puede operar en memoria sin perdida de performance. Los arrays de Numpy ocupan menos espacio que las listas de Python.\n",
    "\n",
    "**Cuál será la razón?**\n",
    "\n",
    "![](https://media1.tenor.com/images/4704d511d603640b82c2aeed0cc3af31/tenor.gif?itemid=11691381)\n",
    "\n",
    ".. Sigamos\n",
    "\n",
    "Las operaciones NumPy se comportan mejor en operaciones computacionales complejas en arrays sin la necesidad de utilizar loops de Python.\n",
    "\n",
    "Para darles una idea de la diferencia de performance, veamos el siguiente código aplicando NumPy Arrays y listas Python\n"
   ]
  },
  {
   "cell_type": "code",
   "execution_count": 0,
   "metadata": {
    "colab": {},
    "colab_type": "code",
    "id": "t2v-Iq6WQ_yV"
   },
   "outputs": [],
   "source": [
    "import numpy as np\n",
    "my_arr = np.arange(10000000)  # Utilizando NumPy Arrays\n",
    "my_list = list(range(10000000)) # Utilizando Listas Python"
   ]
  },
  {
   "cell_type": "code",
   "execution_count": 0,
   "metadata": {
    "colab": {
     "base_uri": "https://localhost:8080/",
     "height": 85
    },
    "colab_type": "code",
    "id": "oeSMbSq7YAL0",
    "outputId": "72d7395b-30e5-4980-af2b-576632428391"
   },
   "outputs": [
    {
     "name": "stdout",
     "output_type": "stream",
     "text": [
      "CPU times: user 186 ms, sys: 10.3 ms, total: 196 ms\n",
      "Wall time: 202 ms\n",
      "CPU times: user 6.37 s, sys: 1.5 s, total: 7.87 s\n",
      "Wall time: 7.88 s\n"
     ]
    }
   ],
   "source": [
    "%time for _ in range(10): my_arr2 = my_arr * 2\n",
    "%time for _ in range(10): my_list2 = [x * 2 for x in my_list]"
   ]
  },
  {
   "cell_type": "markdown",
   "metadata": {
    "colab_type": "text",
    "id": "DlQjmD-7YZns"
   },
   "source": [
    "## NumPy ndarray: Un objeto Array Multidimensional\n",
    "Uno de las principales capacidad de NumPy es el N-Dimensional array, o también conocido como **ndarray**, cual es un rápido, y flexible container de largos datasets.\n",
    "Los arreglos permiten ejecutar operaciones matemáticas en un bloque completo usando sintaxis equivalente a elementos escalares.\n",
    "\n",
    "Para darte una pequeña introducción de como NumPy puede gestionar arrays de forma similar que objetos Python, ejecutemos el siguiente código.\n"
   ]
  },
  {
   "cell_type": "code",
   "execution_count": 0,
   "metadata": {
    "colab": {
     "base_uri": "https://localhost:8080/",
     "height": 51
    },
    "colab_type": "code",
    "id": "JXPTW_eyYW-C",
    "outputId": "9c204aa5-e00f-44ab-a393-58e50837fb0b"
   },
   "outputs": [
    {
     "data": {
      "text/plain": [
       "array([[ 0.26510728, -2.4343054 ,  1.69135634],\n",
       "       [-0.59523144,  0.40002331, -0.68995011]])"
      ]
     },
     "execution_count": 31,
     "metadata": {
      "tags": []
     },
     "output_type": "execute_result"
    }
   ],
   "source": [
    "import numpy as np #Importamos Numpy\n",
    "# Generamos Data random\n",
    "data = np.random.randn(2, 3)\n",
    "data"
   ]
  },
  {
   "cell_type": "code",
   "execution_count": 0,
   "metadata": {
    "colab": {},
    "colab_type": "code",
    "id": "pvO4TysUZVys"
   },
   "outputs": [],
   "source": [
    "data * 10"
   ]
  },
  {
   "cell_type": "code",
   "execution_count": 0,
   "metadata": {
    "colab": {
     "base_uri": "https://localhost:8080/",
     "height": 51
    },
    "colab_type": "code",
    "id": "hKgOdJU-aBPP",
    "outputId": "d5e71e98-0121-4c7e-d0db-3801dd5b4cd3"
   },
   "outputs": [
    {
     "data": {
      "text/plain": [
       "array([[0.07028187, 5.92584279, 2.86068626],\n",
       "       [0.35430047, 0.16001865, 0.47603115]])"
      ]
     },
     "execution_count": 104,
     "metadata": {
      "tags": []
     },
     "output_type": "execute_result"
    }
   ],
   "source": [
    "data * data #Multiplo - Corregir agregar Multiplo matrices 3 x 3"
   ]
  },
  {
   "cell_type": "code",
   "execution_count": 0,
   "metadata": {
    "colab": {},
    "colab_type": "code",
    "id": "eKq3zYeLZYgk"
   },
   "outputs": [],
   "source": [
    "data.shape"
   ]
  },
  {
   "cell_type": "code",
   "execution_count": 0,
   "metadata": {
    "colab": {},
    "colab_type": "code",
    "id": "6EJx2tebu1JI"
   },
   "outputs": [],
   "source": [
    "data?"
   ]
  },
  {
   "cell_type": "code",
   "execution_count": 0,
   "metadata": {
    "colab": {
     "base_uri": "https://localhost:8080/",
     "height": 34
    },
    "colab_type": "code",
    "id": "i_tQHeYBZugL",
    "outputId": "63e50b04-9fec-4b44-d3a1-1fcb8202e905"
   },
   "outputs": [
    {
     "data": {
      "text/plain": [
       "dtype('float64')"
      ]
     },
     "execution_count": 42,
     "metadata": {
      "tags": []
     },
     "output_type": "execute_result"
    }
   ],
   "source": [
    "data.dtype"
   ]
  },
  {
   "cell_type": "code",
   "execution_count": 0,
   "metadata": {
    "colab": {
     "base_uri": "https://localhost:8080/",
     "height": 51
    },
    "colab_type": "code",
    "id": "53gcV4d-0_8w",
    "outputId": "1e4c4b9d-c604-4b7e-da6a-bc50bea2d8bd"
   },
   "outputs": [
    {
     "data": {
      "text/plain": [
       "matrix([[ 4,  7],\n",
       "        [10, 17]])"
      ]
     },
     "execution_count": 16,
     "metadata": {
      "tags": []
     },
     "output_type": "execute_result"
    }
   ],
   "source": [
    "# Producto entre matrices\n",
    "a = np.matrix([[1, 2], [3, 4]]) \n",
    "b = np.matrix([[2,3], [1,2]])\n",
    "\n",
    "c = np.dot(a,b) #función producto de matrices\n",
    "c\n"
   ]
  },
  {
   "cell_type": "markdown",
   "metadata": {
    "colab_type": "text",
    "id": "9PWddxWrce5U"
   },
   "source": [
    "## Creando Arrays\n",
    "\n",
    "La forma más simple de crear arrays es utilizando la función array. Dicha función acepta secuencia de objetos, incluidos otros arrays, y produce un nuevo array NumPy que contiene la data que se ha pasado. Por ejemplo:"
   ]
  },
  {
   "cell_type": "code",
   "execution_count": 0,
   "metadata": {
    "colab": {},
    "colab_type": "code",
    "id": "9hB38rp4cf8l"
   },
   "outputs": [],
   "source": [
    "data1 = [6, 7.5, 8, 0, 1] #Lista Python\n",
    "arr1 = np.array(data1) #NumPy Array\n",
    "arr1\n"
   ]
  },
  {
   "cell_type": "markdown",
   "metadata": {
    "colab_type": "text",
    "id": "remDj1B-dl9d"
   },
   "source": [
    "Secuencias anidades, son convertidas a arrays multidimensionales.\n"
   ]
  },
  {
   "cell_type": "code",
   "execution_count": 0,
   "metadata": {
    "colab": {
     "base_uri": "https://localhost:8080/",
     "height": 51
    },
    "colab_type": "code",
    "id": "yYjbd1A7cfj_",
    "outputId": "98a30903-d37f-4a10-90b3-0ee1752205c5"
   },
   "outputs": [
    {
     "data": {
      "text/plain": [
       "array([[1, 2, 3, 4],\n",
       "       [5, 6, 7, 8]])"
      ]
     },
     "execution_count": 46,
     "metadata": {
      "tags": []
     },
     "output_type": "execute_result"
    }
   ],
   "source": [
    "data2 = [[1, 2, 3, 4], [5, 6, 7, 8]] # Anido dos Listas\n",
    "arr2 = np.array(data2) # Lo convierto en Array\n",
    "arr2"
   ]
  },
  {
   "cell_type": "code",
   "execution_count": 0,
   "metadata": {
    "colab": {
     "base_uri": "https://localhost:8080/",
     "height": 34
    },
    "colab_type": "code",
    "id": "Zp2IMdMIcehN",
    "outputId": "816bf21b-b41a-4f70-96f8-60785854576c"
   },
   "outputs": [
    {
     "data": {
      "text/plain": [
       "2"
      ]
     },
     "execution_count": 47,
     "metadata": {
      "tags": []
     },
     "output_type": "execute_result"
    }
   ],
   "source": [
    "arr2.ndim"
   ]
  },
  {
   "cell_type": "code",
   "execution_count": 0,
   "metadata": {
    "colab": {
     "base_uri": "https://localhost:8080/",
     "height": 34
    },
    "colab_type": "code",
    "id": "Te6ZYfabc4IM",
    "outputId": "fca70b61-6180-42b9-e63b-5e868b9723d3"
   },
   "outputs": [
    {
     "data": {
      "text/plain": [
       "(2, 4)"
      ]
     },
     "execution_count": 48,
     "metadata": {
      "tags": []
     },
     "output_type": "execute_result"
    }
   ],
   "source": [
    "arr2.shape"
   ]
  },
  {
   "cell_type": "code",
   "execution_count": 0,
   "metadata": {
    "colab": {},
    "colab_type": "code",
    "id": "T-2AxsgZRv5i"
   },
   "outputs": [],
   "source": [
    "data3 = [[1,2,3,4], arr1] #Que sucede aquí?\n",
    "data3"
   ]
  },
  {
   "cell_type": "markdown",
   "metadata": {
    "colab_type": "text",
    "id": "iLdTYwT2d28c"
   },
   "source": [
    "Al menos que se especifique, **np.array** intenta inferir el mejor tipo de dato para el array creado. El tipo de dato es almacenado en un tipo especial de metadato. Por ejemplo:"
   ]
  },
  {
   "cell_type": "code",
   "execution_count": 0,
   "metadata": {
    "colab": {
     "base_uri": "https://localhost:8080/",
     "height": 34
    },
    "colab_type": "code",
    "id": "Vk_bDoGAceS_",
    "outputId": "b61bdd94-7e24-459d-a9ff-b81cb9f88d1e"
   },
   "outputs": [
    {
     "data": {
      "text/plain": [
       "dtype('float64')"
      ]
     },
     "execution_count": 50,
     "metadata": {
      "tags": []
     },
     "output_type": "execute_result"
    }
   ],
   "source": [
    "arr1.dtype # Tipo de dato array1"
   ]
  },
  {
   "cell_type": "code",
   "execution_count": 0,
   "metadata": {
    "colab": {
     "base_uri": "https://localhost:8080/",
     "height": 34
    },
    "colab_type": "code",
    "id": "hmAiRMgLc8uu",
    "outputId": "00fdb14d-2d01-4b4f-8564-7ad70faad2ad"
   },
   "outputs": [
    {
     "data": {
      "text/plain": [
       "dtype('int64')"
      ]
     },
     "execution_count": 51,
     "metadata": {
      "tags": []
     },
     "output_type": "execute_result"
    }
   ],
   "source": [
    "arr2.dtype # Tipo de dato array2"
   ]
  },
  {
   "cell_type": "markdown",
   "metadata": {
    "colab_type": "text",
    "id": "OlzcMwHSePKv"
   },
   "source": [
    "Adicionalmente, **np.array** posee un número de funciones para crear nuevos arrays. Por ejemplo, crear arrays solo con ceros y unos respectivamente, con una dada longitud y forma.\n"
   ]
  },
  {
   "cell_type": "code",
   "execution_count": 0,
   "metadata": {
    "colab": {
     "base_uri": "https://localhost:8080/",
     "height": 34
    },
    "colab_type": "code",
    "id": "cfPJxRgAcqJ7",
    "outputId": "f091a3a4-9a9a-4f88-a56d-6965e60a55b6"
   },
   "outputs": [
    {
     "data": {
      "text/plain": [
       "array([0., 0., 0., 0., 0., 0., 0., 0., 0., 0.])"
      ]
     },
     "execution_count": 52,
     "metadata": {
      "tags": []
     },
     "output_type": "execute_result"
    }
   ],
   "source": [
    "np.zeros(10)"
   ]
  },
  {
   "cell_type": "code",
   "execution_count": 0,
   "metadata": {
    "colab": {
     "base_uri": "https://localhost:8080/",
     "height": 102
    },
    "colab_type": "code",
    "id": "XhMOOZDheo6A",
    "outputId": "eb5bd410-2a6a-45ff-a6b9-2ff2ff4f4b09"
   },
   "outputs": [
    {
     "data": {
      "text/plain": [
       "array([[0., 0., 0., 0., 0., 0., 0., 0., 0., 0.],\n",
       "       [0., 0., 0., 0., 0., 0., 0., 0., 0., 0.],\n",
       "       [0., 0., 0., 0., 0., 0., 0., 0., 0., 0.],\n",
       "       [0., 0., 0., 0., 0., 0., 0., 0., 0., 0.],\n",
       "       [0., 0., 0., 0., 0., 0., 0., 0., 0., 0.]])"
      ]
     },
     "execution_count": 57,
     "metadata": {
      "tags": []
     },
     "output_type": "execute_result"
    }
   ],
   "source": [
    "arr4 = np.zeros((5, 10)) #3 filas 6 columnas de ceros\n",
    "arr4"
   ]
  },
  {
   "cell_type": "markdown",
   "metadata": {
    "colab_type": "text",
    "id": "Mle0OOiTe77_"
   },
   "source": [
    "Con una longitud particular, **np.empty** crea un array sin inicializar y sin valores particulares."
   ]
  },
  {
   "cell_type": "code",
   "execution_count": 0,
   "metadata": {
    "colab": {},
    "colab_type": "code",
    "id": "U91sWuI4eomP"
   },
   "outputs": [],
   "source": [
    "np.empty((4,3, 2)) #Array de 2 objetos de 3 filas y 2 columnas cada uno"
   ]
  },
  {
   "cell_type": "code",
   "execution_count": 0,
   "metadata": {
    "colab": {},
    "colab_type": "code",
    "id": "i05aMkUycspA"
   },
   "outputs": [],
   "source": [
    "np.arange(15)"
   ]
  },
  {
   "cell_type": "markdown",
   "metadata": {
    "colab_type": "text",
    "id": "UVBAQBG0gOTV"
   },
   "source": [
    "## Tipo de datos\n",
    "\n",
    "Puedes explicitamente convertir o castear un array de un tipo de dato a otro usando el método **astype** \n"
   ]
  },
  {
   "cell_type": "code",
   "execution_count": 0,
   "metadata": {
    "colab": {
     "base_uri": "https://localhost:8080/",
     "height": 34
    },
    "colab_type": "code",
    "id": "RyyZspZ2gOB4",
    "outputId": "6bad8472-b04b-49ef-db97-f3ad9babee7b"
   },
   "outputs": [
    {
     "data": {
      "text/plain": [
       "dtype('int64')"
      ]
     },
     "execution_count": 64,
     "metadata": {
      "tags": []
     },
     "output_type": "execute_result"
    }
   ],
   "source": [
    "arr = np.array([1, 2, 3, 4, 5])\n",
    "arr.dtype"
   ]
  },
  {
   "cell_type": "code",
   "execution_count": 0,
   "metadata": {
    "colab": {
     "base_uri": "https://localhost:8080/",
     "height": 34
    },
    "colab_type": "code",
    "id": "UaJhu9GIg1Rl",
    "outputId": "6e9e4526-f3ae-470b-e943-101a41cef1f0"
   },
   "outputs": [
    {
     "name": "stdout",
     "output_type": "stream",
     "text": [
      "[1. 2. 3. 4. 5.]\n"
     ]
    }
   ],
   "source": [
    "float_arr = arr.astype(np.float64) # Tomamos el array arr y lo casteamos a float\n",
    "float_arr.dtype\n",
    "print (float_arr)"
   ]
  },
  {
   "cell_type": "markdown",
   "metadata": {
    "colab_type": "text",
    "id": "DQhuGqqahFe8"
   },
   "source": [
    "## Aritmética con NumPy Array\n",
    "\n",
    "Arrays son importante porque permite expresar operaciones batch en datos sin tener que escribir loops. Cualquier operación aritmética entre arrays del mismo tamaño aplica la operación a través de los elementos.\n"
   ]
  },
  {
   "cell_type": "code",
   "execution_count": 0,
   "metadata": {
    "colab": {},
    "colab_type": "code",
    "id": "wT__zk1khf2F"
   },
   "outputs": [],
   "source": [
    "arr = np.array([[1., 2., 3.], [4., 5., 6.]])\n",
    "print (arr)\n",
    "print ('\\n')\n",
    "print (arr * arr)\n",
    "print ('\\n')\n",
    "print (arr - arr)\n",
    "print ('\\n')"
   ]
  },
  {
   "cell_type": "code",
   "execution_count": 0,
   "metadata": {
    "colab": {},
    "colab_type": "code",
    "id": "3EsdOBMOiCtL"
   },
   "outputs": [],
   "source": [
    "print (1 / arr)\n",
    "print ('\\n')\n",
    "print (arr ** 0.5)"
   ]
  },
  {
   "cell_type": "code",
   "execution_count": 0,
   "metadata": {
    "colab": {
     "base_uri": "https://localhost:8080/",
     "height": 51
    },
    "colab_type": "code",
    "id": "6isJZhSyiGfw",
    "outputId": "ef6b7b07-0517-4990-e1a6-53ab43b92122"
   },
   "outputs": [
    {
     "data": {
      "text/plain": [
       "array([[ 0.,  4.,  1.],\n",
       "       [ 7.,  2., 12.]])"
      ]
     },
     "execution_count": 70,
     "metadata": {
      "tags": []
     },
     "output_type": "execute_result"
    }
   ],
   "source": [
    "arr2 = np.array([[0., 4., 1.], [7., 2., 12.]])\n",
    "arr2"
   ]
  },
  {
   "cell_type": "code",
   "execution_count": 0,
   "metadata": {
    "colab": {
     "base_uri": "https://localhost:8080/",
     "height": 51
    },
    "colab_type": "code",
    "id": "sKaMGP8WiJk7",
    "outputId": "ea3a1666-d74a-48f7-98ac-34d273c79123"
   },
   "outputs": [
    {
     "data": {
      "text/plain": [
       "array([[False,  True, False],\n",
       "       [ True, False,  True]])"
      ]
     },
     "execution_count": 71,
     "metadata": {
      "tags": []
     },
     "output_type": "execute_result"
    }
   ],
   "source": [
    "arr2 > arr #Devolverá un True o False"
   ]
  },
  {
   "cell_type": "markdown",
   "metadata": {
    "colab_type": "text",
    "id": "_tF-mjZ_idWJ"
   },
   "source": [
    "## Slicing e Indexing básico\n",
    "\n",
    "Los índices en arrays NumPuy permiten seleccionar un subset individual de elementos. Los arrays simples son similares en comportamiento a las listas. Pero a medida que avanzamos, utilizar NumPy arrays es mucho mas útil."
   ]
  },
  {
   "cell_type": "code",
   "execution_count": 0,
   "metadata": {
    "colab": {
     "base_uri": "https://localhost:8080/",
     "height": 34
    },
    "colab_type": "code",
    "id": "bbDcV427i_Il",
    "outputId": "b6688f0e-ea0d-4eae-e0ea-ad2b29241491"
   },
   "outputs": [
    {
     "data": {
      "text/plain": [
       "array([0, 1, 2, 3, 4, 5, 6, 7, 8, 9])"
      ]
     },
     "execution_count": 72,
     "metadata": {
      "tags": []
     },
     "output_type": "execute_result"
    }
   ],
   "source": [
    "arr = np.arange(10)\n",
    "arr"
   ]
  },
  {
   "cell_type": "code",
   "execution_count": 0,
   "metadata": {
    "colab": {},
    "colab_type": "code",
    "id": "HhBy6uhmjDhf"
   },
   "outputs": [],
   "source": [
    "print (arr[5])\n",
    "print (arr[5:8])\n",
    "arr[5:8] = 12\n",
    "print (arr)"
   ]
  },
  {
   "cell_type": "markdown",
   "metadata": {
    "colab_type": "text",
    "id": "Bvy-8GSqjiZv"
   },
   "source": [
    "El slice vacío asignará el mismo valor a todo el array\n"
   ]
  },
  {
   "cell_type": "code",
   "execution_count": 0,
   "metadata": {
    "colab": {
     "base_uri": "https://localhost:8080/",
     "height": 51
    },
    "colab_type": "code",
    "id": "j_pe8YHqjp3w",
    "outputId": "e5de576d-46f5-4c75-84e4-134a7543f8ab"
   },
   "outputs": [
    {
     "name": "stdout",
     "output_type": "stream",
     "text": [
      "[0. 0. 0. 0. 0. 0. 0. 0. 0. 0.]\n"
     ]
    },
    {
     "data": {
      "text/plain": [
       "array([64., 64., 64., 64., 64., 64., 64., 64., 64., 64.])"
      ]
     },
     "execution_count": 75,
     "metadata": {
      "tags": []
     },
     "output_type": "execute_result"
    }
   ],
   "source": [
    "arr_slice = np.zeros(10)\n",
    "print(arr_slice)\n",
    "arr_slice[:] = 64\n",
    "arr_slice"
   ]
  },
  {
   "cell_type": "markdown",
   "metadata": {
    "colab_type": "text",
    "id": "Jq3-CKKhkJ8p"
   },
   "source": [
    "Con arrays de mayor dimensión, tienes muchas opciones. En un array de dos dimensiones, los elementos de cada índice no son más escalare, sino arrays de una dimensión.\n"
   ]
  },
  {
   "cell_type": "code",
   "execution_count": 0,
   "metadata": {
    "colab": {
     "base_uri": "https://localhost:8080/",
     "height": 51
    },
    "colab_type": "code",
    "id": "7uHsf8p0khHK",
    "outputId": "49dd24bb-8086-4f69-e232-a20e82929c37"
   },
   "outputs": [
    {
     "data": {
      "text/plain": [
       "array([[4, 5],\n",
       "       [7, 8]])"
      ]
     },
     "execution_count": 7,
     "metadata": {
      "tags": []
     },
     "output_type": "execute_result"
    }
   ],
   "source": [
    "import numpy as np\n",
    "arr2d = np.array([[1, 2, 3], [4, 5, 6], [7, 8, 9]])\n",
    "arr2d[1:, :2]\n"
   ]
  },
  {
   "cell_type": "markdown",
   "metadata": {
    "colab_type": "text",
    "id": "1fnPvP0YlYm7"
   },
   "source": [
    "Una forma fácil de ver los arrays multidimensionales es por ejemplo de la siguiente forma.\n",
    "Tomamos el Eje 0 (axis 0) como las filas, y el Eje 1 (axis 1) como las columnas\n",
    "\n",
    "<img src=\"https://github.com/al34n1x/datascience/blob/master/img/array.png?raw=true\" width=\"400\" height=\"300\" />\n",
    "\n"
   ]
  },
  {
   "cell_type": "markdown",
   "metadata": {
    "colab_type": "text",
    "id": "2pYCvStZoeUk"
   },
   "source": [
    "## Indexing con Slicing\n",
    "\n",
    "Indices y Slices funcionan de la misma manera en arrays que en listas.\n",
    "Así mismo podemos combinar el uso de índices con slices para extraer subitems de posiciones específicas del array."
   ]
  },
  {
   "cell_type": "code",
   "execution_count": 0,
   "metadata": {
    "colab": {},
    "colab_type": "code",
    "id": "HmHSPWrYoeBw"
   },
   "outputs": [],
   "source": [
    "print (arr2d)\n",
    "print ('\\n')\n",
    "arr2d[:2, 1:] # Del primer item extraemos los números desde la posición 1 en adelante, \n",
    "              # y del segundo ítem del array extraemos desde la posición 1 en adelante"
   ]
  },
  {
   "cell_type": "code",
   "execution_count": 0,
   "metadata": {
    "colab": {
     "base_uri": "https://localhost:8080/",
     "height": 34
    },
    "colab_type": "code",
    "id": "8v0fX8YtUIWq",
    "outputId": "165e4e05-f839-42e7-c0b9-d806d5b49a48"
   },
   "outputs": [
    {
     "data": {
      "text/plain": [
       "[2, 3]"
      ]
     },
     "execution_count": 3,
     "metadata": {
      "tags": []
     },
     "output_type": "execute_result"
    }
   ],
   "source": [
    "list = [1,2,3,4,5]\n",
    "list [1:3]"
   ]
  },
  {
   "cell_type": "markdown",
   "metadata": {
    "colab_type": "text",
    "id": "0rNcdGXDqAA6"
   },
   "source": [
    "Cuando rebanamos de esta forma, obtenemos vista de arrays dentro del mismo numero de dimensiones. Mezclando índices enteros y slides, podes obtener  rebanadas de una dimensión inferior.\n",
    "\n",
    "Por ejemplo, puedo seleccionar la segunda fila pero solo las primeras dos columnas de la misma mediante la siguiente sentencia.\n"
   ]
  },
  {
   "cell_type": "code",
   "execution_count": 0,
   "metadata": {
    "colab": {
     "base_uri": "https://localhost:8080/",
     "height": 34
    },
    "colab_type": "code",
    "id": "7hhvkJUzpvdy",
    "outputId": "32ac55f3-fb6c-4c5c-fbc4-b16c7507b71d"
   },
   "outputs": [
    {
     "data": {
      "text/plain": [
       "array([1, 4])"
      ]
     },
     "execution_count": 81,
     "metadata": {
      "tags": []
     },
     "output_type": "execute_result"
    }
   ],
   "source": [
    "arr2d[:2, 0]"
   ]
  },
  {
   "cell_type": "markdown",
   "metadata": {
    "colab_type": "text",
    "id": "vbDP5MBbqlCH"
   },
   "source": [
    "Similarmente, puedes seleccionar la tercera columna pero solo la primera fila con la siguiente sentencia.\n",
    "\n"
   ]
  },
  {
   "cell_type": "code",
   "execution_count": 0,
   "metadata": {
    "colab": {
     "base_uri": "https://localhost:8080/",
     "height": 119
    },
    "colab_type": "code",
    "id": "APlzNugyqxH9",
    "outputId": "1fe4a085-1b2d-4b67-8455-fb5be28027cf"
   },
   "outputs": [
    {
     "name": "stdout",
     "output_type": "stream",
     "text": [
      "[[1 2 3]\n",
      " [4 5 6]\n",
      " [7 8 9]]\n",
      "\n",
      "\n"
     ]
    },
    {
     "data": {
      "text/plain": [
       "array([3, 6])"
      ]
     },
     "execution_count": 82,
     "metadata": {
      "tags": []
     },
     "output_type": "execute_result"
    }
   ],
   "source": [
    "print (arr2d)\n",
    "print ('\\n')\n",
    "arr2d[:2, 2]"
   ]
  },
  {
   "cell_type": "code",
   "execution_count": 0,
   "metadata": {
    "colab": {
     "base_uri": "https://localhost:8080/",
     "height": 153
    },
    "colab_type": "code",
    "id": "M7V5YCF_rYin",
    "outputId": "5232efc1-3c91-4a61-bec4-46a25ea2cada"
   },
   "outputs": [
    {
     "name": "stdout",
     "output_type": "stream",
     "text": [
      "[[1 2 3]\n",
      " [4 5 6]\n",
      " [7 8 9]]\n",
      "\n",
      "\n"
     ]
    },
    {
     "data": {
      "text/plain": [
       "array([[1],\n",
       "       [4],\n",
       "       [7]])"
      ]
     },
     "execution_count": 83,
     "metadata": {
      "tags": []
     },
     "output_type": "execute_result"
    }
   ],
   "source": [
    "print (arr2d)\n",
    "print ('\\n')\n",
    "arr2d[:, :1] #Que me mostrará?"
   ]
  },
  {
   "cell_type": "markdown",
   "metadata": {
    "colab_type": "text",
    "id": "EtaiNVier6XI"
   },
   "source": [
    "## Slicing en array de dos dimensiones\n",
    "\n",
    "Este gráfico puede ayudarte durante tu trabajo desarrollando código con NumPy.\n",
    "\n",
    "\n",
    "<img src=\"https://github.com/al34n1x/datascience/blob/master/img/array_shapes.png?raw=true\" width=\"380\" height=\"400\" />\n"
   ]
  },
  {
   "cell_type": "code",
   "execution_count": 0,
   "metadata": {
    "colab": {
     "base_uri": "https://localhost:8080/",
     "height": 68
    },
    "colab_type": "code",
    "id": "MWdgCsa4sR6y",
    "outputId": "07f9a265-3935-46ae-a7df-eb53599c7fd8"
   },
   "outputs": [
    {
     "data": {
      "text/plain": [
       "array([[1, 0, 0],\n",
       "       [4, 0, 0],\n",
       "       [7, 8, 9]])"
      ]
     },
     "execution_count": 84,
     "metadata": {
      "tags": []
     },
     "output_type": "execute_result"
    }
   ],
   "source": [
    "arr2d[:2, 1:] = 0\n",
    "arr2d"
   ]
  },
  {
   "cell_type": "markdown",
   "metadata": {
    "colab_type": "text",
    "id": "BO0IJOvc0U7z"
   },
   "source": [
    "## Fancy Indexing\n",
    "\n",
    "Fancy Indexing es un termino adoptado por NumPy para describir el uso de índices utilizando arreglos de enteros. Supongamos un array de  8 x 4:"
   ]
  },
  {
   "cell_type": "code",
   "execution_count": 0,
   "metadata": {
    "colab": {
     "base_uri": "https://localhost:8080/",
     "height": 153
    },
    "colab_type": "code",
    "id": "A8C1osX90pH8",
    "outputId": "c1b0de60-6c5c-4011-9811-7b68b65d5abd"
   },
   "outputs": [
    {
     "data": {
      "text/plain": [
       "array([[0., 0., 0., 0.],\n",
       "       [1., 1., 1., 1.],\n",
       "       [2., 2., 2., 2.],\n",
       "       [3., 3., 3., 3.],\n",
       "       [4., 4., 4., 4.],\n",
       "       [5., 5., 5., 5.],\n",
       "       [6., 6., 6., 6.],\n",
       "       [7., 7., 7., 7.]])"
      ]
     },
     "execution_count": 85,
     "metadata": {
      "tags": []
     },
     "output_type": "execute_result"
    }
   ],
   "source": [
    "arr = np.empty((8, 4))\n",
    "for i in range(8):\n",
    "  arr[i] = i\n",
    "\n",
    "arr"
   ]
  },
  {
   "cell_type": "markdown",
   "metadata": {
    "colab_type": "text",
    "id": "kf69K1w609_6"
   },
   "source": [
    "Para seleccionar un subset de filas en un orden particular, simplemente le pasas una lista o un ndarray de enteros especificando el orden deseado:\n"
   ]
  },
  {
   "cell_type": "code",
   "execution_count": 0,
   "metadata": {
    "colab": {},
    "colab_type": "code",
    "id": "edm246U309T4"
   },
   "outputs": [],
   "source": [
    "arr[[4, 3, 0, 6]]"
   ]
  },
  {
   "cell_type": "markdown",
   "metadata": {
    "colab_type": "text",
    "id": "qGdasrMY1sK8"
   },
   "source": [
    "## Funciones universales para el manejo de arrays\n",
    "\n",
    "Una función universal o **ufunc** es una función que puede aplicarse a todos los datos del ndarray. Puedes pensar como funciones simples que pueden tomar un valor escalar y producir muchos escalares como resultado.\n"
   ]
  },
  {
   "cell_type": "code",
   "execution_count": 0,
   "metadata": {
    "colab": {
     "base_uri": "https://localhost:8080/",
     "height": 68
    },
    "colab_type": "code",
    "id": "xGo-qR_a2IQz",
    "outputId": "d566040c-9dd4-4c09-d61d-c4c00b10bf9c"
   },
   "outputs": [
    {
     "name": "stdout",
     "output_type": "stream",
     "text": [
      "[0 1 2 3 4 5 6 7 8 9]\n"
     ]
    },
    {
     "data": {
      "text/plain": [
       "array([0.        , 1.        , 1.41421356, 1.73205081, 2.        ,\n",
       "       2.23606798, 2.44948974, 2.64575131, 2.82842712, 3.        ])"
      ]
     },
     "execution_count": 88,
     "metadata": {
      "tags": []
     },
     "output_type": "execute_result"
    }
   ],
   "source": [
    "arr = np.arange(10)\n",
    "print(arr)\n",
    "np.sqrt(arr) # Nos dara la raíz cuadrada de todos los elementos del array."
   ]
  },
  {
   "cell_type": "code",
   "execution_count": 0,
   "metadata": {
    "colab": {},
    "colab_type": "code",
    "id": "xzuoEYag2Wf6"
   },
   "outputs": [],
   "source": [
    "np.exp(arr) # Que hará esta función?\n",
    "np"
   ]
  },
  {
   "cell_type": "markdown",
   "metadata": {
    "colab_type": "text",
    "id": "7qH18aun2nlX"
   },
   "source": [
    "Existen otras funciones binarias, que necesitan de dos argumentos para operar, por ejemplo las funciones Max o Min"
   ]
  },
  {
   "cell_type": "code",
   "execution_count": 0,
   "metadata": {
    "colab": {
     "base_uri": "https://localhost:8080/",
     "height": 51
    },
    "colab_type": "code",
    "id": "zEIZqFX22u-b",
    "outputId": "54b1089e-1b13-40ad-ca03-6c72a19cfd92"
   },
   "outputs": [
    {
     "data": {
      "text/plain": [
       "array([ 0.11324984,  0.84642197, -1.40405964,  1.45160208, -0.54261713,\n",
       "       -0.96082837,  1.21378291,  0.29392378])"
      ]
     },
     "execution_count": 91,
     "metadata": {
      "tags": []
     },
     "output_type": "execute_result"
    }
   ],
   "source": [
    "x = np.random.randn(8)\n",
    "y = np.random.randn(8)\n",
    "np.maximum(x, y)"
   ]
  },
  {
   "cell_type": "markdown",
   "metadata": {
    "colab_type": "text",
    "id": "bjMDpJi93Apj"
   },
   "source": [
    "# Programación con arrays\n",
    "\n",
    "Usar arrays Numpy permite expresar diferentes tipo de datos como expresiones concisas de arrays, que de otra manera requerirían utilizar loops.\n",
    "Está práctica de reemplazaz de forma explicita el uso de loops con expresiones de array se conoce comunment como vectorización. En general, vectorizar operacioes de array serán mucho más rápidas que su contraparte pura en Python.\n",
    "\n",
    "Como ejemplo, supongamos evaluar la función `sqrt(x^2 + y^2)` a través de una grilla de valores. La función **np.meshgrid** toma dos arrays de 1 dimension y produce dos arrays de dos dimensiones correspondiente al par (x,y) en dos arrays:\n",
    "\n"
   ]
  },
  {
   "cell_type": "code",
   "execution_count": 0,
   "metadata": {
    "colab": {
     "base_uri": "https://localhost:8080/",
     "height": 255
    },
    "colab_type": "code",
    "id": "jRWneVHU3ART",
    "outputId": "3ad2e1fd-4b87-4d65-f181-9fd0afde2326"
   },
   "outputs": [
    {
     "data": {
      "text/plain": [
       "[array([[0.  , 0.01, 0.02, ..., 9.97, 9.98, 9.99],\n",
       "        [0.  , 0.01, 0.02, ..., 9.97, 9.98, 9.99],\n",
       "        [0.  , 0.01, 0.02, ..., 9.97, 9.98, 9.99],\n",
       "        ...,\n",
       "        [0.  , 0.01, 0.02, ..., 9.97, 9.98, 9.99],\n",
       "        [0.  , 0.01, 0.02, ..., 9.97, 9.98, 9.99],\n",
       "        [0.  , 0.01, 0.02, ..., 9.97, 9.98, 9.99]]),\n",
       " array([[0.  , 0.  , 0.  , ..., 0.  , 0.  , 0.  ],\n",
       "        [0.01, 0.01, 0.01, ..., 0.01, 0.01, 0.01],\n",
       "        [0.02, 0.02, 0.02, ..., 0.02, 0.02, 0.02],\n",
       "        ...,\n",
       "        [9.97, 9.97, 9.97, ..., 9.97, 9.97, 9.97],\n",
       "        [9.98, 9.98, 9.98, ..., 9.98, 9.98, 9.98],\n",
       "        [9.99, 9.99, 9.99, ..., 9.99, 9.99, 9.99]])]"
      ]
     },
     "execution_count": 92,
     "metadata": {
      "tags": []
     },
     "output_type": "execute_result"
    }
   ],
   "source": [
    "points = np.arange(0, 10, 0.01) # 1000 equally spaced points\n",
    "xs = np.meshgrid(points, points)\n",
    "ys = np.meshgrid(points, points)\n",
    "ys"
   ]
  },
  {
   "cell_type": "code",
   "execution_count": 0,
   "metadata": {
    "colab": {
     "base_uri": "https://localhost:8080/",
     "height": 952
    },
    "colab_type": "code",
    "id": "Zsb41P2M427t",
    "outputId": "154b4d50-a763-4cd0-9e34-afa938cf8745"
   },
   "outputs": [
    {
     "data": {
      "text/plain": [
       "array([[[0.        , 0.1       , 0.14142136, ..., 3.15753068,\n",
       "         3.1591138 , 3.16069613],\n",
       "        [0.        , 0.1       , 0.14142136, ..., 3.15753068,\n",
       "         3.1591138 , 3.16069613],\n",
       "        [0.        , 0.1       , 0.14142136, ..., 3.15753068,\n",
       "         3.1591138 , 3.16069613],\n",
       "        ...,\n",
       "        [0.        , 0.1       , 0.14142136, ..., 3.15753068,\n",
       "         3.1591138 , 3.16069613],\n",
       "        [0.        , 0.1       , 0.14142136, ..., 3.15753068,\n",
       "         3.1591138 , 3.16069613],\n",
       "        [0.        , 0.1       , 0.14142136, ..., 3.15753068,\n",
       "         3.1591138 , 3.16069613]],\n",
       "\n",
       "       [[0.        , 0.        , 0.        , ..., 0.        ,\n",
       "         0.        , 0.        ],\n",
       "        [0.1       , 0.1       , 0.1       , ..., 0.1       ,\n",
       "         0.1       , 0.1       ],\n",
       "        [0.14142136, 0.14142136, 0.14142136, ..., 0.14142136,\n",
       "         0.14142136, 0.14142136],\n",
       "        ...,\n",
       "        [3.15753068, 3.15753068, 3.15753068, ..., 3.15753068,\n",
       "         3.15753068, 3.15753068],\n",
       "        [3.1591138 , 3.1591138 , 3.1591138 , ..., 3.1591138 ,\n",
       "         3.1591138 , 3.1591138 ],\n",
       "        [3.16069613, 3.16069613, 3.16069613, ..., 3.16069613,\n",
       "         3.16069613, 3.16069613]],\n",
       "\n",
       "       [[0.        , 0.1       , 0.14142136, ..., 3.15753068,\n",
       "         3.1591138 , 3.16069613],\n",
       "        [0.        , 0.1       , 0.14142136, ..., 3.15753068,\n",
       "         3.1591138 , 3.16069613],\n",
       "        [0.        , 0.1       , 0.14142136, ..., 3.15753068,\n",
       "         3.1591138 , 3.16069613],\n",
       "        ...,\n",
       "        [0.        , 0.1       , 0.14142136, ..., 3.15753068,\n",
       "         3.1591138 , 3.16069613],\n",
       "        [0.        , 0.1       , 0.14142136, ..., 3.15753068,\n",
       "         3.1591138 , 3.16069613],\n",
       "        [0.        , 0.1       , 0.14142136, ..., 3.15753068,\n",
       "         3.1591138 , 3.16069613]],\n",
       "\n",
       "       [[0.        , 0.        , 0.        , ..., 0.        ,\n",
       "         0.        , 0.        ],\n",
       "        [0.1       , 0.1       , 0.1       , ..., 0.1       ,\n",
       "         0.1       , 0.1       ],\n",
       "        [0.14142136, 0.14142136, 0.14142136, ..., 0.14142136,\n",
       "         0.14142136, 0.14142136],\n",
       "        ...,\n",
       "        [3.15753068, 3.15753068, 3.15753068, ..., 3.15753068,\n",
       "         3.15753068, 3.15753068],\n",
       "        [3.1591138 , 3.1591138 , 3.1591138 , ..., 3.1591138 ,\n",
       "         3.1591138 , 3.1591138 ],\n",
       "        [3.16069613, 3.16069613, 3.16069613, ..., 3.16069613,\n",
       "         3.16069613, 3.16069613]]])"
      ]
     },
     "execution_count": 93,
     "metadata": {
      "tags": []
     },
     "output_type": "execute_result"
    }
   ],
   "source": [
    "z = np.sqrt(xs + ys)\n",
    "z"
   ]
  }
 ],
 "metadata": {
  "colab": {
   "authorship_tag": "ABX9TyNM0iETbudHtlm5gXZKzJ/k",
   "collapsed_sections": [],
   "include_colab_link": true,
   "name": "NumPy.ipynb",
   "provenance": []
  },
  "kernelspec": {
   "display_name": "Python 3",
   "language": "python",
   "name": "python3"
  },
  "language_info": {
   "codemirror_mode": {
    "name": "ipython",
    "version": 3
   },
   "file_extension": ".py",
   "mimetype": "text/x-python",
   "name": "python",
   "nbconvert_exporter": "python",
   "pygments_lexer": "ipython3",
   "version": "3.7.6"
  }
 },
 "nbformat": 4,
 "nbformat_minor": 1
}
